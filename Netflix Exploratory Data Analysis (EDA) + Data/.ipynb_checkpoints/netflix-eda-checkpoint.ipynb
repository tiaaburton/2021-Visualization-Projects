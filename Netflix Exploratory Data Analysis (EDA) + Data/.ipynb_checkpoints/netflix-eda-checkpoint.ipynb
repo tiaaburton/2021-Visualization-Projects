{
 "cells": [
  {
   "cell_type": "code",
   "execution_count": null,
   "metadata": {},
   "outputs": [],
   "source": []
  },
  {
   "cell_type": "code",
   "execution_count": 2,
   "metadata": {
    "_cell_guid": "b1076dfc-b9ad-4769-8c92-a6c4dae69d19",
    "_uuid": "8f2839f25d086af736a60e9eeb907d3b93b6e0e5"
   },
   "outputs": [
    {
     "ename": "ValueError",
     "evalue": "\nTo use the 'notebook' renderer, you must install the vega package\nand the associated Jupyter extension.\nSee https://altair-viz.github.io/getting_started/installation.html\nfor more information.\n",
     "output_type": "error",
     "traceback": [
      "\u001b[0;31m---------------------------------------------------------------------------\u001b[0m",
      "\u001b[0;31mNoSuchEntryPoint\u001b[0m                          Traceback (most recent call last)",
      "\u001b[0;32m/Library/Frameworks/Python.framework/Versions/3.9/lib/python3.9/site-packages/altair/utils/plugin_registry.py\u001b[0m in \u001b[0;36m_enable\u001b[0;34m(self, name, **options)\u001b[0m\n\u001b[1;32m    141\u001b[0m             \u001b[0;32mtry\u001b[0m\u001b[0;34m:\u001b[0m\u001b[0;34m\u001b[0m\u001b[0;34m\u001b[0m\u001b[0m\n\u001b[0;32m--> 142\u001b[0;31m                 \u001b[0mep\u001b[0m \u001b[0;34m=\u001b[0m \u001b[0mentrypoints\u001b[0m\u001b[0;34m.\u001b[0m\u001b[0mget_single\u001b[0m\u001b[0;34m(\u001b[0m\u001b[0mself\u001b[0m\u001b[0;34m.\u001b[0m\u001b[0mentry_point_group\u001b[0m\u001b[0;34m,\u001b[0m \u001b[0mname\u001b[0m\u001b[0;34m)\u001b[0m\u001b[0;34m\u001b[0m\u001b[0;34m\u001b[0m\u001b[0m\n\u001b[0m\u001b[1;32m    143\u001b[0m             \u001b[0;32mexcept\u001b[0m \u001b[0mentrypoints\u001b[0m\u001b[0;34m.\u001b[0m\u001b[0mNoSuchEntryPoint\u001b[0m\u001b[0;34m:\u001b[0m\u001b[0;34m\u001b[0m\u001b[0;34m\u001b[0m\u001b[0m\n",
      "\u001b[0;32m/Library/Frameworks/Python.framework/Versions/3.9/lib/python3.9/site-packages/entrypoints.py\u001b[0m in \u001b[0;36mget_single\u001b[0;34m(group, name, path)\u001b[0m\n\u001b[1;32m    216\u001b[0m \u001b[0;34m\u001b[0m\u001b[0m\n\u001b[0;32m--> 217\u001b[0;31m     \u001b[0;32mraise\u001b[0m \u001b[0mNoSuchEntryPoint\u001b[0m\u001b[0;34m(\u001b[0m\u001b[0mgroup\u001b[0m\u001b[0;34m,\u001b[0m \u001b[0mname\u001b[0m\u001b[0;34m)\u001b[0m\u001b[0;34m\u001b[0m\u001b[0;34m\u001b[0m\u001b[0m\n\u001b[0m\u001b[1;32m    218\u001b[0m \u001b[0;34m\u001b[0m\u001b[0m\n",
      "\u001b[0;31mNoSuchEntryPoint\u001b[0m: No 'notebook' entry point found in group 'altair.vegalite.v4.renderer'",
      "\nDuring handling of the above exception, another exception occurred:\n",
      "\u001b[0;31mValueError\u001b[0m                                Traceback (most recent call last)",
      "\u001b[0;32m<ipython-input-2-1a6739356f01>\u001b[0m in \u001b[0;36m<module>\u001b[0;34m\u001b[0m\n\u001b[1;32m      3\u001b[0m \u001b[0;32mimport\u001b[0m \u001b[0mpandas\u001b[0m \u001b[0;32mas\u001b[0m \u001b[0mpd\u001b[0m \u001b[0;31m# data processing, CSV file I/O (e.g. pd.read_csv)\u001b[0m\u001b[0;34m\u001b[0m\u001b[0;34m\u001b[0m\u001b[0m\n\u001b[1;32m      4\u001b[0m \u001b[0;32mimport\u001b[0m \u001b[0maltair\u001b[0m \u001b[0;32mas\u001b[0m \u001b[0malt\u001b[0m \u001b[0;31m# graphical representation tool\u001b[0m\u001b[0;34m\u001b[0m\u001b[0;34m\u001b[0m\u001b[0m\n\u001b[0;32m----> 5\u001b[0;31m \u001b[0malt\u001b[0m\u001b[0;34m.\u001b[0m\u001b[0mrenderers\u001b[0m\u001b[0;34m.\u001b[0m\u001b[0menable\u001b[0m\u001b[0;34m(\u001b[0m\u001b[0;34m'notebook'\u001b[0m\u001b[0;34m)\u001b[0m\u001b[0;34m\u001b[0m\u001b[0;34m\u001b[0m\u001b[0m\n\u001b[0m",
      "\u001b[0;32m/Library/Frameworks/Python.framework/Versions/3.9/lib/python3.9/site-packages/altair/utils/plugin_registry.py\u001b[0m in \u001b[0;36menable\u001b[0;34m(self, name, **options)\u001b[0m\n\u001b[1;32m    175\u001b[0m         \u001b[0;32mif\u001b[0m \u001b[0mname\u001b[0m \u001b[0;32mis\u001b[0m \u001b[0;32mNone\u001b[0m\u001b[0;34m:\u001b[0m\u001b[0;34m\u001b[0m\u001b[0;34m\u001b[0m\u001b[0m\n\u001b[1;32m    176\u001b[0m             \u001b[0mname\u001b[0m \u001b[0;34m=\u001b[0m \u001b[0mself\u001b[0m\u001b[0;34m.\u001b[0m\u001b[0mactive\u001b[0m\u001b[0;34m\u001b[0m\u001b[0;34m\u001b[0m\u001b[0m\n\u001b[0;32m--> 177\u001b[0;31m         \u001b[0;32mreturn\u001b[0m \u001b[0mPluginEnabler\u001b[0m\u001b[0;34m(\u001b[0m\u001b[0mself\u001b[0m\u001b[0;34m,\u001b[0m \u001b[0mname\u001b[0m\u001b[0;34m,\u001b[0m \u001b[0;34m**\u001b[0m\u001b[0moptions\u001b[0m\u001b[0;34m)\u001b[0m\u001b[0;34m\u001b[0m\u001b[0;34m\u001b[0m\u001b[0m\n\u001b[0m\u001b[1;32m    178\u001b[0m \u001b[0;34m\u001b[0m\u001b[0m\n\u001b[1;32m    179\u001b[0m     \u001b[0;34m@\u001b[0m\u001b[0mproperty\u001b[0m\u001b[0;34m\u001b[0m\u001b[0;34m\u001b[0m\u001b[0m\n",
      "\u001b[0;32m/Library/Frameworks/Python.framework/Versions/3.9/lib/python3.9/site-packages/altair/utils/plugin_registry.py\u001b[0m in \u001b[0;36m__init__\u001b[0;34m(self, registry, name, **options)\u001b[0m\n\u001b[1;32m     25\u001b[0m         \u001b[0mself\u001b[0m\u001b[0;34m.\u001b[0m\u001b[0moptions\u001b[0m \u001b[0;34m=\u001b[0m \u001b[0moptions\u001b[0m  \u001b[0;31m# type: Dict[str, Any]\u001b[0m\u001b[0;34m\u001b[0m\u001b[0;34m\u001b[0m\u001b[0m\n\u001b[1;32m     26\u001b[0m         \u001b[0mself\u001b[0m\u001b[0;34m.\u001b[0m\u001b[0moriginal_state\u001b[0m \u001b[0;34m=\u001b[0m \u001b[0mregistry\u001b[0m\u001b[0;34m.\u001b[0m\u001b[0m_get_state\u001b[0m\u001b[0;34m(\u001b[0m\u001b[0;34m)\u001b[0m  \u001b[0;31m# type: Dict[str, Any]\u001b[0m\u001b[0;34m\u001b[0m\u001b[0;34m\u001b[0m\u001b[0m\n\u001b[0;32m---> 27\u001b[0;31m         \u001b[0mself\u001b[0m\u001b[0;34m.\u001b[0m\u001b[0mregistry\u001b[0m\u001b[0;34m.\u001b[0m\u001b[0m_enable\u001b[0m\u001b[0;34m(\u001b[0m\u001b[0mname\u001b[0m\u001b[0;34m,\u001b[0m \u001b[0;34m**\u001b[0m\u001b[0moptions\u001b[0m\u001b[0;34m)\u001b[0m\u001b[0;34m\u001b[0m\u001b[0;34m\u001b[0m\u001b[0m\n\u001b[0m\u001b[1;32m     28\u001b[0m \u001b[0;34m\u001b[0m\u001b[0m\n\u001b[1;32m     29\u001b[0m     \u001b[0;32mdef\u001b[0m \u001b[0m__enter__\u001b[0m\u001b[0;34m(\u001b[0m\u001b[0mself\u001b[0m\u001b[0;34m)\u001b[0m \u001b[0;34m->\u001b[0m \u001b[0;34m\"PluginEnabler\"\u001b[0m\u001b[0;34m:\u001b[0m\u001b[0;34m\u001b[0m\u001b[0;34m\u001b[0m\u001b[0m\n",
      "\u001b[0;32m/Library/Frameworks/Python.framework/Versions/3.9/lib/python3.9/site-packages/altair/utils/plugin_registry.py\u001b[0m in \u001b[0;36m_enable\u001b[0;34m(self, name, **options)\u001b[0m\n\u001b[1;32m    143\u001b[0m             \u001b[0;32mexcept\u001b[0m \u001b[0mentrypoints\u001b[0m\u001b[0;34m.\u001b[0m\u001b[0mNoSuchEntryPoint\u001b[0m\u001b[0;34m:\u001b[0m\u001b[0;34m\u001b[0m\u001b[0;34m\u001b[0m\u001b[0m\n\u001b[1;32m    144\u001b[0m                 \u001b[0;32mif\u001b[0m \u001b[0mname\u001b[0m \u001b[0;32min\u001b[0m \u001b[0mself\u001b[0m\u001b[0;34m.\u001b[0m\u001b[0mentrypoint_err_messages\u001b[0m\u001b[0;34m:\u001b[0m\u001b[0;34m\u001b[0m\u001b[0;34m\u001b[0m\u001b[0m\n\u001b[0;32m--> 145\u001b[0;31m                     \u001b[0;32mraise\u001b[0m \u001b[0mValueError\u001b[0m\u001b[0;34m(\u001b[0m\u001b[0mself\u001b[0m\u001b[0;34m.\u001b[0m\u001b[0mentrypoint_err_messages\u001b[0m\u001b[0;34m[\u001b[0m\u001b[0mname\u001b[0m\u001b[0;34m]\u001b[0m\u001b[0;34m)\u001b[0m\u001b[0;34m\u001b[0m\u001b[0;34m\u001b[0m\u001b[0m\n\u001b[0m\u001b[1;32m    146\u001b[0m                 \u001b[0;32melse\u001b[0m\u001b[0;34m:\u001b[0m\u001b[0;34m\u001b[0m\u001b[0;34m\u001b[0m\u001b[0m\n\u001b[1;32m    147\u001b[0m                     \u001b[0;32mraise\u001b[0m\u001b[0;34m\u001b[0m\u001b[0;34m\u001b[0m\u001b[0m\n",
      "\u001b[0;31mValueError\u001b[0m: \nTo use the 'notebook' renderer, you must install the vega package\nand the associated Jupyter extension.\nSee https://altair-viz.github.io/getting_started/installation.html\nfor more information.\n"
     ]
    }
   ],
   "source": [
    "# Import the needed dependencies below.\n",
    "import numpy as np # linear algebra\n",
    "import pandas as pd # data processing, CSV file I/O (e.g. pd.read_csv)\n",
    "import altair as alt # graphical representation tool\n",
    "alt.renderers.enable('notebook')"
   ]
  },
  {
   "cell_type": "code",
   "execution_count": null,
   "metadata": {},
   "outputs": [],
   "source": [
    "netflix_movies = pd.read_csv('netflix_titles.csv')\n",
    "netflix_stocks = pd.read_csv('NFLX.csv')"
   ]
  },
  {
   "cell_type": "code",
   "execution_count": null,
   "metadata": {},
   "outputs": [],
   "source": [
    "netflix_movies = netflix_movies[netflix_movies['type']=='Movie'].dropna()\n",
    "netflix_movies.head()"
   ]
  },
  {
   "cell_type": "code",
   "execution_count": null,
   "metadata": {},
   "outputs": [],
   "source": [
    "netflix_stocks.head()"
   ]
  },
  {
   "cell_type": "markdown",
   "metadata": {},
   "source": [
    "Now, that we have our DataFrames ready; we can continue to doing some investigative work. Let's check the descriptive statistics for both stocks and a couple different segmentations for movies with pd.DataFrame.describe()."
   ]
  },
  {
   "cell_type": "code",
   "execution_count": null,
   "metadata": {},
   "outputs": [],
   "source": [
    "netflix_movies.date_added = pd.to_datetime(netflix_movies.date_added)\n",
    "movies_over_time = netflix_movies.copy().groupby('release_year')['title'].count().reset_index()\n",
    "movies_over_time = movies_over_time.rename(columns={0:'count'})\n",
    "\n",
    "median_year = int(netflix_movies ['release_year'].median()) #2016\n",
    "mode_year = int(netflix_movies ['release_year'].mode())\n",
    "print(\"this is the median:\", median_year, \", this is the mode:\", mode_year)\n",
    "movies_over_time.describe()"
   ]
  },
  {
   "cell_type": "code",
   "execution_count": null,
   "metadata": {},
   "outputs": [],
   "source": [
    "netflix_stocks['Date'] = pd.to_datetime(netflix_stocks['Date'])\n",
    "\n",
    "netflix_stocks.describe()"
   ]
  },
  {
   "cell_type": "markdown",
   "metadata": {},
   "source": [
    "We get to see our maxes and mins & highs and lows. We have a pretty good idea of the distribution for the movies and the average closing dollar amount. Could Netflix releases over the years correlated with the stock price? Can we tell if our answer is statistically significant?\n",
    "\n",
    "If you think about releases, there are four elements of releases that might catch a movie lover's attention. You have:\n",
    "1. Main film location:  language matters but relativity to the elements in the movie and being familiar with the references is quentissential in most instances. \n",
    "2. Director: we all have our favorite director. It's the movie that was most memorable or the one that made you laugh the most. You loved the cinamatic touches they added. You strap in for a good movie when you hear what's on for movie night.\n",
    "3. Actor: Leonardo DiCaprio gets my buy in on any movie. We all have that person of a few! Is their a primary actor driving the market?\n",
    "4. Genre: I love a good horror movie, don't you? Not your forte? Let's see if the genres of the movie releases and the stock price have a relationship.\n",
    "\n",
    "These ideas are all speculative, but I invite my readers to stay the course. The insights and graphs are at the bottom. Continue reading if you'd like."
   ]
  },
  {
   "cell_type": "code",
   "execution_count": null,
   "metadata": {},
   "outputs": [],
   "source": [
    "# Assuming the first movie listed is where this movie was filmed the most, we will replace the lists of movies\n",
    "# with the first country and use that to find the top 10 countries that have movies are currently on Netflix \n",
    "\n",
    "movies_with_countries = netflix_movies.copy()\n",
    "new=movies_with_countries['country'].str.split(',', n=5, expand=True)\n",
    "countries = [('1st',0), ('2nd',1),('3rd',2),('4th',3),('5th',4),('6th',5)]\n",
    "for i in countries:\n",
    "    movies_with_countries[i[0]+\" country\"] = new[i[1]]\n",
    "new_mwc = movies_with_countries.drop(columns=['show_id','type','director','cast'])\n",
    "distribution_df = new_mwc[['1st country',\n",
    "                                         'title']].groupby(\n",
    "    '1st country'\n",
    ").count().reset_index()\n",
    "distribution_df.head()"
   ]
  },
  {
   "cell_type": "markdown",
   "metadata": {},
   "source": [
    "We could say Hollywood knows how to make a good movie? Or should we say that one director is taking center stage and we just can't get enough?"
   ]
  },
  {
   "cell_type": "code",
   "execution_count": null,
   "metadata": {},
   "outputs": [],
   "source": [
    "directors = movies_with_countries.copy()\n",
    "directors = directors[directors['country']=='United States'][['director','title','rating','listed_in']]\n",
    "directors.head()\n",
    "\n",
    "\n",
    "new_dir = directors['director'].str.split(',', n=2, expand=True)\n",
    "split = [('1st',0), ('2nd',1)]\n",
    "\n",
    "# does genre matter?\n",
    "for i in split:\n",
    "    directors[i[0]+\" Named Director\"] = new_dir[i[1]]\n",
    "top_directors = directors[['1st Named Director','title','rating','listed_in']].groupby(\n",
    "    '1st Named Director'\n",
    ")['title'].count().reset_index()\n",
    "\n",
    "\n",
    "top_directors[top_directors['title']==top_directors.title.max()]"
   ]
  },
  {
   "cell_type": "markdown",
   "metadata": {},
   "source": [
    "Let's be honest, Jay Karas is taking the market by storm with his work in comedy, so this one isn't too much of a surprise! Let's look for other trends that are in the data. Later, we will investigate if there is a correlation between the movies released and the stock price. We can't say conclusively that there is a direct cause and effect relationship; it's interested to find patterns in data, just for fun!\n",
    "\n",
    "Now, we have to ask, *does the year a movie was released matter?* I can imagine that there have been times that the film industry took a hit and not too many movies reached production. We can only speculate about the greater implications. It could just mean that the most popular year had the best movies. We decide what this metric becomes in the end! "
   ]
  },
  {
   "cell_type": "code",
   "execution_count": null,
   "metadata": {},
   "outputs": [],
   "source": [
    "# does genre matter?\n",
    "genre = []\n",
    "for i in genre:\n",
    "    directors[i[0]+\" genre\"] = genre[i[1]]\n",
    "top_directors = directors[['director','title','rating','listed_in']].groupby(\n",
    "    'director'\n",
    ")['title'].count().reset_index()"
   ]
  },
  {
   "cell_type": "code",
   "execution_count": null,
   "metadata": {
    "_kg_hide-input": true
   },
   "outputs": [],
   "source": [
    "titles_per_country = alt.Chart(distribution_df,\n",
    "                              height=300,\n",
    "                              width=500,\n",
    "                              title='Number of Titles per Country').transform_window(\n",
    "    rank='rank(title)',\n",
    "    sort=[alt.SortField('title', order='descending')]\n",
    ").transform_filter(\n",
    "    alt.datum.rank <=10\n",
    ").mark_bar(color='red').encode(\n",
    "    y=alt.Y('title:Q',\n",
    "           axis=alt.Axis(title='Number of Movies',\n",
    "                         tickCount=4,\n",
    "                         labelPadding=10,\n",
    "                        titlePadding=10)),\n",
    "    x=alt.X('1st country:N',\n",
    "           sort=alt.EncodingSortField('title',order='descending'),\n",
    "           title=None,\n",
    "           axis=alt.Axis(\n",
    "                        labelAngle=-45,\n",
    "               labelFontSize=15\n",
    "           )),\n",
    "    color=alt.condition(\n",
    "        alt.datum.rank == 1,\n",
    "        alt.value('red'),\n",
    "        alt.value('black')\n",
    "    ),\n",
    "    tooltip=['1st country:N', 'title']\n",
    ")\n",
    "\n",
    "titles_by_director = alt.Chart(top_directors,\n",
    "                              height=300,\n",
    "                              width=500,\n",
    "                              title='Number of Titles by Director').transform_window(\n",
    "    rank='rank(title)',\n",
    "    sort=[alt.SortField('title', order='descending')]\n",
    ").transform_filter(\n",
    "    alt.datum.rank <=10\n",
    ").mark_bar(color='red').encode(\n",
    "    y=alt.Y('title:Q',\n",
    "           axis=alt.Axis(title='Number of Movies',\n",
    "                         tickCount=4,\n",
    "                         labelPadding=10,\n",
    "                        titlePadding=10)),\n",
    "    x=alt.X('1st Named Director:N',\n",
    "           sort=alt.EncodingSortField('title',order='descending'),\n",
    "           title=None,\n",
    "           axis=alt.Axis(\n",
    "                        labelAngle=-45,\n",
    "               labelFontSize=15\n",
    "           )),\n",
    "    color=alt.condition(\n",
    "        alt.datum.rank == 1,\n",
    "        alt.value('red'),\n",
    "        alt.value('black')\n",
    "    ),\n",
    "    tooltip=['1st Named Director:N', 'title']\n",
    ")\n",
    "\n",
    "titles_by_year = alt.Chart(movies_over_time,\n",
    "                              height=300,\n",
    "                              width=500,\n",
    "                              title='Number of Titles by Year').transform_window(\n",
    "    rank='rank(title)',\n",
    "    sort=[alt.SortField('title', order='descending')]\n",
    ").transform_filter(\n",
    "    alt.datum.rank <=10\n",
    ").mark_bar(color='red').encode(\n",
    "    y=alt.Y('title:Q',\n",
    "           axis=alt.Axis(title='Number of Movies',\n",
    "                         tickCount=4,\n",
    "                         labelPadding=10,\n",
    "                        titlePadding=10)),\n",
    "    x=alt.X('release_year:N',\n",
    "           sort=alt.EncodingSortField('title',order='descending'),\n",
    "           title=None,\n",
    "           axis=alt.Axis(\n",
    "                        labelAngle=-45,\n",
    "               labelFontSize=15\n",
    "           )),\n",
    "    color=alt.condition(\n",
    "        alt.datum.rank == 1,\n",
    "        alt.value('red'),\n",
    "        alt.value('black')\n",
    "    ),\n",
    "    tooltip=['release_year:N', 'title']\n",
    ")"
   ]
  },
  {
   "cell_type": "code",
   "execution_count": null,
   "metadata": {},
   "outputs": [],
   "source": [
    "# Coding the graphs done in hidden cell. Data used in the graphs are visible in the cells above.\n",
    "# Remake the year chart into something pertaining to actors, then continue with the genre scripting aboved\n",
    "alt.vconcat((titles_per_country | titles_by_director),(titles_by_year))"
   ]
  },
  {
   "cell_type": "code",
   "execution_count": null,
   "metadata": {},
   "outputs": [],
   "source": []
  }
 ],
 "metadata": {
  "kernelspec": {
   "display_name": "Python 3",
   "language": "python",
   "name": "python3"
  },
  "language_info": {
   "codemirror_mode": {
    "name": "ipython",
    "version": 3
   },
   "file_extension": ".py",
   "mimetype": "text/x-python",
   "name": "python",
   "nbconvert_exporter": "python",
   "pygments_lexer": "ipython3",
   "version": "3.9.2"
  }
 },
 "nbformat": 4,
 "nbformat_minor": 4
}
