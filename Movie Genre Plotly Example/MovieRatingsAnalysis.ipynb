{
 "cells": [
  {
   "cell_type": "markdown",
   "metadata": {},
   "source": [
    "# Assignment 3 - Novel Visualization or Library\n",
    "\n",
    "By: Tia Burton\n",
    "\n",
    "## A Scatter Chart for Ratings: An Introduction\n",
    "\n",
    "I love movies, and I think it's fair to assume that there is a large population that enjoys movies as much as I do. Even before the pandemic, new streaming services were cropping up everwhere. However, the big 4, including Disney+ in this scenario, stayed on top. While thinking about movies to watch next, I decide to search the internet for the best movies list. To my surprise, someone had already compiled the movies, with ratings from two sources, into one spreadsheet and left it on Kaggle for public to use. If you're interested in taking a look directly at the data itself from the source, here is a link: https://www.kaggle.com/ruchi798/movies-on-netflix-prime-video-hulu-and-disney.\n",
    "\n",
    "After selecting this dataset, I initially thought the best technique would be to plot to the movies themselves based on runtime and ratings in a scatter chart. I then took a quick look in Excel at the data and saw there were over 16,000 rows! It would not be most effective to plot all the individual movie titles at this time; I would like to know the high level differences for only the genres I like. So, that means, no fantasy, no sci-fy, no crime shows, and absolutely no Westerns. If I am able to first get the high level results, I'd be more excited to return to those individual movie titles in the service and age range of interest to do more comparisons.\n",
    "\n",
    "The scatter chart would encompass the following: 1) Genres\n",
    "2) Average movie ratings per genre per suggested age group\n",
    "3) Count of movies per genre per suggested age group\n",
    "4) The associated streaming service.\n",
    "\n",
    "For each streaming service, there will be one plot or animated instance. Within that instance, the genres will be compare the number of movies available against the average ratings by age group. This would enable movie lovers, like myself, to quickly compare the ratings and number of movies for their next movie night.\n",
    "\n",
    "With this level of complexity, the idea of multiple plots and animated instances might sounded challenging. For this reason, I selected plotly express. I will now briefly explain the advantages of using plotly to complete this visualization task."
   ]
  },
  {
   "cell_type": "markdown",
   "metadata": {},
   "source": [
    "## Visualization Library: Plotly Express\n",
    "\n",
    "Matplotlib and seaborn have been around for quite some time. Due to their early headstart and extremely enthusiastic open source partners, these libraries have grown to include more capabilities that have proven to be extremely useful, but there are still a few remaining limiations that led me to select plotly express.\n",
    "\n",
    "Plotly is known as a nuanced plotting library that's also growing through it's open source collaboration, but it was originally founded in Canada by Chris and Jack Parmer, Matthew Sundquist, and Alex Johnson in 2012. It has now grown to around around 40 charts to fit a wide variety of use cases (statistical, financial, etc.). While this library was initially created in JavaScipt, the Python API allows users to declaratively create aesthetically pleasing, web-based visualizations. This API is free to use, but there is a more advance version, Dash, that is for sale with web application integration capabilities.\n",
    "\n",
    "Given the list of variables in the previous section, Plotly Express does make creating this visualization easy. Unlike Matplotlib, Seaborn, and regular Plotly, Plotly Express is a quick way to build high level visuals with minimal commands. This library focuses on the key elements needed to properly communicate the right information. Plotly express allows vis builders to assemble charts, display labels, and create a legend in once line of code. Does this all sound too good to be true?\n",
    "\n",
    "Plotly Express Scatter: https://plotly.com/python-api-reference/generated/plotly.express.scatter\n",
    "\n",
    "I invite you to take a peak at the visualization in the last cell or the scatter link above if you are curious and would like to interact with the visualization at this time."
   ]
  },
  {
   "cell_type": "markdown",
   "metadata": {},
   "source": [
    "## Installation of Plotly Express\n",
    "\n",
    "In order to use this tool, general plotly 4, that includes plotly express, must be installed with the following instructions. No other rendering is needed for plotly as the packages contain everything needed to run successfully in a jupyter notebook.\n",
    "\n",
    "    To install Plotly:\n",
    "\n",
    "    1. Using the command line / terminal : $ pip install plotly==4.14.3 \n",
    "    \n",
    "    2. Using conda: $ conda install -c plotly plotly=4.14.3\n",
    "    \n",
    "    3. Jupyter Notebook: $ pip install \"notebook>=5.3\" \"ipwidgets>=7.5\"\n",
    "\n",
    "\n",
    "For additional support or for JupyterLab: \n",
    "1. https://plotly.com/python/getting-started/\n",
    "2. https://plotly.com/python/getting-started/#jupyter-notebook-support\n"
   ]
  },
  {
   "cell_type": "code",
   "execution_count": 1,
   "metadata": {},
   "outputs": [],
   "source": [
    "# Let's get started with importing the necessary libraries\n",
    "\n",
    "import numpy as np # utilizing aggregation methods for ratings\n",
    "import pandas as pd # high level analysis tool\n",
    "import plotly.express as px # primary graphing library for the scatter plot\n",
    "import plotly.graph_objects as go #plotly go for future exploration or additional traces to be added\n",
    "import plotly.io as pio # additional plotly api that minimizes the commands needed to run plotly in the notebook\n",
    "pio.renderers.default = 'jupyterlab'"
   ]
  },
  {
   "cell_type": "markdown",
   "metadata": {},
   "source": [
    "## Demonstration\n",
    "### Data Cleaning\n",
    "To help us visualize the information, we must first bring in the dataset and perform some data cleaning in order to utilize this dataset to help us find the ratings by service, genre, and age group. This dataset was retrieved from Kaggle. Even though I had access to other public information on these companies, such as stock price and movie descriptions, we will be focused on a singular source of data for this exercise."
   ]
  },
  {
   "cell_type": "code",
   "execution_count": 2,
   "metadata": {},
   "outputs": [
    {
     "data": {
      "text/html": [
       "<div>\n",
       "<style scoped>\n",
       "    .dataframe tbody tr th:only-of-type {\n",
       "        vertical-align: middle;\n",
       "    }\n",
       "\n",
       "    .dataframe tbody tr th {\n",
       "        vertical-align: top;\n",
       "    }\n",
       "\n",
       "    .dataframe thead th {\n",
       "        text-align: right;\n",
       "    }\n",
       "</style>\n",
       "<table border=\"1\" class=\"dataframe\">\n",
       "  <thead>\n",
       "    <tr style=\"text-align: right;\">\n",
       "      <th></th>\n",
       "      <th>ID</th>\n",
       "      <th>Title</th>\n",
       "      <th>Year</th>\n",
       "      <th>Age</th>\n",
       "      <th>IMDb</th>\n",
       "      <th>Rotten Tomatoes</th>\n",
       "      <th>Netflix</th>\n",
       "      <th>Hulu</th>\n",
       "      <th>Prime Video</th>\n",
       "      <th>Disney+</th>\n",
       "      <th>Type</th>\n",
       "      <th>Directors</th>\n",
       "      <th>Genres</th>\n",
       "      <th>Country</th>\n",
       "      <th>Language</th>\n",
       "      <th>Runtime</th>\n",
       "    </tr>\n",
       "  </thead>\n",
       "  <tbody>\n",
       "    <tr>\n",
       "      <th>0</th>\n",
       "      <td>1</td>\n",
       "      <td>Inception</td>\n",
       "      <td>2010</td>\n",
       "      <td>13+</td>\n",
       "      <td>8.8</td>\n",
       "      <td>87%</td>\n",
       "      <td>1</td>\n",
       "      <td>0</td>\n",
       "      <td>0</td>\n",
       "      <td>0</td>\n",
       "      <td>0</td>\n",
       "      <td>Christopher Nolan</td>\n",
       "      <td>Action,Adventure,Sci-Fi,Thriller</td>\n",
       "      <td>United States,United Kingdom</td>\n",
       "      <td>English,Japanese,French</td>\n",
       "      <td>148.0</td>\n",
       "    </tr>\n",
       "    <tr>\n",
       "      <th>1</th>\n",
       "      <td>2</td>\n",
       "      <td>The Matrix</td>\n",
       "      <td>1999</td>\n",
       "      <td>18+</td>\n",
       "      <td>8.7</td>\n",
       "      <td>87%</td>\n",
       "      <td>1</td>\n",
       "      <td>0</td>\n",
       "      <td>0</td>\n",
       "      <td>0</td>\n",
       "      <td>0</td>\n",
       "      <td>Lana Wachowski,Lilly Wachowski</td>\n",
       "      <td>Action,Sci-Fi</td>\n",
       "      <td>United States</td>\n",
       "      <td>English</td>\n",
       "      <td>136.0</td>\n",
       "    </tr>\n",
       "    <tr>\n",
       "      <th>2</th>\n",
       "      <td>3</td>\n",
       "      <td>Avengers: Infinity War</td>\n",
       "      <td>2018</td>\n",
       "      <td>13+</td>\n",
       "      <td>8.5</td>\n",
       "      <td>84%</td>\n",
       "      <td>1</td>\n",
       "      <td>0</td>\n",
       "      <td>0</td>\n",
       "      <td>0</td>\n",
       "      <td>0</td>\n",
       "      <td>Anthony Russo,Joe Russo</td>\n",
       "      <td>Action,Adventure,Sci-Fi</td>\n",
       "      <td>United States</td>\n",
       "      <td>English</td>\n",
       "      <td>149.0</td>\n",
       "    </tr>\n",
       "    <tr>\n",
       "      <th>3</th>\n",
       "      <td>4</td>\n",
       "      <td>Back to the Future</td>\n",
       "      <td>1985</td>\n",
       "      <td>7+</td>\n",
       "      <td>8.5</td>\n",
       "      <td>96%</td>\n",
       "      <td>1</td>\n",
       "      <td>0</td>\n",
       "      <td>0</td>\n",
       "      <td>0</td>\n",
       "      <td>0</td>\n",
       "      <td>Robert Zemeckis</td>\n",
       "      <td>Adventure,Comedy,Sci-Fi</td>\n",
       "      <td>United States</td>\n",
       "      <td>English</td>\n",
       "      <td>116.0</td>\n",
       "    </tr>\n",
       "    <tr>\n",
       "      <th>4</th>\n",
       "      <td>5</td>\n",
       "      <td>The Good, the Bad and the Ugly</td>\n",
       "      <td>1966</td>\n",
       "      <td>18+</td>\n",
       "      <td>8.8</td>\n",
       "      <td>97%</td>\n",
       "      <td>1</td>\n",
       "      <td>0</td>\n",
       "      <td>1</td>\n",
       "      <td>0</td>\n",
       "      <td>0</td>\n",
       "      <td>Sergio Leone</td>\n",
       "      <td>Western</td>\n",
       "      <td>Italy,Spain,West Germany</td>\n",
       "      <td>Italian</td>\n",
       "      <td>161.0</td>\n",
       "    </tr>\n",
       "  </tbody>\n",
       "</table>\n",
       "</div>"
      ],
      "text/plain": [
       "   ID                           Title  Year  Age  IMDb Rotten Tomatoes  \\\n",
       "0   1                       Inception  2010  13+   8.8             87%   \n",
       "1   2                      The Matrix  1999  18+   8.7             87%   \n",
       "2   3          Avengers: Infinity War  2018  13+   8.5             84%   \n",
       "3   4              Back to the Future  1985   7+   8.5             96%   \n",
       "4   5  The Good, the Bad and the Ugly  1966  18+   8.8             97%   \n",
       "\n",
       "   Netflix  Hulu  Prime Video  Disney+  Type                       Directors  \\\n",
       "0        1     0            0        0     0               Christopher Nolan   \n",
       "1        1     0            0        0     0  Lana Wachowski,Lilly Wachowski   \n",
       "2        1     0            0        0     0         Anthony Russo,Joe Russo   \n",
       "3        1     0            0        0     0                 Robert Zemeckis   \n",
       "4        1     0            1        0     0                    Sergio Leone   \n",
       "\n",
       "                             Genres                       Country  \\\n",
       "0  Action,Adventure,Sci-Fi,Thriller  United States,United Kingdom   \n",
       "1                     Action,Sci-Fi                 United States   \n",
       "2           Action,Adventure,Sci-Fi                 United States   \n",
       "3           Adventure,Comedy,Sci-Fi                 United States   \n",
       "4                           Western      Italy,Spain,West Germany   \n",
       "\n",
       "                  Language  Runtime  \n",
       "0  English,Japanese,French    148.0  \n",
       "1                  English    136.0  \n",
       "2                  English    149.0  \n",
       "3                  English    116.0  \n",
       "4                  Italian    161.0  "
      ]
     },
     "execution_count": 2,
     "metadata": {},
     "output_type": "execute_result"
    }
   ],
   "source": [
    "# Let's read in our CSV file with pandas.read_csv and take a look\n",
    "streaming_movies = pd.read_csv('MoviesOnStreamingPlatforms.csv',index_col=0)\n",
    "streaming_movies.head()"
   ]
  },
  {
   "cell_type": "markdown",
   "metadata": {},
   "source": [
    "Ok, so now that we have our dataset. We're going to focus on the three parts of this data set that matter the most to us. We need the Genres, Type, Netflix, Hulu, Prime Video, Disney+, Age, and both ratings. We can go ahead and drop the other columns.\n",
    "\n",
    "Nonetheless, let's continue with this investigation. As you can see in the example above, Rotten Tomatoes has a percentage where IMDb has a floating point. We must get the data on the same scale."
   ]
  },
  {
   "cell_type": "code",
   "execution_count": 3,
   "metadata": {},
   "outputs": [
    {
     "name": "stderr",
     "output_type": "stream",
     "text": [
      "<ipython-input-3-70708a75a429>:9: DeprecationWarning:\n",
      "\n",
      "`np.float` is a deprecated alias for the builtin `float`. To silence this warning, use `float` by itself. Doing this will not modify any behavior and is safe. If you specifically wanted the numpy scalar type, use `np.float64` here.\n",
      "Deprecated in NumPy 1.20; for more details and guidance: https://numpy.org/devdocs/release/1.20.0-notes.html#deprecations\n",
      "\n",
      "/Users/tiareina/myenv/lib/python3.9/site-packages/pandas/core/generic.py:5494: SettingWithCopyWarning:\n",
      "\n",
      "\n",
      "A value is trying to be set on a copy of a slice from a DataFrame.\n",
      "Try using .loc[row_indexer,col_indexer] = value instead\n",
      "\n",
      "See the caveats in the documentation: https://pandas.pydata.org/pandas-docs/stable/user_guide/indexing.html#returning-a-view-versus-a-copy\n",
      "\n"
     ]
    }
   ],
   "source": [
    "# First, we want to manipulate the Rotten Tomatoes column. We will change the .\n",
    "# We can just add it to the column header to help us remember that the value represents a percentage.\n",
    "# We can now utilize the pandas astype function with numpy float to help us turn these columns types into \n",
    "# Numpy floating point numbers.\n",
    "\n",
    "streaming_movies['Rotten Tomatoes'] = streaming_movies['Rotten Tomatoes'].str.replace('%','')\n",
    "streaming_movies = streaming_movies.rename(columns={'Rotten Tomatoes':'Rotten Tomatoes (%)'})\n",
    "streaming_movies.IMDb = streaming_movies.IMDb.astype(np.float64)\n",
    "streaming_movies['Rotten Tomatoes (%)'] = streaming_movies['Rotten Tomatoes (%)'].astype(np.float)\n",
    "\n",
    "\n",
    "\n",
    "# Since we are looking to get the average percentage, and IMDb rates on a scale from 0 - 10, \n",
    "# we multiply the entire column by 10 to change the denominator of the data. Remember, we removed\n",
    "# the percentage sign and added it to the header\n",
    "\n",
    "clean_ratings = streaming_movies[ streaming_movies['Rotten Tomatoes (%)'].notna() & streaming_movies['IMDb'].notna() ]\n",
    "clean_ratings.IMDb = clean_ratings.IMDb * 10\n",
    "clean_ratings = clean_ratings.rename(columns={'IMDb':'IMDb (%)'})\n",
    "clean_ratings['Composite (%)'] = (clean_ratings['IMDb (%)'] + clean_ratings['Rotten Tomatoes (%)']) / 2\n",
    "\n",
    "clean_ratings = clean_ratings.drop(columns=\n",
    "    ['ID', 'Year', 'Type', 'Directors','Country','Language','Runtime']\n",
    ")"
   ]
  },
  {
   "cell_type": "code",
   "execution_count": 4,
   "metadata": {},
   "outputs": [
    {
     "name": "stdout",
     "output_type": "stream",
     "text": [
      "streaming_movies is greater than clean_ratings: True\n",
      "imax max: 90.0 , imax min: 16.0\n",
      "rt max: 100.0 , rt min: 2.0\n"
     ]
    },
    {
     "data": {
      "text/html": [
       "<div>\n",
       "<style scoped>\n",
       "    .dataframe tbody tr th:only-of-type {\n",
       "        vertical-align: middle;\n",
       "    }\n",
       "\n",
       "    .dataframe tbody tr th {\n",
       "        vertical-align: top;\n",
       "    }\n",
       "\n",
       "    .dataframe thead th {\n",
       "        text-align: right;\n",
       "    }\n",
       "</style>\n",
       "<table border=\"1\" class=\"dataframe\">\n",
       "  <thead>\n",
       "    <tr style=\"text-align: right;\">\n",
       "      <th></th>\n",
       "      <th>Title</th>\n",
       "      <th>Age</th>\n",
       "      <th>IMDb (%)</th>\n",
       "      <th>Rotten Tomatoes (%)</th>\n",
       "      <th>Netflix</th>\n",
       "      <th>Hulu</th>\n",
       "      <th>Prime Video</th>\n",
       "      <th>Disney+</th>\n",
       "      <th>Genres</th>\n",
       "      <th>Composite (%)</th>\n",
       "    </tr>\n",
       "  </thead>\n",
       "  <tbody>\n",
       "    <tr>\n",
       "      <th>0</th>\n",
       "      <td>Inception</td>\n",
       "      <td>13+</td>\n",
       "      <td>88.0</td>\n",
       "      <td>87.0</td>\n",
       "      <td>1</td>\n",
       "      <td>0</td>\n",
       "      <td>0</td>\n",
       "      <td>0</td>\n",
       "      <td>Action,Adventure,Sci-Fi,Thriller</td>\n",
       "      <td>87.5</td>\n",
       "    </tr>\n",
       "    <tr>\n",
       "      <th>1</th>\n",
       "      <td>The Matrix</td>\n",
       "      <td>18+</td>\n",
       "      <td>87.0</td>\n",
       "      <td>87.0</td>\n",
       "      <td>1</td>\n",
       "      <td>0</td>\n",
       "      <td>0</td>\n",
       "      <td>0</td>\n",
       "      <td>Action,Sci-Fi</td>\n",
       "      <td>87.0</td>\n",
       "    </tr>\n",
       "    <tr>\n",
       "      <th>2</th>\n",
       "      <td>Avengers: Infinity War</td>\n",
       "      <td>13+</td>\n",
       "      <td>85.0</td>\n",
       "      <td>84.0</td>\n",
       "      <td>1</td>\n",
       "      <td>0</td>\n",
       "      <td>0</td>\n",
       "      <td>0</td>\n",
       "      <td>Action,Adventure,Sci-Fi</td>\n",
       "      <td>84.5</td>\n",
       "    </tr>\n",
       "  </tbody>\n",
       "</table>\n",
       "</div>"
      ],
      "text/plain": [
       "                    Title  Age  IMDb (%)  Rotten Tomatoes (%)  Netflix  Hulu  \\\n",
       "0               Inception  13+      88.0                 87.0        1     0   \n",
       "1              The Matrix  18+      87.0                 87.0        1     0   \n",
       "2  Avengers: Infinity War  13+      85.0                 84.0        1     0   \n",
       "\n",
       "   Prime Video  Disney+                            Genres  Composite (%)  \n",
       "0            0        0  Action,Adventure,Sci-Fi,Thriller           87.5  \n",
       "1            0        0                     Action,Sci-Fi           87.0  \n",
       "2            0        0           Action,Adventure,Sci-Fi           84.5  "
      ]
     },
     "execution_count": 4,
     "metadata": {},
     "output_type": "execute_result"
    }
   ],
   "source": [
    "print('streaming_movies is greater than clean_ratings:', len(streaming_movies) > len(clean_ratings))\n",
    "print('imax max:', clean_ratings['IMDb (%)'].max(),', imax min:', clean_ratings['IMDb (%)'].min())\n",
    "print('rt max:', clean_ratings['Rotten Tomatoes (%)'].max(), ', rt min:', clean_ratings['Rotten Tomatoes (%)'].min())\n",
    "clean_ratings.head(3)"
   ]
  },
  {
   "cell_type": "code",
   "execution_count": 5,
   "metadata": {},
   "outputs": [],
   "source": [
    "# The next step is important because it will help us separate the genres without losing data. \n",
    "# We want to split the string in the Genre column\n",
    "clean_ratings['Genres'] = clean_ratings['Genres'].str.split(',')"
   ]
  },
  {
   "cell_type": "code",
   "execution_count": 6,
   "metadata": {},
   "outputs": [],
   "source": [
    "# Next we must create a list of all the unique genres. I created helper functions to first\n",
    "# allow us retreive those unique values that were nested within lists in the 'Genre' column. \n",
    "# The second function will help us keep track of the columns we've already created. The last\n",
    "# function allows us to use the apply function on our existing pandas dataframe to create\n",
    "# new columns and set the value to 1 for any movie that has that has a defined genre.\n",
    "\n",
    "genre_list = []\n",
    "\n",
    "\n",
    "def to_list(item):\n",
    "    if item != type(int) and item not in genre_list:\n",
    "        genre_list.append(item)\n",
    "    return item\n",
    "\n",
    "def helper_func(df):\n",
    "    \n",
    "    if df.name == 'Genres':\n",
    "        for index,genres in enumerate(df):\n",
    "            if type(genres) == float:\n",
    "                pass\n",
    "            elif type(genres) == list and len(genres) > 1:\n",
    "                for genre in genres:\n",
    "                    to_list(genre)\n",
    "            elif type(genres) == list and len(genres) == 1:\n",
    "                to_list(genres[0])\n",
    "    else:\n",
    "        return df\n",
    "    return df\n",
    "\n",
    "def genre_assignment(assignee):\n",
    "    count = 0\n",
    "    if assignee.name == 'Genres':\n",
    "        for genre in assignee:\n",
    "            try:\n",
    "                for g in genre:\n",
    "                    clean_ratings[g].iloc[count] = 1\n",
    "            except TypeError:\n",
    "                pass\n",
    "            count += 1\n",
    "    return assignee\n",
    "\n",
    "clean_ratings = clean_ratings.apply(helper_func)\n",
    "\n",
    "# Create a column for each genre\n",
    "for genre in genre_list:\n",
    "    clean_ratings[genre] = np.NaN\n",
    "\n",
    "# Uncomment the next line to see a sample of the data frame with the NaN genre columns.\n",
    "#clean_ratings.sample(3)"
   ]
  },
  {
   "cell_type": "code",
   "execution_count": 7,
   "metadata": {},
   "outputs": [],
   "source": [
    "# We can now assign 1.0 within the column for that specific genre using the genre_assignment function that takes in a row of data,\n",
    "# looks for the 'Genres' column, and either inputs the values or passes if there is a TypeError (np.NaN is considered a float\n",
    "# and python doesn't iterate over floating point numbers).\n",
    "\n",
    "favorite_cr = clean_ratings.apply(genre_assignment).reset_index()\n",
    "\n",
    "# The last step is to filter down the columns and rows once more to only focus on the genres that are most important to me.\n",
    "# As well as the age groups This section is dynamic, so if another genre was more suitable or perferred,\n",
    "# I encourage change and exploration\n",
    "# while following along!\n",
    "\n",
    "favorite_cr = favorite_cr.drop(\n",
    "    columns= ['IMDb (%)', 'Rotten Tomatoes (%)','Western', 'Animation',\n",
    "             'Family', 'Biography','Music', 'War', 'Crime', 'Fantasy',\n",
    "             'Sci-Fi','History','Sport','Musical', 'News', 'Short',\n",
    "              'Reality-TV', 'Talk-Show', 'Game-Show', 'Film-Noir' ]\n",
    ")\n",
    "\n",
    "favorite_cr = favorite_cr[favorite_cr.Age.notna()]"
   ]
  },
  {
   "cell_type": "code",
   "execution_count": 8,
   "metadata": {},
   "outputs": [
    {
     "data": {
      "text/html": [
       "<div>\n",
       "<style scoped>\n",
       "    .dataframe tbody tr th:only-of-type {\n",
       "        vertical-align: middle;\n",
       "    }\n",
       "\n",
       "    .dataframe tbody tr th {\n",
       "        vertical-align: top;\n",
       "    }\n",
       "\n",
       "    .dataframe thead th {\n",
       "        text-align: right;\n",
       "    }\n",
       "</style>\n",
       "<table border=\"1\" class=\"dataframe\">\n",
       "  <thead>\n",
       "    <tr style=\"text-align: right;\">\n",
       "      <th></th>\n",
       "      <th>index</th>\n",
       "      <th>Title</th>\n",
       "      <th>Age</th>\n",
       "      <th>Netflix</th>\n",
       "      <th>Hulu</th>\n",
       "      <th>Prime Video</th>\n",
       "      <th>Disney+</th>\n",
       "      <th>Genres</th>\n",
       "      <th>Composite (%)</th>\n",
       "      <th>Action</th>\n",
       "      <th>Adventure</th>\n",
       "      <th>Thriller</th>\n",
       "      <th>Comedy</th>\n",
       "      <th>Drama</th>\n",
       "      <th>Romance</th>\n",
       "      <th>Mystery</th>\n",
       "      <th>Horror</th>\n",
       "      <th>Documentary</th>\n",
       "    </tr>\n",
       "  </thead>\n",
       "  <tbody>\n",
       "    <tr>\n",
       "      <th>3620</th>\n",
       "      <td>6097</td>\n",
       "      <td>Ted Bundy</td>\n",
       "      <td>18+</td>\n",
       "      <td>0</td>\n",
       "      <td>0</td>\n",
       "      <td>1</td>\n",
       "      <td>0</td>\n",
       "      <td>[Biography, Crime, Drama, Horror, Thriller]</td>\n",
       "      <td>49.5</td>\n",
       "      <td>NaN</td>\n",
       "      <td>NaN</td>\n",
       "      <td>1.0</td>\n",
       "      <td>NaN</td>\n",
       "      <td>1.0</td>\n",
       "      <td>NaN</td>\n",
       "      <td>NaN</td>\n",
       "      <td>1.0</td>\n",
       "      <td>NaN</td>\n",
       "    </tr>\n",
       "    <tr>\n",
       "      <th>3811</th>\n",
       "      <td>6355</td>\n",
       "      <td>The Motel Life</td>\n",
       "      <td>18+</td>\n",
       "      <td>0</td>\n",
       "      <td>0</td>\n",
       "      <td>1</td>\n",
       "      <td>0</td>\n",
       "      <td>[Animation, Drama, Mystery, Thriller]</td>\n",
       "      <td>64.5</td>\n",
       "      <td>NaN</td>\n",
       "      <td>NaN</td>\n",
       "      <td>1.0</td>\n",
       "      <td>NaN</td>\n",
       "      <td>1.0</td>\n",
       "      <td>NaN</td>\n",
       "      <td>1.0</td>\n",
       "      <td>NaN</td>\n",
       "      <td>NaN</td>\n",
       "    </tr>\n",
       "    <tr>\n",
       "      <th>3534</th>\n",
       "      <td>5987</td>\n",
       "      <td>23 Blast</td>\n",
       "      <td>13+</td>\n",
       "      <td>0</td>\n",
       "      <td>0</td>\n",
       "      <td>1</td>\n",
       "      <td>0</td>\n",
       "      <td>[Drama, Family, Sport]</td>\n",
       "      <td>50.5</td>\n",
       "      <td>NaN</td>\n",
       "      <td>NaN</td>\n",
       "      <td>NaN</td>\n",
       "      <td>NaN</td>\n",
       "      <td>1.0</td>\n",
       "      <td>NaN</td>\n",
       "      <td>NaN</td>\n",
       "      <td>NaN</td>\n",
       "      <td>NaN</td>\n",
       "    </tr>\n",
       "  </tbody>\n",
       "</table>\n",
       "</div>"
      ],
      "text/plain": [
       "      index           Title  Age  Netflix  Hulu  Prime Video  Disney+  \\\n",
       "3620   6097       Ted Bundy  18+        0     0            1        0   \n",
       "3811   6355  The Motel Life  18+        0     0            1        0   \n",
       "3534   5987        23 Blast  13+        0     0            1        0   \n",
       "\n",
       "                                           Genres  Composite (%)  Action  \\\n",
       "3620  [Biography, Crime, Drama, Horror, Thriller]           49.5     NaN   \n",
       "3811        [Animation, Drama, Mystery, Thriller]           64.5     NaN   \n",
       "3534                       [Drama, Family, Sport]           50.5     NaN   \n",
       "\n",
       "      Adventure  Thriller  Comedy  Drama  Romance  Mystery  Horror  \\\n",
       "3620        NaN       1.0     NaN    1.0      NaN      NaN     1.0   \n",
       "3811        NaN       1.0     NaN    1.0      NaN      1.0     NaN   \n",
       "3534        NaN       NaN     NaN    1.0      NaN      NaN     NaN   \n",
       "\n",
       "      Documentary  \n",
       "3620          NaN  \n",
       "3811          NaN  \n",
       "3534          NaN  "
      ]
     },
     "execution_count": 8,
     "metadata": {},
     "output_type": "execute_result"
    }
   ],
   "source": [
    "favorite_cr.sample(3)"
   ]
  },
  {
   "cell_type": "markdown",
   "metadata": {},
   "source": [
    "\n",
    "\n",
    "Now, we can utilize this data to create two dataframes. One will hold the Ratings that are a percentage. The other will hold the total count for movies."
   ]
  },
  {
   "cell_type": "code",
   "execution_count": 9,
   "metadata": {},
   "outputs": [
    {
     "name": "stderr",
     "output_type": "stream",
     "text": [
      "<ipython-input-9-935c32e62800>:3: UserWarning:\n",
      "\n",
      "Boolean Series key will be reindexed to match DataFrame index.\n",
      "\n",
      "<ipython-input-9-935c32e62800>:8: UserWarning:\n",
      "\n",
      "Boolean Series key will be reindexed to match DataFrame index.\n",
      "\n",
      "<ipython-input-9-935c32e62800>:3: UserWarning:\n",
      "\n",
      "Boolean Series key will be reindexed to match DataFrame index.\n",
      "\n",
      "<ipython-input-9-935c32e62800>:8: UserWarning:\n",
      "\n",
      "Boolean Series key will be reindexed to match DataFrame index.\n",
      "\n",
      "<ipython-input-9-935c32e62800>:3: UserWarning:\n",
      "\n",
      "Boolean Series key will be reindexed to match DataFrame index.\n",
      "\n",
      "<ipython-input-9-935c32e62800>:8: UserWarning:\n",
      "\n",
      "Boolean Series key will be reindexed to match DataFrame index.\n",
      "\n",
      "<ipython-input-9-935c32e62800>:3: UserWarning:\n",
      "\n",
      "Boolean Series key will be reindexed to match DataFrame index.\n",
      "\n",
      "<ipython-input-9-935c32e62800>:8: UserWarning:\n",
      "\n",
      "Boolean Series key will be reindexed to match DataFrame index.\n",
      "\n",
      "<ipython-input-9-935c32e62800>:3: UserWarning:\n",
      "\n",
      "Boolean Series key will be reindexed to match DataFrame index.\n",
      "\n",
      "<ipython-input-9-935c32e62800>:8: UserWarning:\n",
      "\n",
      "Boolean Series key will be reindexed to match DataFrame index.\n",
      "\n",
      "<ipython-input-9-935c32e62800>:3: UserWarning:\n",
      "\n",
      "Boolean Series key will be reindexed to match DataFrame index.\n",
      "\n",
      "<ipython-input-9-935c32e62800>:8: UserWarning:\n",
      "\n",
      "Boolean Series key will be reindexed to match DataFrame index.\n",
      "\n",
      "<ipython-input-9-935c32e62800>:3: UserWarning:\n",
      "\n",
      "Boolean Series key will be reindexed to match DataFrame index.\n",
      "\n",
      "<ipython-input-9-935c32e62800>:8: UserWarning:\n",
      "\n",
      "Boolean Series key will be reindexed to match DataFrame index.\n",
      "\n",
      "<ipython-input-9-935c32e62800>:3: UserWarning:\n",
      "\n",
      "Boolean Series key will be reindexed to match DataFrame index.\n",
      "\n",
      "<ipython-input-9-935c32e62800>:8: UserWarning:\n",
      "\n",
      "Boolean Series key will be reindexed to match DataFrame index.\n",
      "\n",
      "<ipython-input-9-935c32e62800>:3: UserWarning:\n",
      "\n",
      "Boolean Series key will be reindexed to match DataFrame index.\n",
      "\n",
      "<ipython-input-9-935c32e62800>:8: UserWarning:\n",
      "\n",
      "Boolean Series key will be reindexed to match DataFrame index.\n",
      "\n",
      "<ipython-input-9-935c32e62800>:3: UserWarning:\n",
      "\n",
      "Boolean Series key will be reindexed to match DataFrame index.\n",
      "\n",
      "<ipython-input-9-935c32e62800>:8: UserWarning:\n",
      "\n",
      "Boolean Series key will be reindexed to match DataFrame index.\n",
      "\n",
      "<ipython-input-9-935c32e62800>:3: UserWarning:\n",
      "\n",
      "Boolean Series key will be reindexed to match DataFrame index.\n",
      "\n",
      "<ipython-input-9-935c32e62800>:8: UserWarning:\n",
      "\n",
      "Boolean Series key will be reindexed to match DataFrame index.\n",
      "\n",
      "<ipython-input-9-935c32e62800>:3: UserWarning:\n",
      "\n",
      "Boolean Series key will be reindexed to match DataFrame index.\n",
      "\n",
      "<ipython-input-9-935c32e62800>:8: UserWarning:\n",
      "\n",
      "Boolean Series key will be reindexed to match DataFrame index.\n",
      "\n",
      "<ipython-input-9-935c32e62800>:3: UserWarning:\n",
      "\n",
      "Boolean Series key will be reindexed to match DataFrame index.\n",
      "\n",
      "<ipython-input-9-935c32e62800>:8: UserWarning:\n",
      "\n",
      "Boolean Series key will be reindexed to match DataFrame index.\n",
      "\n",
      "<ipython-input-9-935c32e62800>:3: UserWarning:\n",
      "\n",
      "Boolean Series key will be reindexed to match DataFrame index.\n",
      "\n",
      "<ipython-input-9-935c32e62800>:8: UserWarning:\n",
      "\n",
      "Boolean Series key will be reindexed to match DataFrame index.\n",
      "\n",
      "<ipython-input-9-935c32e62800>:3: UserWarning:\n",
      "\n",
      "Boolean Series key will be reindexed to match DataFrame index.\n",
      "\n",
      "<ipython-input-9-935c32e62800>:8: UserWarning:\n",
      "\n",
      "Boolean Series key will be reindexed to match DataFrame index.\n",
      "\n",
      "<ipython-input-9-935c32e62800>:3: UserWarning:\n",
      "\n",
      "Boolean Series key will be reindexed to match DataFrame index.\n",
      "\n",
      "<ipython-input-9-935c32e62800>:8: UserWarning:\n",
      "\n",
      "Boolean Series key will be reindexed to match DataFrame index.\n",
      "\n",
      "<ipython-input-9-935c32e62800>:3: UserWarning:\n",
      "\n",
      "Boolean Series key will be reindexed to match DataFrame index.\n",
      "\n",
      "<ipython-input-9-935c32e62800>:8: UserWarning:\n",
      "\n",
      "Boolean Series key will be reindexed to match DataFrame index.\n",
      "\n",
      "<ipython-input-9-935c32e62800>:3: UserWarning:\n",
      "\n",
      "Boolean Series key will be reindexed to match DataFrame index.\n",
      "\n",
      "<ipython-input-9-935c32e62800>:8: UserWarning:\n",
      "\n",
      "Boolean Series key will be reindexed to match DataFrame index.\n",
      "\n",
      "<ipython-input-9-935c32e62800>:3: UserWarning:\n",
      "\n",
      "Boolean Series key will be reindexed to match DataFrame index.\n",
      "\n",
      "<ipython-input-9-935c32e62800>:8: UserWarning:\n",
      "\n",
      "Boolean Series key will be reindexed to match DataFrame index.\n",
      "\n",
      "<ipython-input-9-935c32e62800>:3: UserWarning:\n",
      "\n",
      "Boolean Series key will be reindexed to match DataFrame index.\n",
      "\n",
      "<ipython-input-9-935c32e62800>:8: UserWarning:\n",
      "\n",
      "Boolean Series key will be reindexed to match DataFrame index.\n",
      "\n",
      "<ipython-input-9-935c32e62800>:3: UserWarning:\n",
      "\n",
      "Boolean Series key will be reindexed to match DataFrame index.\n",
      "\n",
      "<ipython-input-9-935c32e62800>:8: UserWarning:\n",
      "\n",
      "Boolean Series key will be reindexed to match DataFrame index.\n",
      "\n",
      "<ipython-input-9-935c32e62800>:3: UserWarning:\n",
      "\n",
      "Boolean Series key will be reindexed to match DataFrame index.\n",
      "\n",
      "<ipython-input-9-935c32e62800>:8: UserWarning:\n",
      "\n",
      "Boolean Series key will be reindexed to match DataFrame index.\n",
      "\n",
      "<ipython-input-9-935c32e62800>:3: UserWarning:\n",
      "\n",
      "Boolean Series key will be reindexed to match DataFrame index.\n",
      "\n",
      "<ipython-input-9-935c32e62800>:8: UserWarning:\n",
      "\n",
      "Boolean Series key will be reindexed to match DataFrame index.\n",
      "\n",
      "<ipython-input-9-935c32e62800>:3: UserWarning:\n",
      "\n",
      "Boolean Series key will be reindexed to match DataFrame index.\n",
      "\n",
      "<ipython-input-9-935c32e62800>:8: UserWarning:\n",
      "\n",
      "Boolean Series key will be reindexed to match DataFrame index.\n",
      "\n",
      "<ipython-input-9-935c32e62800>:3: UserWarning:\n",
      "\n",
      "Boolean Series key will be reindexed to match DataFrame index.\n",
      "\n",
      "<ipython-input-9-935c32e62800>:8: UserWarning:\n",
      "\n",
      "Boolean Series key will be reindexed to match DataFrame index.\n",
      "\n",
      "<ipython-input-9-935c32e62800>:3: UserWarning:\n",
      "\n",
      "Boolean Series key will be reindexed to match DataFrame index.\n",
      "\n",
      "<ipython-input-9-935c32e62800>:8: UserWarning:\n",
      "\n",
      "Boolean Series key will be reindexed to match DataFrame index.\n",
      "\n",
      "<ipython-input-9-935c32e62800>:3: UserWarning:\n",
      "\n",
      "Boolean Series key will be reindexed to match DataFrame index.\n",
      "\n",
      "<ipython-input-9-935c32e62800>:8: UserWarning:\n",
      "\n",
      "Boolean Series key will be reindexed to match DataFrame index.\n",
      "\n",
      "<ipython-input-9-935c32e62800>:3: UserWarning:\n",
      "\n",
      "Boolean Series key will be reindexed to match DataFrame index.\n",
      "\n",
      "<ipython-input-9-935c32e62800>:8: UserWarning:\n",
      "\n",
      "Boolean Series key will be reindexed to match DataFrame index.\n",
      "\n",
      "<ipython-input-9-935c32e62800>:3: UserWarning:\n",
      "\n",
      "Boolean Series key will be reindexed to match DataFrame index.\n",
      "\n",
      "<ipython-input-9-935c32e62800>:8: UserWarning:\n",
      "\n",
      "Boolean Series key will be reindexed to match DataFrame index.\n",
      "\n",
      "<ipython-input-9-935c32e62800>:3: UserWarning:\n",
      "\n",
      "Boolean Series key will be reindexed to match DataFrame index.\n",
      "\n",
      "<ipython-input-9-935c32e62800>:8: UserWarning:\n",
      "\n",
      "Boolean Series key will be reindexed to match DataFrame index.\n",
      "\n",
      "<ipython-input-9-935c32e62800>:3: UserWarning:\n",
      "\n",
      "Boolean Series key will be reindexed to match DataFrame index.\n",
      "\n",
      "<ipython-input-9-935c32e62800>:8: UserWarning:\n",
      "\n",
      "Boolean Series key will be reindexed to match DataFrame index.\n",
      "\n",
      "<ipython-input-9-935c32e62800>:3: UserWarning:\n",
      "\n",
      "Boolean Series key will be reindexed to match DataFrame index.\n",
      "\n",
      "<ipython-input-9-935c32e62800>:8: UserWarning:\n",
      "\n",
      "Boolean Series key will be reindexed to match DataFrame index.\n",
      "\n",
      "<ipython-input-9-935c32e62800>:3: UserWarning:\n",
      "\n",
      "Boolean Series key will be reindexed to match DataFrame index.\n",
      "\n",
      "<ipython-input-9-935c32e62800>:8: UserWarning:\n",
      "\n",
      "Boolean Series key will be reindexed to match DataFrame index.\n",
      "\n",
      "<ipython-input-9-935c32e62800>:3: UserWarning:\n",
      "\n",
      "Boolean Series key will be reindexed to match DataFrame index.\n",
      "\n",
      "<ipython-input-9-935c32e62800>:8: UserWarning:\n",
      "\n",
      "Boolean Series key will be reindexed to match DataFrame index.\n",
      "\n",
      "<ipython-input-9-935c32e62800>:3: UserWarning:\n",
      "\n",
      "Boolean Series key will be reindexed to match DataFrame index.\n",
      "\n",
      "<ipython-input-9-935c32e62800>:8: UserWarning:\n",
      "\n",
      "Boolean Series key will be reindexed to match DataFrame index.\n",
      "\n",
      "<ipython-input-9-935c32e62800>:3: UserWarning:\n",
      "\n",
      "Boolean Series key will be reindexed to match DataFrame index.\n",
      "\n",
      "<ipython-input-9-935c32e62800>:8: UserWarning:\n",
      "\n",
      "Boolean Series key will be reindexed to match DataFrame index.\n",
      "\n"
     ]
    }
   ],
   "source": [
    "def rating_by_gen(first_filter, variable_name):\n",
    "    df = favorite_cr[favorite_cr[first_filter] == 1]\n",
    "    comp_for_age_gen = df[favorite_cr[variable_name]== 1 ]\n",
    "    return comp_for_age_gen.groupby(['Age'])['Composite (%)'].agg(np.average)\n",
    "\n",
    "def total_count(first_filter, variable_name):\n",
    "    df = favorite_cr[favorite_cr[first_filter] == 1]\n",
    "    comp_for_age_gen = df[ favorite_cr[variable_name]== 1 ]\n",
    "    return comp_for_age_gen.groupby(['Age'])['Title'].agg('count')\n",
    "\n",
    "big_4 = ['Netflix','Hulu','Prime Video','Disney+']\n",
    "big_4_avg = ['Netflix_Avg_','Hulu_Avg_','Prime Video_Avg_','Disney+_Avg_']\n",
    "streaming_genres = ['Action', 'Adventure', 'Thriller', 'Comedy','Drama', 'Romance', 'Mystery', 'Horror', 'Documentary']\n",
    "\n",
    "Ratings_by_age = pd.DataFrame()\n",
    "Totals = pd.DataFrame()\n",
    "\n",
    "for ind,service in enumerate(big_4):\n",
    "    for genre in streaming_genres:\n",
    "        name = big_4_avg[ind] + genre\n",
    "        tot_name = big_4[ind] + ' ' + genre\n",
    "        Ratings_by_age[name] = rating_by_gen(genre, service)\n",
    "        Totals[tot_name] = total_count(genre, service)\n",
    "\n",
    "#Let's take a look at our Ratings by age, platform,\n",
    "Ratings_by_age = Ratings_by_age.transpose().reset_index()\n",
    "Ratings_by_age['Service'] = Ratings_by_age['index'].str.split('_')\n",
    "Ratings_by_age['Genre'] = [i[2] for i in Ratings_by_age['Service']]\n",
    "Ratings_by_age['Service'] = [i[0] for i in Ratings_by_age['Service']]\n",
    "Ratings_by_age = Ratings_by_age.groupby(['Service','Genre']).agg(lambda x: x)\n",
    "Ratings_by_age = Ratings_by_age.drop(columns='index')\n",
    "\n",
    "\n",
    "#For the intermediate results, uncomment the .sample() lines of code.\n",
    "Totals_by_age = pd.DataFrame(Totals.stack(),columns=['Total Movies'])\n",
    "Totals_by_age = Totals_by_age.reset_index()\n",
    "Totals_by_age.sample(3)\n",
    "\n",
    "Ratings_by_age = pd.DataFrame(Ratings_by_age.reset_index(\n",
    ").set_index(['Service','Genre']).stack(\n",
    "), columns=['Ratings by Percent']).reset_index()\n",
    "\n",
    "Ratings_by_age['Join_Col'] = Ratings_by_age['Service'] + ' ' + Ratings_by_age['Genre']\n",
    "#Ratings_by_age.sample(3)\n",
    "#Totals_by_age.sample(3)"
   ]
  },
  {
   "cell_type": "code",
   "execution_count": 10,
   "metadata": {},
   "outputs": [
    {
     "data": {
      "text/html": [
       "<div>\n",
       "<style scoped>\n",
       "    .dataframe tbody tr th:only-of-type {\n",
       "        vertical-align: middle;\n",
       "    }\n",
       "\n",
       "    .dataframe tbody tr th {\n",
       "        vertical-align: top;\n",
       "    }\n",
       "\n",
       "    .dataframe thead th {\n",
       "        text-align: right;\n",
       "    }\n",
       "</style>\n",
       "<table border=\"1\" class=\"dataframe\">\n",
       "  <thead>\n",
       "    <tr style=\"text-align: right;\">\n",
       "      <th></th>\n",
       "      <th>Genre</th>\n",
       "      <th>Age</th>\n",
       "      <th>Ratings by Percent</th>\n",
       "      <th>Service_Genre</th>\n",
       "      <th>Service</th>\n",
       "      <th>Total Movies</th>\n",
       "    </tr>\n",
       "    <tr>\n",
       "      <th>index</th>\n",
       "      <th></th>\n",
       "      <th></th>\n",
       "      <th></th>\n",
       "      <th></th>\n",
       "      <th></th>\n",
       "      <th></th>\n",
       "    </tr>\n",
       "  </thead>\n",
       "  <tbody>\n",
       "    <tr>\n",
       "      <th>Disney+</th>\n",
       "      <td>Action</td>\n",
       "      <td>13+</td>\n",
       "      <td>74.482759</td>\n",
       "      <td>Disney+ Action</td>\n",
       "      <td>Disney+</td>\n",
       "      <td>29.0</td>\n",
       "    </tr>\n",
       "    <tr>\n",
       "      <th>Disney+</th>\n",
       "      <td>Action</td>\n",
       "      <td>7+</td>\n",
       "      <td>63.346154</td>\n",
       "      <td>Disney+ Action</td>\n",
       "      <td>Disney+</td>\n",
       "      <td>26.0</td>\n",
       "    </tr>\n",
       "    <tr>\n",
       "      <th>Disney+</th>\n",
       "      <td>Action</td>\n",
       "      <td>all</td>\n",
       "      <td>63.650000</td>\n",
       "      <td>Disney+ Action</td>\n",
       "      <td>Disney+</td>\n",
       "      <td>10.0</td>\n",
       "    </tr>\n",
       "    <tr>\n",
       "      <th>Disney+</th>\n",
       "      <td>Adventure</td>\n",
       "      <td>13+</td>\n",
       "      <td>74.983333</td>\n",
       "      <td>Disney+ Adventure</td>\n",
       "      <td>Disney+</td>\n",
       "      <td>30.0</td>\n",
       "    </tr>\n",
       "    <tr>\n",
       "      <th>Disney+</th>\n",
       "      <td>Adventure</td>\n",
       "      <td>7+</td>\n",
       "      <td>67.040000</td>\n",
       "      <td>Disney+ Adventure</td>\n",
       "      <td>Disney+</td>\n",
       "      <td>75.0</td>\n",
       "    </tr>\n",
       "  </tbody>\n",
       "</table>\n",
       "</div>"
      ],
      "text/plain": [
       "             Genre  Age  Ratings by Percent      Service_Genre  Service  \\\n",
       "index                                                                     \n",
       "Disney+     Action  13+           74.482759     Disney+ Action  Disney+   \n",
       "Disney+     Action   7+           63.346154     Disney+ Action  Disney+   \n",
       "Disney+     Action  all           63.650000     Disney+ Action  Disney+   \n",
       "Disney+  Adventure  13+           74.983333  Disney+ Adventure  Disney+   \n",
       "Disney+  Adventure   7+           67.040000  Disney+ Adventure  Disney+   \n",
       "\n",
       "         Total Movies  \n",
       "index                  \n",
       "Disney+          29.0  \n",
       "Disney+          26.0  \n",
       "Disney+          10.0  \n",
       "Disney+          30.0  \n",
       "Disney+          75.0  "
      ]
     },
     "execution_count": 10,
     "metadata": {},
     "output_type": "execute_result"
    }
   ],
   "source": [
    "# The last step to to get the data in the form we'd like it to be in, we must merge the two dataframes that we created\n",
    "# in the last cell.\n",
    "\n",
    "final_df = Ratings_by_age.merge( Totals_by_age, how='left', \n",
    "                              left_on=['Join_Col','Age'],\n",
    "                              right_on=['level_1','Age'])\n",
    "\n",
    "\n",
    "# Plotly express takes an entire dataframe as the first argument, so we want to specify the index and change the name of\n",
    "# any columns that we will need when plotting. Plotly conveniently takes the string passed as the title for\n",
    "# the axis or element.\n",
    "\n",
    "final_df['level_1'] = final_df['Service']\n",
    "movies_final = final_df.rename(columns={\n",
    "    'Join_Col': 'Service_Genre',\n",
    "    'Service': 'index',\n",
    "    'level_1': 'Service',\n",
    "}).set_index('index')\n",
    "\n",
    "movies_final.head()"
   ]
  },
  {
   "cell_type": "markdown",
   "metadata": {},
   "source": [
    "## Data Visualization\n",
    "\n",
    "We now have our clean data set and are now ready to engage the Plotly Express library. I will add in a few components at each time to showcase the individual components that build to more advanced features, like animation frame and animation group."
   ]
  },
  {
   "cell_type": "code",
   "execution_count": 11,
   "metadata": {},
   "outputs": [
    {
     "data": {
      "application/vnd.plotly.v1+json": {
       "config": {
        "plotlyServerURL": "https://plot.ly"
       },
       "data": [
        {
         "hovertemplate": "Total Movies=%{x}<br>Ratings by Percent=%{y}<extra></extra>",
         "legendgroup": "",
         "marker": {
          "color": "#636efa",
          "symbol": "circle"
         },
         "mode": "markers",
         "name": "",
         "orientation": "v",
         "showlegend": false,
         "type": "scatter",
         "x": [
          29,
          26,
          10,
          30,
          75,
          93,
          9,
          1,
          75,
          104,
          1,
          6,
          9,
          7,
          2,
          42,
          41,
          1,
          5,
          2,
          8,
          6,
          20,
          38,
          3,
          5,
          3,
          23,
          32,
          13,
          16,
          17,
          33,
          3,
          30,
          1,
          87,
          29,
          4,
          15,
          1,
          16,
          17,
          1,
          54,
          2,
          156,
          22,
          4,
          8,
          1,
          46,
          3,
          11,
          32,
          5,
          15,
          48,
          13,
          2,
          27,
          1,
          86,
          8,
          66,
          4,
          118,
          31,
          4,
          48,
          1,
          26,
          67,
          16,
          95,
          16,
          151,
          101,
          14,
          16,
          13,
          37,
          11,
          3,
          130,
          13,
          309,
          61,
          8,
          22,
          1,
          87,
          6,
          27,
          3,
          75,
          9,
          1,
          60,
          9,
          84,
          32,
          7,
          59,
          4,
          214,
          12,
          59,
          5,
          136,
          32,
          5,
          48,
          6,
          48,
          57,
          17,
          133,
          14,
          322,
          97,
          24,
          34,
          15,
          52,
          43,
          16,
          232,
          25,
          669,
          144,
          32,
          30,
          12,
          220,
          16,
          3,
          41,
          5,
          136,
          20,
          6,
          103,
          6,
          178,
          56,
          9,
          77,
          14,
          366,
          33,
          6
         ],
         "xaxis": "x",
         "y": [
          74.48275862068965,
          63.34615384615385,
          63.65,
          74.98333333333333,
          67.04,
          65.85483870967742,
          72.11111111111111,
          44,
          57.00666666666667,
          63.375,
          89.5,
          73.66666666666667,
          65.38888888888889,
          65.78571428571429,
          69.25,
          65.36904761904762,
          65.5,
          38,
          62.1,
          59,
          69.3125,
          71,
          55.875,
          59.44736842105263,
          62.5,
          51.5,
          62.5,
          55.91304347826087,
          58.96875,
          65.26923076923077,
          59.96875,
          69.1470588235294,
          59.57575757575758,
          75.83333333333333,
          53.53333333333333,
          35,
          66.23563218390805,
          59.96551724137931,
          71.625,
          82.03333333333333,
          78.5,
          79.6875,
          81.67647058823529,
          90.5,
          67.01851851851852,
          36.75,
          66.35576923076923,
          68.13636363636364,
          81.75,
          55,
          38.5,
          60.54347826086956,
          72.16666666666667,
          62.22727272727273,
          61.703125,
          55.5,
          58.36666666666667,
          62.59375,
          62.38461538461539,
          72,
          57.425925925925924,
          38.5,
          62.05813953488372,
          72.75,
          59.5,
          55.125,
          56.76271186440678,
          60.95161290322581,
          69.375,
          59.572916666666664,
          80.5,
          56.65384615384615,
          64.64179104477611,
          67.71875,
          60.93157894736842,
          57.46875,
          63.54304635761589,
          59.603960396039604,
          67.46428571428571,
          82.8125,
          81.57692307692308,
          77,
          80,
          80.5,
          64.28461538461538,
          69.88461538461539,
          65.30097087378641,
          65.1311475409836,
          78.4375,
          59.20454545454545,
          44.5,
          56.54022988505747,
          56.333333333333336,
          56.592592592592595,
          68,
          58.92666666666667,
          70.77777777777777,
          82,
          60.09166666666667,
          63.833333333333336,
          63.26190476190476,
          54.84375,
          74.5,
          58.91525423728814,
          61.125,
          58.62850467289719,
          64.75,
          53.75423728813559,
          42,
          54.12132352941177,
          58.921875,
          78.8,
          56.864583333333336,
          49,
          55.458333333333336,
          58.69298245614035,
          59.3235294117647,
          53.838345864661655,
          51.32142857142857,
          56.24068322981366,
          58.72680412371134,
          62.75,
          77.1029411764706,
          76.5,
          74.83653846153847,
          76.55813953488372,
          76.4375,
          61.25431034482759,
          71,
          61.158445440956655,
          66.19791666666667,
          68.46875,
          47.45,
          48.791666666666664,
          55.595454545454544,
          61.875,
          40.166666666666664,
          55.073170731707314,
          62.2,
          58.720588235294116,
          67.3,
          75.75,
          58.62621359223301,
          49,
          58.33426966292135,
          63.625,
          70.83333333333333,
          56.33766233766234,
          55.57142857142857,
          57.047814207650276,
          66.43939393939394,
          64.33333333333333
         ],
         "yaxis": "y"
        }
       ],
       "layout": {
        "legend": {
         "tracegroupgap": 0
        },
        "margin": {
         "t": 60
        },
        "template": {
         "data": {
          "bar": [
           {
            "error_x": {
             "color": "#2a3f5f"
            },
            "error_y": {
             "color": "#2a3f5f"
            },
            "marker": {
             "line": {
              "color": "#E5ECF6",
              "width": 0.5
             }
            },
            "type": "bar"
           }
          ],
          "barpolar": [
           {
            "marker": {
             "line": {
              "color": "#E5ECF6",
              "width": 0.5
             }
            },
            "type": "barpolar"
           }
          ],
          "carpet": [
           {
            "aaxis": {
             "endlinecolor": "#2a3f5f",
             "gridcolor": "white",
             "linecolor": "white",
             "minorgridcolor": "white",
             "startlinecolor": "#2a3f5f"
            },
            "baxis": {
             "endlinecolor": "#2a3f5f",
             "gridcolor": "white",
             "linecolor": "white",
             "minorgridcolor": "white",
             "startlinecolor": "#2a3f5f"
            },
            "type": "carpet"
           }
          ],
          "choropleth": [
           {
            "colorbar": {
             "outlinewidth": 0,
             "ticks": ""
            },
            "type": "choropleth"
           }
          ],
          "contour": [
           {
            "colorbar": {
             "outlinewidth": 0,
             "ticks": ""
            },
            "colorscale": [
             [
              0,
              "#0d0887"
             ],
             [
              0.1111111111111111,
              "#46039f"
             ],
             [
              0.2222222222222222,
              "#7201a8"
             ],
             [
              0.3333333333333333,
              "#9c179e"
             ],
             [
              0.4444444444444444,
              "#bd3786"
             ],
             [
              0.5555555555555556,
              "#d8576b"
             ],
             [
              0.6666666666666666,
              "#ed7953"
             ],
             [
              0.7777777777777778,
              "#fb9f3a"
             ],
             [
              0.8888888888888888,
              "#fdca26"
             ],
             [
              1,
              "#f0f921"
             ]
            ],
            "type": "contour"
           }
          ],
          "contourcarpet": [
           {
            "colorbar": {
             "outlinewidth": 0,
             "ticks": ""
            },
            "type": "contourcarpet"
           }
          ],
          "heatmap": [
           {
            "colorbar": {
             "outlinewidth": 0,
             "ticks": ""
            },
            "colorscale": [
             [
              0,
              "#0d0887"
             ],
             [
              0.1111111111111111,
              "#46039f"
             ],
             [
              0.2222222222222222,
              "#7201a8"
             ],
             [
              0.3333333333333333,
              "#9c179e"
             ],
             [
              0.4444444444444444,
              "#bd3786"
             ],
             [
              0.5555555555555556,
              "#d8576b"
             ],
             [
              0.6666666666666666,
              "#ed7953"
             ],
             [
              0.7777777777777778,
              "#fb9f3a"
             ],
             [
              0.8888888888888888,
              "#fdca26"
             ],
             [
              1,
              "#f0f921"
             ]
            ],
            "type": "heatmap"
           }
          ],
          "heatmapgl": [
           {
            "colorbar": {
             "outlinewidth": 0,
             "ticks": ""
            },
            "colorscale": [
             [
              0,
              "#0d0887"
             ],
             [
              0.1111111111111111,
              "#46039f"
             ],
             [
              0.2222222222222222,
              "#7201a8"
             ],
             [
              0.3333333333333333,
              "#9c179e"
             ],
             [
              0.4444444444444444,
              "#bd3786"
             ],
             [
              0.5555555555555556,
              "#d8576b"
             ],
             [
              0.6666666666666666,
              "#ed7953"
             ],
             [
              0.7777777777777778,
              "#fb9f3a"
             ],
             [
              0.8888888888888888,
              "#fdca26"
             ],
             [
              1,
              "#f0f921"
             ]
            ],
            "type": "heatmapgl"
           }
          ],
          "histogram": [
           {
            "marker": {
             "colorbar": {
              "outlinewidth": 0,
              "ticks": ""
             }
            },
            "type": "histogram"
           }
          ],
          "histogram2d": [
           {
            "colorbar": {
             "outlinewidth": 0,
             "ticks": ""
            },
            "colorscale": [
             [
              0,
              "#0d0887"
             ],
             [
              0.1111111111111111,
              "#46039f"
             ],
             [
              0.2222222222222222,
              "#7201a8"
             ],
             [
              0.3333333333333333,
              "#9c179e"
             ],
             [
              0.4444444444444444,
              "#bd3786"
             ],
             [
              0.5555555555555556,
              "#d8576b"
             ],
             [
              0.6666666666666666,
              "#ed7953"
             ],
             [
              0.7777777777777778,
              "#fb9f3a"
             ],
             [
              0.8888888888888888,
              "#fdca26"
             ],
             [
              1,
              "#f0f921"
             ]
            ],
            "type": "histogram2d"
           }
          ],
          "histogram2dcontour": [
           {
            "colorbar": {
             "outlinewidth": 0,
             "ticks": ""
            },
            "colorscale": [
             [
              0,
              "#0d0887"
             ],
             [
              0.1111111111111111,
              "#46039f"
             ],
             [
              0.2222222222222222,
              "#7201a8"
             ],
             [
              0.3333333333333333,
              "#9c179e"
             ],
             [
              0.4444444444444444,
              "#bd3786"
             ],
             [
              0.5555555555555556,
              "#d8576b"
             ],
             [
              0.6666666666666666,
              "#ed7953"
             ],
             [
              0.7777777777777778,
              "#fb9f3a"
             ],
             [
              0.8888888888888888,
              "#fdca26"
             ],
             [
              1,
              "#f0f921"
             ]
            ],
            "type": "histogram2dcontour"
           }
          ],
          "mesh3d": [
           {
            "colorbar": {
             "outlinewidth": 0,
             "ticks": ""
            },
            "type": "mesh3d"
           }
          ],
          "parcoords": [
           {
            "line": {
             "colorbar": {
              "outlinewidth": 0,
              "ticks": ""
             }
            },
            "type": "parcoords"
           }
          ],
          "pie": [
           {
            "automargin": true,
            "type": "pie"
           }
          ],
          "scatter": [
           {
            "marker": {
             "colorbar": {
              "outlinewidth": 0,
              "ticks": ""
             }
            },
            "type": "scatter"
           }
          ],
          "scatter3d": [
           {
            "line": {
             "colorbar": {
              "outlinewidth": 0,
              "ticks": ""
             }
            },
            "marker": {
             "colorbar": {
              "outlinewidth": 0,
              "ticks": ""
             }
            },
            "type": "scatter3d"
           }
          ],
          "scattercarpet": [
           {
            "marker": {
             "colorbar": {
              "outlinewidth": 0,
              "ticks": ""
             }
            },
            "type": "scattercarpet"
           }
          ],
          "scattergeo": [
           {
            "marker": {
             "colorbar": {
              "outlinewidth": 0,
              "ticks": ""
             }
            },
            "type": "scattergeo"
           }
          ],
          "scattergl": [
           {
            "marker": {
             "colorbar": {
              "outlinewidth": 0,
              "ticks": ""
             }
            },
            "type": "scattergl"
           }
          ],
          "scattermapbox": [
           {
            "marker": {
             "colorbar": {
              "outlinewidth": 0,
              "ticks": ""
             }
            },
            "type": "scattermapbox"
           }
          ],
          "scatterpolar": [
           {
            "marker": {
             "colorbar": {
              "outlinewidth": 0,
              "ticks": ""
             }
            },
            "type": "scatterpolar"
           }
          ],
          "scatterpolargl": [
           {
            "marker": {
             "colorbar": {
              "outlinewidth": 0,
              "ticks": ""
             }
            },
            "type": "scatterpolargl"
           }
          ],
          "scatterternary": [
           {
            "marker": {
             "colorbar": {
              "outlinewidth": 0,
              "ticks": ""
             }
            },
            "type": "scatterternary"
           }
          ],
          "surface": [
           {
            "colorbar": {
             "outlinewidth": 0,
             "ticks": ""
            },
            "colorscale": [
             [
              0,
              "#0d0887"
             ],
             [
              0.1111111111111111,
              "#46039f"
             ],
             [
              0.2222222222222222,
              "#7201a8"
             ],
             [
              0.3333333333333333,
              "#9c179e"
             ],
             [
              0.4444444444444444,
              "#bd3786"
             ],
             [
              0.5555555555555556,
              "#d8576b"
             ],
             [
              0.6666666666666666,
              "#ed7953"
             ],
             [
              0.7777777777777778,
              "#fb9f3a"
             ],
             [
              0.8888888888888888,
              "#fdca26"
             ],
             [
              1,
              "#f0f921"
             ]
            ],
            "type": "surface"
           }
          ],
          "table": [
           {
            "cells": {
             "fill": {
              "color": "#EBF0F8"
             },
             "line": {
              "color": "white"
             }
            },
            "header": {
             "fill": {
              "color": "#C8D4E3"
             },
             "line": {
              "color": "white"
             }
            },
            "type": "table"
           }
          ]
         },
         "layout": {
          "annotationdefaults": {
           "arrowcolor": "#2a3f5f",
           "arrowhead": 0,
           "arrowwidth": 1
          },
          "autotypenumbers": "strict",
          "coloraxis": {
           "colorbar": {
            "outlinewidth": 0,
            "ticks": ""
           }
          },
          "colorscale": {
           "diverging": [
            [
             0,
             "#8e0152"
            ],
            [
             0.1,
             "#c51b7d"
            ],
            [
             0.2,
             "#de77ae"
            ],
            [
             0.3,
             "#f1b6da"
            ],
            [
             0.4,
             "#fde0ef"
            ],
            [
             0.5,
             "#f7f7f7"
            ],
            [
             0.6,
             "#e6f5d0"
            ],
            [
             0.7,
             "#b8e186"
            ],
            [
             0.8,
             "#7fbc41"
            ],
            [
             0.9,
             "#4d9221"
            ],
            [
             1,
             "#276419"
            ]
           ],
           "sequential": [
            [
             0,
             "#0d0887"
            ],
            [
             0.1111111111111111,
             "#46039f"
            ],
            [
             0.2222222222222222,
             "#7201a8"
            ],
            [
             0.3333333333333333,
             "#9c179e"
            ],
            [
             0.4444444444444444,
             "#bd3786"
            ],
            [
             0.5555555555555556,
             "#d8576b"
            ],
            [
             0.6666666666666666,
             "#ed7953"
            ],
            [
             0.7777777777777778,
             "#fb9f3a"
            ],
            [
             0.8888888888888888,
             "#fdca26"
            ],
            [
             1,
             "#f0f921"
            ]
           ],
           "sequentialminus": [
            [
             0,
             "#0d0887"
            ],
            [
             0.1111111111111111,
             "#46039f"
            ],
            [
             0.2222222222222222,
             "#7201a8"
            ],
            [
             0.3333333333333333,
             "#9c179e"
            ],
            [
             0.4444444444444444,
             "#bd3786"
            ],
            [
             0.5555555555555556,
             "#d8576b"
            ],
            [
             0.6666666666666666,
             "#ed7953"
            ],
            [
             0.7777777777777778,
             "#fb9f3a"
            ],
            [
             0.8888888888888888,
             "#fdca26"
            ],
            [
             1,
             "#f0f921"
            ]
           ]
          },
          "colorway": [
           "#636efa",
           "#EF553B",
           "#00cc96",
           "#ab63fa",
           "#FFA15A",
           "#19d3f3",
           "#FF6692",
           "#B6E880",
           "#FF97FF",
           "#FECB52"
          ],
          "font": {
           "color": "#2a3f5f"
          },
          "geo": {
           "bgcolor": "white",
           "lakecolor": "white",
           "landcolor": "#E5ECF6",
           "showlakes": true,
           "showland": true,
           "subunitcolor": "white"
          },
          "hoverlabel": {
           "align": "left"
          },
          "hovermode": "closest",
          "mapbox": {
           "style": "light"
          },
          "paper_bgcolor": "white",
          "plot_bgcolor": "#E5ECF6",
          "polar": {
           "angularaxis": {
            "gridcolor": "white",
            "linecolor": "white",
            "ticks": ""
           },
           "bgcolor": "#E5ECF6",
           "radialaxis": {
            "gridcolor": "white",
            "linecolor": "white",
            "ticks": ""
           }
          },
          "scene": {
           "xaxis": {
            "backgroundcolor": "#E5ECF6",
            "gridcolor": "white",
            "gridwidth": 2,
            "linecolor": "white",
            "showbackground": true,
            "ticks": "",
            "zerolinecolor": "white"
           },
           "yaxis": {
            "backgroundcolor": "#E5ECF6",
            "gridcolor": "white",
            "gridwidth": 2,
            "linecolor": "white",
            "showbackground": true,
            "ticks": "",
            "zerolinecolor": "white"
           },
           "zaxis": {
            "backgroundcolor": "#E5ECF6",
            "gridcolor": "white",
            "gridwidth": 2,
            "linecolor": "white",
            "showbackground": true,
            "ticks": "",
            "zerolinecolor": "white"
           }
          },
          "shapedefaults": {
           "line": {
            "color": "#2a3f5f"
           }
          },
          "ternary": {
           "aaxis": {
            "gridcolor": "white",
            "linecolor": "white",
            "ticks": ""
           },
           "baxis": {
            "gridcolor": "white",
            "linecolor": "white",
            "ticks": ""
           },
           "bgcolor": "#E5ECF6",
           "caxis": {
            "gridcolor": "white",
            "linecolor": "white",
            "ticks": ""
           }
          },
          "title": {
           "x": 0.05
          },
          "xaxis": {
           "automargin": true,
           "gridcolor": "white",
           "linecolor": "white",
           "ticks": "",
           "title": {
            "standoff": 15
           },
           "zerolinecolor": "white",
           "zerolinewidth": 2
          },
          "yaxis": {
           "automargin": true,
           "gridcolor": "white",
           "linecolor": "white",
           "ticks": "",
           "title": {
            "standoff": 15
           },
           "zerolinecolor": "white",
           "zerolinewidth": 2
          }
         }
        },
        "xaxis": {
         "anchor": "y",
         "domain": [
          0,
          1
         ],
         "title": {
          "text": "Total Movies"
         }
        },
        "yaxis": {
         "anchor": "x",
         "domain": [
          0,
          1
         ],
         "title": {
          "text": "Ratings by Percent"
         }
        }
       }
      }
     },
     "metadata": {},
     "output_type": "display_data"
    }
   ],
   "source": [
    "# Using the final_movies dataframe, we can use the string names from the dataframe\n",
    "# to declare what we would like to see and where. There's no option to create subplots with plotly express as\n",
    "# that is a more intensive building process. With the simple command, we can still built a very comprehensive\n",
    "# data visualization.\n",
    "\n",
    "#First we pass it our dataframe and declare our x and y values.\n",
    "fig1 = px.scatter(movies_final, \n",
    "                 x='Total Movies', \n",
    "                 y='Ratings by Percent')\n",
    "\n",
    "#To view this plot just reiterate the name\n",
    "fig1"
   ]
  },
  {
   "cell_type": "code",
   "execution_count": 12,
   "metadata": {},
   "outputs": [
    {
     "data": {
      "application/vnd.plotly.v1+json": {
       "config": {
        "plotlyServerURL": "https://plot.ly"
       },
       "data": [
        {
         "hovertemplate": "<b>%{hovertext}</b><br><br>Age=13+<br>Total Movies=%{marker.size}<br>Ratings by Percent=%{y}<extra></extra>",
         "hovertext": [
          "Disney+ Action",
          "Disney+ Adventure",
          "Disney+ Comedy",
          "Disney+ Documentary",
          "Disney+ Drama",
          "Disney+ Horror",
          "Disney+ Mystery",
          "Disney+ Thriller",
          "Hulu Action",
          "Hulu Adventure",
          "Hulu Comedy",
          "Hulu Documentary",
          "Hulu Drama",
          "Hulu Horror",
          "Hulu Mystery",
          "Hulu Romance",
          "Hulu Thriller",
          "Netflix Action",
          "Netflix Adventure",
          "Netflix Comedy",
          "Netflix Documentary",
          "Netflix Drama",
          "Netflix Horror",
          "Netflix Mystery",
          "Netflix Romance",
          "Netflix Thriller",
          "Prime Video Action",
          "Prime Video Adventure",
          "Prime Video Comedy",
          "Prime Video Documentary",
          "Prime Video Drama",
          "Prime Video Horror",
          "Prime Video Mystery",
          "Prime Video Romance",
          "Prime Video Thriller"
         ],
         "legendgroup": "13+",
         "marker": {
          "color": "#636efa",
          "size": [
           29,
           30,
           9,
           1,
           7,
           1,
           2,
           3,
           23,
           16,
           30,
           15,
           54,
           8,
           11,
           15,
           27,
           66,
           48,
           95,
           16,
           130,
           22,
           27,
           60,
           59,
           59,
           48,
           133,
           34,
           232,
           30,
           41,
           103,
           77
          ],
          "sizemode": "area",
          "sizeref": 1.6725,
          "symbol": "circle"
         },
         "mode": "markers",
         "name": "13+",
         "orientation": "v",
         "showlegend": true,
         "type": "scatter",
         "x": [
          29,
          30,
          9,
          1,
          7,
          1,
          2,
          3,
          23,
          16,
          30,
          15,
          54,
          8,
          11,
          15,
          27,
          66,
          48,
          95,
          16,
          130,
          22,
          27,
          60,
          59,
          59,
          48,
          133,
          34,
          232,
          30,
          41,
          103,
          77
         ],
         "xaxis": "x",
         "y": [
          74.48275862068965,
          74.98333333333333,
          72.11111111111111,
          89.5,
          65.78571428571429,
          38,
          59,
          62.5,
          55.91304347826087,
          59.96875,
          53.53333333333333,
          82.03333333333333,
          67.01851851851852,
          55,
          62.22727272727273,
          58.36666666666667,
          57.425925925925924,
          59.5,
          59.572916666666664,
          60.93157894736842,
          82.8125,
          64.28461538461538,
          59.20454545454545,
          56.592592592592595,
          60.09166666666667,
          58.91525423728814,
          53.75423728813559,
          56.864583333333336,
          53.838345864661655,
          77.1029411764706,
          61.25431034482759,
          47.45,
          55.073170731707314,
          58.62621359223301,
          56.33766233766234
         ],
         "yaxis": "y"
        },
        {
         "hovertemplate": "<b>%{hovertext}</b><br><br>Age=7+<br>Total Movies=%{marker.size}<br>Ratings by Percent=%{y}<extra></extra>",
         "hovertext": [
          "Disney+ Action",
          "Disney+ Adventure",
          "Disney+ Comedy",
          "Disney+ Documentary",
          "Disney+ Drama",
          "Disney+ Horror",
          "Disney+ Mystery",
          "Disney+ Romance",
          "Disney+ Thriller",
          "Hulu Action",
          "Hulu Adventure",
          "Hulu Comedy",
          "Hulu Documentary",
          "Hulu Drama",
          "Hulu Horror",
          "Hulu Mystery",
          "Hulu Romance",
          "Hulu Thriller",
          "Netflix Action",
          "Netflix Adventure",
          "Netflix Comedy",
          "Netflix Documentary",
          "Netflix Drama",
          "Netflix Horror",
          "Netflix Mystery",
          "Netflix Romance",
          "Netflix Thriller",
          "Prime Video Action",
          "Prime Video Adventure",
          "Prime Video Comedy",
          "Prime Video Documentary",
          "Prime Video Drama",
          "Prime Video Horror",
          "Prime Video Mystery",
          "Prime Video Romance",
          "Prime Video Thriller"
         ],
         "legendgroup": "7+",
         "marker": {
          "color": "#EF553B",
          "size": [
           26,
           75,
           75,
           6,
           42,
           5,
           8,
           20,
           5,
           13,
           33,
           29,
           17,
           22,
           3,
           5,
           13,
           8,
           31,
           67,
           101,
           11,
           61,
           6,
           9,
           32,
           12,
           32,
           57,
           97,
           43,
           144,
           16,
           20,
           56,
           33
          ],
          "sizemode": "area",
          "sizeref": 1.6725,
          "symbol": "circle"
         },
         "mode": "markers",
         "name": "7+",
         "orientation": "v",
         "showlegend": true,
         "type": "scatter",
         "x": [
          26,
          75,
          75,
          6,
          42,
          5,
          8,
          20,
          5,
          13,
          33,
          29,
          17,
          22,
          3,
          5,
          13,
          8,
          31,
          67,
          101,
          11,
          61,
          6,
          9,
          32,
          12,
          32,
          57,
          97,
          43,
          144,
          16,
          20,
          56,
          33
         ],
         "xaxis": "x",
         "y": [
          63.34615384615385,
          67.04,
          57.00666666666667,
          73.66666666666667,
          65.36904761904762,
          62.1,
          69.3125,
          55.875,
          51.5,
          65.26923076923077,
          59.57575757575758,
          59.96551724137931,
          81.67647058823529,
          68.13636363636364,
          72.16666666666667,
          55.5,
          62.38461538461539,
          72.75,
          60.95161290322581,
          64.64179104477611,
          59.603960396039604,
          80,
          65.1311475409836,
          56.333333333333336,
          70.77777777777777,
          54.84375,
          64.75,
          58.921875,
          58.69298245614035,
          58.72680412371134,
          76.55813953488372,
          66.19791666666667,
          61.875,
          67.3,
          63.625,
          66.43939393939394
         ],
         "yaxis": "y"
        },
        {
         "hovertemplate": "<b>%{hovertext}</b><br><br>Age=all<br>Total Movies=%{marker.size}<br>Ratings by Percent=%{y}<extra></extra>",
         "hovertext": [
          "Disney+ Action",
          "Disney+ Adventure",
          "Disney+ Comedy",
          "Disney+ Documentary",
          "Disney+ Drama",
          "Disney+ Mystery",
          "Disney+ Romance",
          "Disney+ Thriller",
          "Hulu Adventure",
          "Hulu Comedy",
          "Hulu Documentary",
          "Hulu Drama",
          "Hulu Romance",
          "Netflix Action",
          "Netflix Adventure",
          "Netflix Comedy",
          "Netflix Documentary",
          "Netflix Drama",
          "Netflix Mystery",
          "Netflix Romance",
          "Prime Video Action",
          "Prime Video Adventure",
          "Prime Video Comedy",
          "Prime Video Documentary",
          "Prime Video Drama",
          "Prime Video Horror",
          "Prime Video Mystery",
          "Prime Video Romance",
          "Prime Video Thriller"
         ],
         "legendgroup": "all",
         "marker": {
          "color": "#00cc96",
          "size": [
           10,
           93,
           104,
           9,
           41,
           6,
           38,
           3,
           3,
           4,
           1,
           4,
           2,
           4,
           16,
           14,
           3,
           8,
           1,
           7,
           5,
           17,
           24,
           16,
           32,
           3,
           6,
           9,
           6
          ],
          "sizemode": "area",
          "sizeref": 1.6725,
          "symbol": "circle"
         },
         "mode": "markers",
         "name": "all",
         "orientation": "v",
         "showlegend": true,
         "type": "scatter",
         "x": [
          10,
          93,
          104,
          9,
          41,
          6,
          38,
          3,
          3,
          4,
          1,
          4,
          2,
          4,
          16,
          14,
          3,
          8,
          1,
          7,
          5,
          17,
          24,
          16,
          32,
          3,
          6,
          9,
          6
         ],
         "xaxis": "x",
         "y": [
          63.65,
          65.85483870967742,
          63.375,
          65.38888888888889,
          65.5,
          71,
          59.44736842105263,
          62.5,
          75.83333333333333,
          71.625,
          90.5,
          81.75,
          72,
          69.375,
          67.71875,
          67.46428571428571,
          80.5,
          78.4375,
          82,
          74.5,
          78.8,
          59.3235294117647,
          62.75,
          76.4375,
          68.46875,
          40.166666666666664,
          75.75,
          70.83333333333333,
          64.33333333333333
         ],
         "yaxis": "y"
        },
        {
         "hovertemplate": "<b>%{hovertext}</b><br><br>Age=16+<br>Total Movies=%{marker.size}<br>Ratings by Percent=%{y}<extra></extra>",
         "hovertext": [
          "Disney+ Comedy",
          "Hulu Comedy",
          "Hulu Documentary",
          "Hulu Drama",
          "Hulu Horror",
          "Hulu Thriller",
          "Netflix Action",
          "Netflix Adventure",
          "Netflix Comedy",
          "Netflix Documentary",
          "Netflix Drama",
          "Netflix Horror",
          "Netflix Mystery",
          "Netflix Romance",
          "Netflix Thriller",
          "Prime Video Action",
          "Prime Video Adventure",
          "Prime Video Comedy",
          "Prime Video Documentary",
          "Prime Video Drama",
          "Prime Video Horror",
          "Prime Video Mystery",
          "Prime Video Romance",
          "Prime Video Thriller"
         ],
         "legendgroup": "16+",
         "marker": {
          "color": "#ab63fa",
          "size": [
           1,
           1,
           1,
           2,
           1,
           1,
           4,
           1,
           16,
           13,
           13,
           1,
           3,
           9,
           4,
           5,
           6,
           14,
           15,
           25,
           12,
           5,
           6,
           14
          ],
          "sizemode": "area",
          "sizeref": 1.6725,
          "symbol": "circle"
         },
         "mode": "markers",
         "name": "16+",
         "orientation": "v",
         "showlegend": true,
         "type": "scatter",
         "x": [
          1,
          1,
          1,
          2,
          1,
          1,
          4,
          1,
          16,
          13,
          13,
          1,
          3,
          9,
          4,
          5,
          6,
          14,
          15,
          25,
          12,
          5,
          6,
          14
         ],
         "xaxis": "x",
         "y": [
          44,
          35,
          78.5,
          36.75,
          38.5,
          38.5,
          55.125,
          80.5,
          57.46875,
          81.57692307692308,
          69.88461538461539,
          44.5,
          68,
          63.833333333333336,
          61.125,
          42,
          49,
          51.32142857142857,
          76.5,
          71,
          48.791666666666664,
          62.2,
          49,
          55.57142857142857
         ],
         "yaxis": "y"
        },
        {
         "hovertemplate": "<b>%{hovertext}</b><br><br>Age=18+<br>Total Movies=%{marker.size}<br>Ratings by Percent=%{y}<extra></extra>",
         "hovertext": [
          "Disney+ Drama",
          "Hulu Action",
          "Hulu Adventure",
          "Hulu Comedy",
          "Hulu Documentary",
          "Hulu Drama",
          "Hulu Horror",
          "Hulu Mystery",
          "Hulu Romance",
          "Hulu Thriller",
          "Netflix Action",
          "Netflix Adventure",
          "Netflix Comedy",
          "Netflix Documentary",
          "Netflix Drama",
          "Netflix Horror",
          "Netflix Mystery",
          "Netflix Romance",
          "Netflix Thriller",
          "Prime Video Action",
          "Prime Video Adventure",
          "Prime Video Comedy",
          "Prime Video Documentary",
          "Prime Video Drama",
          "Prime Video Horror",
          "Prime Video Mystery",
          "Prime Video Romance",
          "Prime Video Thriller"
         ],
         "legendgroup": "18+",
         "marker": {
          "color": "#FFA15A",
          "size": [
           2,
           32,
           17,
           87,
           16,
           156,
           46,
           32,
           48,
           86,
           118,
           26,
           151,
           37,
           309,
           87,
           75,
           84,
           214,
           136,
           48,
           322,
           52,
           669,
           220,
           136,
           178,
           366
          ],
          "sizemode": "area",
          "sizeref": 1.6725,
          "symbol": "circle"
         },
         "mode": "markers",
         "name": "18+",
         "orientation": "v",
         "showlegend": true,
         "type": "scatter",
         "x": [
          2,
          32,
          17,
          87,
          16,
          156,
          46,
          32,
          48,
          86,
          118,
          26,
          151,
          37,
          309,
          87,
          75,
          84,
          214,
          136,
          48,
          322,
          52,
          669,
          220,
          136,
          178,
          366
         ],
         "xaxis": "x",
         "y": [
          69.25,
          58.96875,
          69.1470588235294,
          66.23563218390805,
          79.6875,
          66.35576923076923,
          60.54347826086956,
          61.703125,
          62.59375,
          62.05813953488372,
          56.76271186440678,
          56.65384615384615,
          63.54304635761589,
          77,
          65.30097087378641,
          56.54022988505747,
          58.92666666666667,
          63.26190476190476,
          58.62850467289719,
          54.12132352941177,
          55.458333333333336,
          56.24068322981366,
          74.83653846153847,
          61.158445440956655,
          55.595454545454544,
          58.720588235294116,
          58.33426966292135,
          57.047814207650276
         ],
         "yaxis": "y"
        }
       ],
       "layout": {
        "legend": {
         "itemsizing": "constant",
         "title": {
          "text": "Age"
         },
         "tracegroupgap": 0
        },
        "margin": {
         "t": 60
        },
        "template": {
         "data": {
          "bar": [
           {
            "error_x": {
             "color": "#2a3f5f"
            },
            "error_y": {
             "color": "#2a3f5f"
            },
            "marker": {
             "line": {
              "color": "#E5ECF6",
              "width": 0.5
             }
            },
            "type": "bar"
           }
          ],
          "barpolar": [
           {
            "marker": {
             "line": {
              "color": "#E5ECF6",
              "width": 0.5
             }
            },
            "type": "barpolar"
           }
          ],
          "carpet": [
           {
            "aaxis": {
             "endlinecolor": "#2a3f5f",
             "gridcolor": "white",
             "linecolor": "white",
             "minorgridcolor": "white",
             "startlinecolor": "#2a3f5f"
            },
            "baxis": {
             "endlinecolor": "#2a3f5f",
             "gridcolor": "white",
             "linecolor": "white",
             "minorgridcolor": "white",
             "startlinecolor": "#2a3f5f"
            },
            "type": "carpet"
           }
          ],
          "choropleth": [
           {
            "colorbar": {
             "outlinewidth": 0,
             "ticks": ""
            },
            "type": "choropleth"
           }
          ],
          "contour": [
           {
            "colorbar": {
             "outlinewidth": 0,
             "ticks": ""
            },
            "colorscale": [
             [
              0,
              "#0d0887"
             ],
             [
              0.1111111111111111,
              "#46039f"
             ],
             [
              0.2222222222222222,
              "#7201a8"
             ],
             [
              0.3333333333333333,
              "#9c179e"
             ],
             [
              0.4444444444444444,
              "#bd3786"
             ],
             [
              0.5555555555555556,
              "#d8576b"
             ],
             [
              0.6666666666666666,
              "#ed7953"
             ],
             [
              0.7777777777777778,
              "#fb9f3a"
             ],
             [
              0.8888888888888888,
              "#fdca26"
             ],
             [
              1,
              "#f0f921"
             ]
            ],
            "type": "contour"
           }
          ],
          "contourcarpet": [
           {
            "colorbar": {
             "outlinewidth": 0,
             "ticks": ""
            },
            "type": "contourcarpet"
           }
          ],
          "heatmap": [
           {
            "colorbar": {
             "outlinewidth": 0,
             "ticks": ""
            },
            "colorscale": [
             [
              0,
              "#0d0887"
             ],
             [
              0.1111111111111111,
              "#46039f"
             ],
             [
              0.2222222222222222,
              "#7201a8"
             ],
             [
              0.3333333333333333,
              "#9c179e"
             ],
             [
              0.4444444444444444,
              "#bd3786"
             ],
             [
              0.5555555555555556,
              "#d8576b"
             ],
             [
              0.6666666666666666,
              "#ed7953"
             ],
             [
              0.7777777777777778,
              "#fb9f3a"
             ],
             [
              0.8888888888888888,
              "#fdca26"
             ],
             [
              1,
              "#f0f921"
             ]
            ],
            "type": "heatmap"
           }
          ],
          "heatmapgl": [
           {
            "colorbar": {
             "outlinewidth": 0,
             "ticks": ""
            },
            "colorscale": [
             [
              0,
              "#0d0887"
             ],
             [
              0.1111111111111111,
              "#46039f"
             ],
             [
              0.2222222222222222,
              "#7201a8"
             ],
             [
              0.3333333333333333,
              "#9c179e"
             ],
             [
              0.4444444444444444,
              "#bd3786"
             ],
             [
              0.5555555555555556,
              "#d8576b"
             ],
             [
              0.6666666666666666,
              "#ed7953"
             ],
             [
              0.7777777777777778,
              "#fb9f3a"
             ],
             [
              0.8888888888888888,
              "#fdca26"
             ],
             [
              1,
              "#f0f921"
             ]
            ],
            "type": "heatmapgl"
           }
          ],
          "histogram": [
           {
            "marker": {
             "colorbar": {
              "outlinewidth": 0,
              "ticks": ""
             }
            },
            "type": "histogram"
           }
          ],
          "histogram2d": [
           {
            "colorbar": {
             "outlinewidth": 0,
             "ticks": ""
            },
            "colorscale": [
             [
              0,
              "#0d0887"
             ],
             [
              0.1111111111111111,
              "#46039f"
             ],
             [
              0.2222222222222222,
              "#7201a8"
             ],
             [
              0.3333333333333333,
              "#9c179e"
             ],
             [
              0.4444444444444444,
              "#bd3786"
             ],
             [
              0.5555555555555556,
              "#d8576b"
             ],
             [
              0.6666666666666666,
              "#ed7953"
             ],
             [
              0.7777777777777778,
              "#fb9f3a"
             ],
             [
              0.8888888888888888,
              "#fdca26"
             ],
             [
              1,
              "#f0f921"
             ]
            ],
            "type": "histogram2d"
           }
          ],
          "histogram2dcontour": [
           {
            "colorbar": {
             "outlinewidth": 0,
             "ticks": ""
            },
            "colorscale": [
             [
              0,
              "#0d0887"
             ],
             [
              0.1111111111111111,
              "#46039f"
             ],
             [
              0.2222222222222222,
              "#7201a8"
             ],
             [
              0.3333333333333333,
              "#9c179e"
             ],
             [
              0.4444444444444444,
              "#bd3786"
             ],
             [
              0.5555555555555556,
              "#d8576b"
             ],
             [
              0.6666666666666666,
              "#ed7953"
             ],
             [
              0.7777777777777778,
              "#fb9f3a"
             ],
             [
              0.8888888888888888,
              "#fdca26"
             ],
             [
              1,
              "#f0f921"
             ]
            ],
            "type": "histogram2dcontour"
           }
          ],
          "mesh3d": [
           {
            "colorbar": {
             "outlinewidth": 0,
             "ticks": ""
            },
            "type": "mesh3d"
           }
          ],
          "parcoords": [
           {
            "line": {
             "colorbar": {
              "outlinewidth": 0,
              "ticks": ""
             }
            },
            "type": "parcoords"
           }
          ],
          "pie": [
           {
            "automargin": true,
            "type": "pie"
           }
          ],
          "scatter": [
           {
            "marker": {
             "colorbar": {
              "outlinewidth": 0,
              "ticks": ""
             }
            },
            "type": "scatter"
           }
          ],
          "scatter3d": [
           {
            "line": {
             "colorbar": {
              "outlinewidth": 0,
              "ticks": ""
             }
            },
            "marker": {
             "colorbar": {
              "outlinewidth": 0,
              "ticks": ""
             }
            },
            "type": "scatter3d"
           }
          ],
          "scattercarpet": [
           {
            "marker": {
             "colorbar": {
              "outlinewidth": 0,
              "ticks": ""
             }
            },
            "type": "scattercarpet"
           }
          ],
          "scattergeo": [
           {
            "marker": {
             "colorbar": {
              "outlinewidth": 0,
              "ticks": ""
             }
            },
            "type": "scattergeo"
           }
          ],
          "scattergl": [
           {
            "marker": {
             "colorbar": {
              "outlinewidth": 0,
              "ticks": ""
             }
            },
            "type": "scattergl"
           }
          ],
          "scattermapbox": [
           {
            "marker": {
             "colorbar": {
              "outlinewidth": 0,
              "ticks": ""
             }
            },
            "type": "scattermapbox"
           }
          ],
          "scatterpolar": [
           {
            "marker": {
             "colorbar": {
              "outlinewidth": 0,
              "ticks": ""
             }
            },
            "type": "scatterpolar"
           }
          ],
          "scatterpolargl": [
           {
            "marker": {
             "colorbar": {
              "outlinewidth": 0,
              "ticks": ""
             }
            },
            "type": "scatterpolargl"
           }
          ],
          "scatterternary": [
           {
            "marker": {
             "colorbar": {
              "outlinewidth": 0,
              "ticks": ""
             }
            },
            "type": "scatterternary"
           }
          ],
          "surface": [
           {
            "colorbar": {
             "outlinewidth": 0,
             "ticks": ""
            },
            "colorscale": [
             [
              0,
              "#0d0887"
             ],
             [
              0.1111111111111111,
              "#46039f"
             ],
             [
              0.2222222222222222,
              "#7201a8"
             ],
             [
              0.3333333333333333,
              "#9c179e"
             ],
             [
              0.4444444444444444,
              "#bd3786"
             ],
             [
              0.5555555555555556,
              "#d8576b"
             ],
             [
              0.6666666666666666,
              "#ed7953"
             ],
             [
              0.7777777777777778,
              "#fb9f3a"
             ],
             [
              0.8888888888888888,
              "#fdca26"
             ],
             [
              1,
              "#f0f921"
             ]
            ],
            "type": "surface"
           }
          ],
          "table": [
           {
            "cells": {
             "fill": {
              "color": "#EBF0F8"
             },
             "line": {
              "color": "white"
             }
            },
            "header": {
             "fill": {
              "color": "#C8D4E3"
             },
             "line": {
              "color": "white"
             }
            },
            "type": "table"
           }
          ]
         },
         "layout": {
          "annotationdefaults": {
           "arrowcolor": "#2a3f5f",
           "arrowhead": 0,
           "arrowwidth": 1
          },
          "autotypenumbers": "strict",
          "coloraxis": {
           "colorbar": {
            "outlinewidth": 0,
            "ticks": ""
           }
          },
          "colorscale": {
           "diverging": [
            [
             0,
             "#8e0152"
            ],
            [
             0.1,
             "#c51b7d"
            ],
            [
             0.2,
             "#de77ae"
            ],
            [
             0.3,
             "#f1b6da"
            ],
            [
             0.4,
             "#fde0ef"
            ],
            [
             0.5,
             "#f7f7f7"
            ],
            [
             0.6,
             "#e6f5d0"
            ],
            [
             0.7,
             "#b8e186"
            ],
            [
             0.8,
             "#7fbc41"
            ],
            [
             0.9,
             "#4d9221"
            ],
            [
             1,
             "#276419"
            ]
           ],
           "sequential": [
            [
             0,
             "#0d0887"
            ],
            [
             0.1111111111111111,
             "#46039f"
            ],
            [
             0.2222222222222222,
             "#7201a8"
            ],
            [
             0.3333333333333333,
             "#9c179e"
            ],
            [
             0.4444444444444444,
             "#bd3786"
            ],
            [
             0.5555555555555556,
             "#d8576b"
            ],
            [
             0.6666666666666666,
             "#ed7953"
            ],
            [
             0.7777777777777778,
             "#fb9f3a"
            ],
            [
             0.8888888888888888,
             "#fdca26"
            ],
            [
             1,
             "#f0f921"
            ]
           ],
           "sequentialminus": [
            [
             0,
             "#0d0887"
            ],
            [
             0.1111111111111111,
             "#46039f"
            ],
            [
             0.2222222222222222,
             "#7201a8"
            ],
            [
             0.3333333333333333,
             "#9c179e"
            ],
            [
             0.4444444444444444,
             "#bd3786"
            ],
            [
             0.5555555555555556,
             "#d8576b"
            ],
            [
             0.6666666666666666,
             "#ed7953"
            ],
            [
             0.7777777777777778,
             "#fb9f3a"
            ],
            [
             0.8888888888888888,
             "#fdca26"
            ],
            [
             1,
             "#f0f921"
            ]
           ]
          },
          "colorway": [
           "#636efa",
           "#EF553B",
           "#00cc96",
           "#ab63fa",
           "#FFA15A",
           "#19d3f3",
           "#FF6692",
           "#B6E880",
           "#FF97FF",
           "#FECB52"
          ],
          "font": {
           "color": "#2a3f5f"
          },
          "geo": {
           "bgcolor": "white",
           "lakecolor": "white",
           "landcolor": "#E5ECF6",
           "showlakes": true,
           "showland": true,
           "subunitcolor": "white"
          },
          "hoverlabel": {
           "align": "left"
          },
          "hovermode": "closest",
          "mapbox": {
           "style": "light"
          },
          "paper_bgcolor": "white",
          "plot_bgcolor": "#E5ECF6",
          "polar": {
           "angularaxis": {
            "gridcolor": "white",
            "linecolor": "white",
            "ticks": ""
           },
           "bgcolor": "#E5ECF6",
           "radialaxis": {
            "gridcolor": "white",
            "linecolor": "white",
            "ticks": ""
           }
          },
          "scene": {
           "xaxis": {
            "backgroundcolor": "#E5ECF6",
            "gridcolor": "white",
            "gridwidth": 2,
            "linecolor": "white",
            "showbackground": true,
            "ticks": "",
            "zerolinecolor": "white"
           },
           "yaxis": {
            "backgroundcolor": "#E5ECF6",
            "gridcolor": "white",
            "gridwidth": 2,
            "linecolor": "white",
            "showbackground": true,
            "ticks": "",
            "zerolinecolor": "white"
           },
           "zaxis": {
            "backgroundcolor": "#E5ECF6",
            "gridcolor": "white",
            "gridwidth": 2,
            "linecolor": "white",
            "showbackground": true,
            "ticks": "",
            "zerolinecolor": "white"
           }
          },
          "shapedefaults": {
           "line": {
            "color": "#2a3f5f"
           }
          },
          "ternary": {
           "aaxis": {
            "gridcolor": "white",
            "linecolor": "white",
            "ticks": ""
           },
           "baxis": {
            "gridcolor": "white",
            "linecolor": "white",
            "ticks": ""
           },
           "bgcolor": "#E5ECF6",
           "caxis": {
            "gridcolor": "white",
            "linecolor": "white",
            "ticks": ""
           }
          },
          "title": {
           "x": 0.05
          },
          "xaxis": {
           "automargin": true,
           "gridcolor": "white",
           "linecolor": "white",
           "ticks": "",
           "title": {
            "standoff": 15
           },
           "zerolinecolor": "white",
           "zerolinewidth": 2
          },
          "yaxis": {
           "automargin": true,
           "gridcolor": "white",
           "linecolor": "white",
           "ticks": "",
           "title": {
            "standoff": 15
           },
           "zerolinecolor": "white",
           "zerolinewidth": 2
          }
         }
        },
        "xaxis": {
         "anchor": "y",
         "domain": [
          0,
          1
         ],
         "title": {
          "text": "Total Movies"
         }
        },
        "yaxis": {
         "anchor": "x",
         "domain": [
          0,
          1
         ],
         "title": {
          "text": "Ratings by Percent"
         }
        }
       }
      }
     },
     "metadata": {},
     "output_type": "display_data"
    }
   ],
   "source": [
    "# Ok, we see a few things. As previously mentioned, we have our x and y label, and if you hover over the\n",
    "# any of the dots you will see that plotly express automatically includes interactive markers.\n",
    "# that's about all we can gather from this visualization. However, we can continue to customize this chart\n",
    "# by using the size and color parameters to start differentiating the ages and genres from one another in\n",
    "# in the same space. Notice how Plotly automatically gives a legend for 'Age' passed to color.\n",
    "\n",
    "\n",
    "fig = px.scatter(movies_final, \n",
    "                 x='Total Movies', \n",
    "                 y='Ratings by Percent',\n",
    "                 size='Total Movies',\n",
    "                 color='Age',\n",
    "                hover_name='Service_Genre')\n",
    "fig"
   ]
  },
  {
   "cell_type": "code",
   "execution_count": 13,
   "metadata": {},
   "outputs": [
    {
     "data": {
      "text/html": [
       "        <script type=\"text/javascript\">\n",
       "        window.PlotlyConfig = {MathJaxConfig: 'local'};\n",
       "        if (window.MathJax) {MathJax.Hub.Config({SVG: {font: \"STIX-Web\"}});}\n",
       "        if (typeof require !== 'undefined') {\n",
       "        require.undef(\"plotly\");\n",
       "        requirejs.config({\n",
       "            paths: {\n",
       "                'plotly': ['https://cdn.plot.ly/plotly-latest.min']\n",
       "            }\n",
       "        });\n",
       "        require(['plotly'], function(Plotly) {\n",
       "            window._Plotly = Plotly;\n",
       "        });\n",
       "        }\n",
       "        </script>\n",
       "        "
      ]
     },
     "metadata": {},
     "output_type": "display_data"
    },
    {
     "data": {
      "text/html": [
       "<div>                            <div id=\"2e4044e3-9492-4da1-aefe-5405c25d86ee\" class=\"plotly-graph-div\" style=\"height:525px; width:100%;\"></div>            <script type=\"text/javascript\">                require([\"plotly\"], function(Plotly) {                    window.PLOTLYENV=window.PLOTLYENV || {};                                    if (document.getElementById(\"2e4044e3-9492-4da1-aefe-5405c25d86ee\")) {                    Plotly.newPlot(                        \"2e4044e3-9492-4da1-aefe-5405c25d86ee\",                        [{\"hovertemplate\": \"<b>%{hovertext}</b><br><br>Age=13+<br>Service=Disney+<br>Total Movies=%{marker.size}<br>Ratings by Percent=%{y}<extra></extra>\", \"hovertext\": [\"Disney+ Action\", \"Disney+ Adventure\", \"Disney+ Comedy\", \"Disney+ Documentary\", \"Disney+ Drama\", \"Disney+ Horror\", \"Disney+ Mystery\", \"Disney+ Thriller\"], \"ids\": [\"Action\", \"Adventure\", \"Comedy\", \"Documentary\", \"Drama\", \"Horror\", \"Mystery\", \"Thriller\"], \"legendgroup\": \"13+\", \"marker\": {\"color\": \"#636efa\", \"size\": [29.0, 30.0, 9.0, 1.0, 7.0, 1.0, 2.0, 3.0], \"sizemode\": \"area\", \"sizeref\": 1.6725, \"symbol\": \"circle\"}, \"mode\": \"markers\", \"name\": \"13+\", \"orientation\": \"v\", \"showlegend\": true, \"type\": \"scatter\", \"x\": [29.0, 30.0, 9.0, 1.0, 7.0, 1.0, 2.0, 3.0], \"xaxis\": \"x\", \"y\": [74.48275862068965, 74.98333333333333, 72.11111111111111, 89.5, 65.78571428571429, 38.0, 59.0, 62.5], \"yaxis\": \"y\"}, {\"hovertemplate\": \"<b>%{hovertext}</b><br><br>Age=7+<br>Service=Disney+<br>Total Movies=%{marker.size}<br>Ratings by Percent=%{y}<extra></extra>\", \"hovertext\": [\"Disney+ Action\", \"Disney+ Adventure\", \"Disney+ Comedy\", \"Disney+ Documentary\", \"Disney+ Drama\", \"Disney+ Horror\", \"Disney+ Mystery\", \"Disney+ Romance\", \"Disney+ Thriller\"], \"ids\": [\"Action\", \"Adventure\", \"Comedy\", \"Documentary\", \"Drama\", \"Horror\", \"Mystery\", \"Romance\", \"Thriller\"], \"legendgroup\": \"7+\", \"marker\": {\"color\": \"#EF553B\", \"size\": [26.0, 75.0, 75.0, 6.0, 42.0, 5.0, 8.0, 20.0, 5.0], \"sizemode\": \"area\", \"sizeref\": 1.6725, \"symbol\": \"circle\"}, \"mode\": \"markers\", \"name\": \"7+\", \"orientation\": \"v\", \"showlegend\": true, \"type\": \"scatter\", \"x\": [26.0, 75.0, 75.0, 6.0, 42.0, 5.0, 8.0, 20.0, 5.0], \"xaxis\": \"x\", \"y\": [63.34615384615385, 67.04, 57.00666666666667, 73.66666666666667, 65.36904761904762, 62.1, 69.3125, 55.875, 51.5], \"yaxis\": \"y\"}, {\"hovertemplate\": \"<b>%{hovertext}</b><br><br>Age=all<br>Service=Disney+<br>Total Movies=%{marker.size}<br>Ratings by Percent=%{y}<extra></extra>\", \"hovertext\": [\"Disney+ Action\", \"Disney+ Adventure\", \"Disney+ Comedy\", \"Disney+ Documentary\", \"Disney+ Drama\", \"Disney+ Mystery\", \"Disney+ Romance\", \"Disney+ Thriller\"], \"ids\": [\"Action\", \"Adventure\", \"Comedy\", \"Documentary\", \"Drama\", \"Mystery\", \"Romance\", \"Thriller\"], \"legendgroup\": \"all\", \"marker\": {\"color\": \"#00cc96\", \"size\": [10.0, 93.0, 104.0, 9.0, 41.0, 6.0, 38.0, 3.0], \"sizemode\": \"area\", \"sizeref\": 1.6725, \"symbol\": \"circle\"}, \"mode\": \"markers\", \"name\": \"all\", \"orientation\": \"v\", \"showlegend\": true, \"type\": \"scatter\", \"x\": [10.0, 93.0, 104.0, 9.0, 41.0, 6.0, 38.0, 3.0], \"xaxis\": \"x\", \"y\": [63.65, 65.85483870967742, 63.375, 65.38888888888889, 65.5, 71.0, 59.44736842105263, 62.5], \"yaxis\": \"y\"}, {\"hovertemplate\": \"<b>%{hovertext}</b><br><br>Age=16+<br>Service=Disney+<br>Total Movies=%{marker.size}<br>Ratings by Percent=%{y}<extra></extra>\", \"hovertext\": [\"Disney+ Comedy\"], \"ids\": [\"Comedy\"], \"legendgroup\": \"16+\", \"marker\": {\"color\": \"#ab63fa\", \"size\": [1.0], \"sizemode\": \"area\", \"sizeref\": 1.6725, \"symbol\": \"circle\"}, \"mode\": \"markers\", \"name\": \"16+\", \"orientation\": \"v\", \"showlegend\": true, \"type\": \"scatter\", \"x\": [1.0], \"xaxis\": \"x\", \"y\": [44.0], \"yaxis\": \"y\"}, {\"hovertemplate\": \"<b>%{hovertext}</b><br><br>Age=18+<br>Service=Disney+<br>Total Movies=%{marker.size}<br>Ratings by Percent=%{y}<extra></extra>\", \"hovertext\": [\"Disney+ Drama\"], \"ids\": [\"Drama\"], \"legendgroup\": \"18+\", \"marker\": {\"color\": \"#FFA15A\", \"size\": [2.0], \"sizemode\": \"area\", \"sizeref\": 1.6725, \"symbol\": \"circle\"}, \"mode\": \"markers\", \"name\": \"18+\", \"orientation\": \"v\", \"showlegend\": true, \"type\": \"scatter\", \"x\": [2.0], \"xaxis\": \"x\", \"y\": [69.25], \"yaxis\": \"y\"}],                        {\"legend\": {\"itemsizing\": \"constant\", \"title\": {\"text\": \"Age\"}, \"tracegroupgap\": 0}, \"sliders\": [{\"active\": 0, \"currentvalue\": {\"prefix\": \"Service=\"}, \"len\": 0.9, \"pad\": {\"b\": 10, \"t\": 60}, \"steps\": [{\"args\": [[\"Disney+\"], {\"frame\": {\"duration\": 0, \"redraw\": false}, \"fromcurrent\": true, \"mode\": \"immediate\", \"transition\": {\"duration\": 0, \"easing\": \"linear\"}}], \"label\": \"Disney+\", \"method\": \"animate\"}, {\"args\": [[\"Hulu\"], {\"frame\": {\"duration\": 0, \"redraw\": false}, \"fromcurrent\": true, \"mode\": \"immediate\", \"transition\": {\"duration\": 0, \"easing\": \"linear\"}}], \"label\": \"Hulu\", \"method\": \"animate\"}, {\"args\": [[\"Netflix\"], {\"frame\": {\"duration\": 0, \"redraw\": false}, \"fromcurrent\": true, \"mode\": \"immediate\", \"transition\": {\"duration\": 0, \"easing\": \"linear\"}}], \"label\": \"Netflix\", \"method\": \"animate\"}, {\"args\": [[\"Prime Video\"], {\"frame\": {\"duration\": 0, \"redraw\": false}, \"fromcurrent\": true, \"mode\": \"immediate\", \"transition\": {\"duration\": 0, \"easing\": \"linear\"}}], \"label\": \"Prime Video\", \"method\": \"animate\"}], \"x\": 0.1, \"xanchor\": \"left\", \"y\": 0, \"yanchor\": \"top\"}], \"template\": {\"data\": {\"bar\": [{\"error_x\": {\"color\": \"#2a3f5f\"}, \"error_y\": {\"color\": \"#2a3f5f\"}, \"marker\": {\"line\": {\"color\": \"#E5ECF6\", \"width\": 0.5}}, \"type\": \"bar\"}], \"barpolar\": [{\"marker\": {\"line\": {\"color\": \"#E5ECF6\", \"width\": 0.5}}, \"type\": \"barpolar\"}], \"carpet\": [{\"aaxis\": {\"endlinecolor\": \"#2a3f5f\", \"gridcolor\": \"white\", \"linecolor\": \"white\", \"minorgridcolor\": \"white\", \"startlinecolor\": \"#2a3f5f\"}, \"baxis\": {\"endlinecolor\": \"#2a3f5f\", \"gridcolor\": \"white\", \"linecolor\": \"white\", \"minorgridcolor\": \"white\", \"startlinecolor\": \"#2a3f5f\"}, \"type\": \"carpet\"}], \"choropleth\": [{\"colorbar\": {\"outlinewidth\": 0, \"ticks\": \"\"}, \"type\": \"choropleth\"}], \"contour\": [{\"colorbar\": {\"outlinewidth\": 0, \"ticks\": \"\"}, \"colorscale\": [[0.0, \"#0d0887\"], [0.1111111111111111, \"#46039f\"], [0.2222222222222222, \"#7201a8\"], [0.3333333333333333, \"#9c179e\"], [0.4444444444444444, \"#bd3786\"], [0.5555555555555556, \"#d8576b\"], [0.6666666666666666, \"#ed7953\"], [0.7777777777777778, \"#fb9f3a\"], [0.8888888888888888, \"#fdca26\"], [1.0, \"#f0f921\"]], \"type\": \"contour\"}], \"contourcarpet\": [{\"colorbar\": {\"outlinewidth\": 0, \"ticks\": \"\"}, \"type\": \"contourcarpet\"}], \"heatmap\": [{\"colorbar\": {\"outlinewidth\": 0, \"ticks\": \"\"}, \"colorscale\": [[0.0, \"#0d0887\"], [0.1111111111111111, \"#46039f\"], [0.2222222222222222, \"#7201a8\"], [0.3333333333333333, \"#9c179e\"], [0.4444444444444444, \"#bd3786\"], [0.5555555555555556, \"#d8576b\"], [0.6666666666666666, \"#ed7953\"], [0.7777777777777778, \"#fb9f3a\"], [0.8888888888888888, \"#fdca26\"], [1.0, \"#f0f921\"]], \"type\": \"heatmap\"}], \"heatmapgl\": [{\"colorbar\": {\"outlinewidth\": 0, \"ticks\": \"\"}, \"colorscale\": [[0.0, \"#0d0887\"], [0.1111111111111111, \"#46039f\"], [0.2222222222222222, \"#7201a8\"], [0.3333333333333333, \"#9c179e\"], [0.4444444444444444, \"#bd3786\"], [0.5555555555555556, \"#d8576b\"], [0.6666666666666666, \"#ed7953\"], [0.7777777777777778, \"#fb9f3a\"], [0.8888888888888888, \"#fdca26\"], [1.0, \"#f0f921\"]], \"type\": \"heatmapgl\"}], \"histogram\": [{\"marker\": {\"colorbar\": {\"outlinewidth\": 0, \"ticks\": \"\"}}, \"type\": \"histogram\"}], \"histogram2d\": [{\"colorbar\": {\"outlinewidth\": 0, \"ticks\": \"\"}, \"colorscale\": [[0.0, \"#0d0887\"], [0.1111111111111111, \"#46039f\"], [0.2222222222222222, \"#7201a8\"], [0.3333333333333333, \"#9c179e\"], [0.4444444444444444, \"#bd3786\"], [0.5555555555555556, \"#d8576b\"], [0.6666666666666666, \"#ed7953\"], [0.7777777777777778, \"#fb9f3a\"], [0.8888888888888888, \"#fdca26\"], [1.0, \"#f0f921\"]], \"type\": \"histogram2d\"}], \"histogram2dcontour\": [{\"colorbar\": {\"outlinewidth\": 0, \"ticks\": \"\"}, \"colorscale\": [[0.0, \"#0d0887\"], [0.1111111111111111, \"#46039f\"], [0.2222222222222222, \"#7201a8\"], [0.3333333333333333, \"#9c179e\"], [0.4444444444444444, \"#bd3786\"], [0.5555555555555556, \"#d8576b\"], [0.6666666666666666, \"#ed7953\"], [0.7777777777777778, \"#fb9f3a\"], [0.8888888888888888, \"#fdca26\"], [1.0, \"#f0f921\"]], \"type\": \"histogram2dcontour\"}], \"mesh3d\": [{\"colorbar\": {\"outlinewidth\": 0, \"ticks\": \"\"}, \"type\": \"mesh3d\"}], \"parcoords\": [{\"line\": {\"colorbar\": {\"outlinewidth\": 0, \"ticks\": \"\"}}, \"type\": \"parcoords\"}], \"pie\": [{\"automargin\": true, \"type\": \"pie\"}], \"scatter\": [{\"marker\": {\"colorbar\": {\"outlinewidth\": 0, \"ticks\": \"\"}}, \"type\": \"scatter\"}], \"scatter3d\": [{\"line\": {\"colorbar\": {\"outlinewidth\": 0, \"ticks\": \"\"}}, \"marker\": {\"colorbar\": {\"outlinewidth\": 0, \"ticks\": \"\"}}, \"type\": \"scatter3d\"}], \"scattercarpet\": [{\"marker\": {\"colorbar\": {\"outlinewidth\": 0, \"ticks\": \"\"}}, \"type\": \"scattercarpet\"}], \"scattergeo\": [{\"marker\": {\"colorbar\": {\"outlinewidth\": 0, \"ticks\": \"\"}}, \"type\": \"scattergeo\"}], \"scattergl\": [{\"marker\": {\"colorbar\": {\"outlinewidth\": 0, \"ticks\": \"\"}}, \"type\": \"scattergl\"}], \"scattermapbox\": [{\"marker\": {\"colorbar\": {\"outlinewidth\": 0, \"ticks\": \"\"}}, \"type\": \"scattermapbox\"}], \"scatterpolar\": [{\"marker\": {\"colorbar\": {\"outlinewidth\": 0, \"ticks\": \"\"}}, \"type\": \"scatterpolar\"}], \"scatterpolargl\": [{\"marker\": {\"colorbar\": {\"outlinewidth\": 0, \"ticks\": \"\"}}, \"type\": \"scatterpolargl\"}], \"scatterternary\": [{\"marker\": {\"colorbar\": {\"outlinewidth\": 0, \"ticks\": \"\"}}, \"type\": \"scatterternary\"}], \"surface\": [{\"colorbar\": {\"outlinewidth\": 0, \"ticks\": \"\"}, \"colorscale\": [[0.0, \"#0d0887\"], [0.1111111111111111, \"#46039f\"], [0.2222222222222222, \"#7201a8\"], [0.3333333333333333, \"#9c179e\"], [0.4444444444444444, \"#bd3786\"], [0.5555555555555556, \"#d8576b\"], [0.6666666666666666, \"#ed7953\"], [0.7777777777777778, \"#fb9f3a\"], [0.8888888888888888, \"#fdca26\"], [1.0, \"#f0f921\"]], \"type\": \"surface\"}], \"table\": [{\"cells\": {\"fill\": {\"color\": \"#EBF0F8\"}, \"line\": {\"color\": \"white\"}}, \"header\": {\"fill\": {\"color\": \"#C8D4E3\"}, \"line\": {\"color\": \"white\"}}, \"type\": \"table\"}]}, \"layout\": {\"annotationdefaults\": {\"arrowcolor\": \"#2a3f5f\", \"arrowhead\": 0, \"arrowwidth\": 1}, \"autotypenumbers\": \"strict\", \"coloraxis\": {\"colorbar\": {\"outlinewidth\": 0, \"ticks\": \"\"}}, \"colorscale\": {\"diverging\": [[0, \"#8e0152\"], [0.1, \"#c51b7d\"], [0.2, \"#de77ae\"], [0.3, \"#f1b6da\"], [0.4, \"#fde0ef\"], [0.5, \"#f7f7f7\"], [0.6, \"#e6f5d0\"], [0.7, \"#b8e186\"], [0.8, \"#7fbc41\"], [0.9, \"#4d9221\"], [1, \"#276419\"]], \"sequential\": [[0.0, \"#0d0887\"], [0.1111111111111111, \"#46039f\"], [0.2222222222222222, \"#7201a8\"], [0.3333333333333333, \"#9c179e\"], [0.4444444444444444, \"#bd3786\"], [0.5555555555555556, \"#d8576b\"], [0.6666666666666666, \"#ed7953\"], [0.7777777777777778, \"#fb9f3a\"], [0.8888888888888888, \"#fdca26\"], [1.0, \"#f0f921\"]], \"sequentialminus\": [[0.0, \"#0d0887\"], [0.1111111111111111, \"#46039f\"], [0.2222222222222222, \"#7201a8\"], [0.3333333333333333, \"#9c179e\"], [0.4444444444444444, \"#bd3786\"], [0.5555555555555556, \"#d8576b\"], [0.6666666666666666, \"#ed7953\"], [0.7777777777777778, \"#fb9f3a\"], [0.8888888888888888, \"#fdca26\"], [1.0, \"#f0f921\"]]}, \"colorway\": [\"#636efa\", \"#EF553B\", \"#00cc96\", \"#ab63fa\", \"#FFA15A\", \"#19d3f3\", \"#FF6692\", \"#B6E880\", \"#FF97FF\", \"#FECB52\"], \"font\": {\"color\": \"#2a3f5f\"}, \"geo\": {\"bgcolor\": \"white\", \"lakecolor\": \"white\", \"landcolor\": \"#E5ECF6\", \"showlakes\": true, \"showland\": true, \"subunitcolor\": \"white\"}, \"hoverlabel\": {\"align\": \"left\"}, \"hovermode\": \"closest\", \"mapbox\": {\"style\": \"light\"}, \"paper_bgcolor\": \"white\", \"plot_bgcolor\": \"#E5ECF6\", \"polar\": {\"angularaxis\": {\"gridcolor\": \"white\", \"linecolor\": \"white\", \"ticks\": \"\"}, \"bgcolor\": \"#E5ECF6\", \"radialaxis\": {\"gridcolor\": \"white\", \"linecolor\": \"white\", \"ticks\": \"\"}}, \"scene\": {\"xaxis\": {\"backgroundcolor\": \"#E5ECF6\", \"gridcolor\": \"white\", \"gridwidth\": 2, \"linecolor\": \"white\", \"showbackground\": true, \"ticks\": \"\", \"zerolinecolor\": \"white\"}, \"yaxis\": {\"backgroundcolor\": \"#E5ECF6\", \"gridcolor\": \"white\", \"gridwidth\": 2, \"linecolor\": \"white\", \"showbackground\": true, \"ticks\": \"\", \"zerolinecolor\": \"white\"}, \"zaxis\": {\"backgroundcolor\": \"#E5ECF6\", \"gridcolor\": \"white\", \"gridwidth\": 2, \"linecolor\": \"white\", \"showbackground\": true, \"ticks\": \"\", \"zerolinecolor\": \"white\"}}, \"shapedefaults\": {\"line\": {\"color\": \"#2a3f5f\"}}, \"ternary\": {\"aaxis\": {\"gridcolor\": \"white\", \"linecolor\": \"white\", \"ticks\": \"\"}, \"baxis\": {\"gridcolor\": \"white\", \"linecolor\": \"white\", \"ticks\": \"\"}, \"bgcolor\": \"#E5ECF6\", \"caxis\": {\"gridcolor\": \"white\", \"linecolor\": \"white\", \"ticks\": \"\"}}, \"title\": {\"x\": 0.05}, \"xaxis\": {\"automargin\": true, \"gridcolor\": \"white\", \"linecolor\": \"white\", \"ticks\": \"\", \"title\": {\"standoff\": 15}, \"zerolinecolor\": \"white\", \"zerolinewidth\": 2}, \"yaxis\": {\"automargin\": true, \"gridcolor\": \"white\", \"linecolor\": \"white\", \"ticks\": \"\", \"title\": {\"standoff\": 15}, \"zerolinecolor\": \"white\", \"zerolinewidth\": 2}}}, \"title\": {\"text\": \"Movie Ratings by Service, Genre, Age\"}, \"updatemenus\": [{\"buttons\": [{\"args\": [null, {\"frame\": {\"duration\": 500, \"redraw\": false}, \"fromcurrent\": true, \"mode\": \"immediate\", \"transition\": {\"duration\": 500, \"easing\": \"linear\"}}], \"label\": \"&#9654;\", \"method\": \"animate\"}, {\"args\": [[null], {\"frame\": {\"duration\": 0, \"redraw\": false}, \"fromcurrent\": true, \"mode\": \"immediate\", \"transition\": {\"duration\": 0, \"easing\": \"linear\"}}], \"label\": \"&#9724;\", \"method\": \"animate\"}], \"direction\": \"left\", \"pad\": {\"r\": 10, \"t\": 70}, \"showactive\": false, \"type\": \"buttons\", \"x\": 0.1, \"xanchor\": \"right\", \"y\": 0, \"yanchor\": \"top\"}], \"xaxis\": {\"anchor\": \"y\", \"domain\": [0.0, 1.0], \"title\": {\"text\": \"Total Movies\"}}, \"yaxis\": {\"anchor\": \"x\", \"domain\": [0.0, 1.0], \"title\": {\"text\": \"Ratings by Percent\"}}},                        {\"responsive\": true}                    ).then(function(){\n",
       "                            Plotly.addFrames('2e4044e3-9492-4da1-aefe-5405c25d86ee', [{\"data\": [{\"hovertemplate\": \"<b>%{hovertext}</b><br><br>Age=13+<br>Service=Disney+<br>Total Movies=%{marker.size}<br>Ratings by Percent=%{y}<extra></extra>\", \"hovertext\": [\"Disney+ Action\", \"Disney+ Adventure\", \"Disney+ Comedy\", \"Disney+ Documentary\", \"Disney+ Drama\", \"Disney+ Horror\", \"Disney+ Mystery\", \"Disney+ Thriller\"], \"ids\": [\"Action\", \"Adventure\", \"Comedy\", \"Documentary\", \"Drama\", \"Horror\", \"Mystery\", \"Thriller\"], \"legendgroup\": \"13+\", \"marker\": {\"color\": \"#636efa\", \"size\": [29.0, 30.0, 9.0, 1.0, 7.0, 1.0, 2.0, 3.0], \"sizemode\": \"area\", \"sizeref\": 1.6725, \"symbol\": \"circle\"}, \"mode\": \"markers\", \"name\": \"13+\", \"orientation\": \"v\", \"showlegend\": true, \"x\": [29.0, 30.0, 9.0, 1.0, 7.0, 1.0, 2.0, 3.0], \"xaxis\": \"x\", \"y\": [74.48275862068965, 74.98333333333333, 72.11111111111111, 89.5, 65.78571428571429, 38.0, 59.0, 62.5], \"yaxis\": \"y\", \"type\": \"scatter\"}, {\"hovertemplate\": \"<b>%{hovertext}</b><br><br>Age=7+<br>Service=Disney+<br>Total Movies=%{marker.size}<br>Ratings by Percent=%{y}<extra></extra>\", \"hovertext\": [\"Disney+ Action\", \"Disney+ Adventure\", \"Disney+ Comedy\", \"Disney+ Documentary\", \"Disney+ Drama\", \"Disney+ Horror\", \"Disney+ Mystery\", \"Disney+ Romance\", \"Disney+ Thriller\"], \"ids\": [\"Action\", \"Adventure\", \"Comedy\", \"Documentary\", \"Drama\", \"Horror\", \"Mystery\", \"Romance\", \"Thriller\"], \"legendgroup\": \"7+\", \"marker\": {\"color\": \"#EF553B\", \"size\": [26.0, 75.0, 75.0, 6.0, 42.0, 5.0, 8.0, 20.0, 5.0], \"sizemode\": \"area\", \"sizeref\": 1.6725, \"symbol\": \"circle\"}, \"mode\": \"markers\", \"name\": \"7+\", \"orientation\": \"v\", \"showlegend\": true, \"x\": [26.0, 75.0, 75.0, 6.0, 42.0, 5.0, 8.0, 20.0, 5.0], \"xaxis\": \"x\", \"y\": [63.34615384615385, 67.04, 57.00666666666667, 73.66666666666667, 65.36904761904762, 62.1, 69.3125, 55.875, 51.5], \"yaxis\": \"y\", \"type\": \"scatter\"}, {\"hovertemplate\": \"<b>%{hovertext}</b><br><br>Age=all<br>Service=Disney+<br>Total Movies=%{marker.size}<br>Ratings by Percent=%{y}<extra></extra>\", \"hovertext\": [\"Disney+ Action\", \"Disney+ Adventure\", \"Disney+ Comedy\", \"Disney+ Documentary\", \"Disney+ Drama\", \"Disney+ Mystery\", \"Disney+ Romance\", \"Disney+ Thriller\"], \"ids\": [\"Action\", \"Adventure\", \"Comedy\", \"Documentary\", \"Drama\", \"Mystery\", \"Romance\", \"Thriller\"], \"legendgroup\": \"all\", \"marker\": {\"color\": \"#00cc96\", \"size\": [10.0, 93.0, 104.0, 9.0, 41.0, 6.0, 38.0, 3.0], \"sizemode\": \"area\", \"sizeref\": 1.6725, \"symbol\": \"circle\"}, \"mode\": \"markers\", \"name\": \"all\", \"orientation\": \"v\", \"showlegend\": true, \"x\": [10.0, 93.0, 104.0, 9.0, 41.0, 6.0, 38.0, 3.0], \"xaxis\": \"x\", \"y\": [63.65, 65.85483870967742, 63.375, 65.38888888888889, 65.5, 71.0, 59.44736842105263, 62.5], \"yaxis\": \"y\", \"type\": \"scatter\"}, {\"hovertemplate\": \"<b>%{hovertext}</b><br><br>Age=16+<br>Service=Disney+<br>Total Movies=%{marker.size}<br>Ratings by Percent=%{y}<extra></extra>\", \"hovertext\": [\"Disney+ Comedy\"], \"ids\": [\"Comedy\"], \"legendgroup\": \"16+\", \"marker\": {\"color\": \"#ab63fa\", \"size\": [1.0], \"sizemode\": \"area\", \"sizeref\": 1.6725, \"symbol\": \"circle\"}, \"mode\": \"markers\", \"name\": \"16+\", \"orientation\": \"v\", \"showlegend\": true, \"x\": [1.0], \"xaxis\": \"x\", \"y\": [44.0], \"yaxis\": \"y\", \"type\": \"scatter\"}, {\"hovertemplate\": \"<b>%{hovertext}</b><br><br>Age=18+<br>Service=Disney+<br>Total Movies=%{marker.size}<br>Ratings by Percent=%{y}<extra></extra>\", \"hovertext\": [\"Disney+ Drama\"], \"ids\": [\"Drama\"], \"legendgroup\": \"18+\", \"marker\": {\"color\": \"#FFA15A\", \"size\": [2.0], \"sizemode\": \"area\", \"sizeref\": 1.6725, \"symbol\": \"circle\"}, \"mode\": \"markers\", \"name\": \"18+\", \"orientation\": \"v\", \"showlegend\": true, \"x\": [2.0], \"xaxis\": \"x\", \"y\": [69.25], \"yaxis\": \"y\", \"type\": \"scatter\"}], \"name\": \"Disney+\"}, {\"data\": [{\"hovertemplate\": \"<b>%{hovertext}</b><br><br>Age=13+<br>Service=Hulu<br>Total Movies=%{marker.size}<br>Ratings by Percent=%{y}<extra></extra>\", \"hovertext\": [\"Hulu Action\", \"Hulu Adventure\", \"Hulu Comedy\", \"Hulu Documentary\", \"Hulu Drama\", \"Hulu Horror\", \"Hulu Mystery\", \"Hulu Romance\", \"Hulu Thriller\"], \"ids\": [\"Action\", \"Adventure\", \"Comedy\", \"Documentary\", \"Drama\", \"Horror\", \"Mystery\", \"Romance\", \"Thriller\"], \"legendgroup\": \"13+\", \"marker\": {\"color\": \"#636efa\", \"size\": [23.0, 16.0, 30.0, 15.0, 54.0, 8.0, 11.0, 15.0, 27.0], \"sizemode\": \"area\", \"sizeref\": 1.6725, \"symbol\": \"circle\"}, \"mode\": \"markers\", \"name\": \"13+\", \"orientation\": \"v\", \"showlegend\": true, \"x\": [23.0, 16.0, 30.0, 15.0, 54.0, 8.0, 11.0, 15.0, 27.0], \"xaxis\": \"x\", \"y\": [55.91304347826087, 59.96875, 53.53333333333333, 82.03333333333333, 67.01851851851852, 55.0, 62.22727272727273, 58.36666666666667, 57.425925925925924], \"yaxis\": \"y\", \"type\": \"scatter\"}, {\"hovertemplate\": \"<b>%{hovertext}</b><br><br>Age=7+<br>Service=Hulu<br>Total Movies=%{marker.size}<br>Ratings by Percent=%{y}<extra></extra>\", \"hovertext\": [\"Hulu Action\", \"Hulu Adventure\", \"Hulu Comedy\", \"Hulu Documentary\", \"Hulu Drama\", \"Hulu Horror\", \"Hulu Mystery\", \"Hulu Romance\", \"Hulu Thriller\"], \"ids\": [\"Action\", \"Adventure\", \"Comedy\", \"Documentary\", \"Drama\", \"Horror\", \"Mystery\", \"Romance\", \"Thriller\"], \"legendgroup\": \"7+\", \"marker\": {\"color\": \"#EF553B\", \"size\": [13.0, 33.0, 29.0, 17.0, 22.0, 3.0, 5.0, 13.0, 8.0], \"sizemode\": \"area\", \"sizeref\": 1.6725, \"symbol\": \"circle\"}, \"mode\": \"markers\", \"name\": \"7+\", \"orientation\": \"v\", \"showlegend\": true, \"x\": [13.0, 33.0, 29.0, 17.0, 22.0, 3.0, 5.0, 13.0, 8.0], \"xaxis\": \"x\", \"y\": [65.26923076923077, 59.57575757575758, 59.96551724137931, 81.67647058823529, 68.13636363636364, 72.16666666666667, 55.5, 62.38461538461539, 72.75], \"yaxis\": \"y\", \"type\": \"scatter\"}, {\"hovertemplate\": \"<b>%{hovertext}</b><br><br>Age=all<br>Service=Hulu<br>Total Movies=%{marker.size}<br>Ratings by Percent=%{y}<extra></extra>\", \"hovertext\": [\"Hulu Adventure\", \"Hulu Comedy\", \"Hulu Documentary\", \"Hulu Drama\", \"Hulu Romance\"], \"ids\": [\"Adventure\", \"Comedy\", \"Documentary\", \"Drama\", \"Romance\"], \"legendgroup\": \"all\", \"marker\": {\"color\": \"#00cc96\", \"size\": [3.0, 4.0, 1.0, 4.0, 2.0], \"sizemode\": \"area\", \"sizeref\": 1.6725, \"symbol\": \"circle\"}, \"mode\": \"markers\", \"name\": \"all\", \"orientation\": \"v\", \"showlegend\": true, \"x\": [3.0, 4.0, 1.0, 4.0, 2.0], \"xaxis\": \"x\", \"y\": [75.83333333333333, 71.625, 90.5, 81.75, 72.0], \"yaxis\": \"y\", \"type\": \"scatter\"}, {\"hovertemplate\": \"<b>%{hovertext}</b><br><br>Age=16+<br>Service=Hulu<br>Total Movies=%{marker.size}<br>Ratings by Percent=%{y}<extra></extra>\", \"hovertext\": [\"Hulu Comedy\", \"Hulu Documentary\", \"Hulu Drama\", \"Hulu Horror\", \"Hulu Thriller\"], \"ids\": [\"Comedy\", \"Documentary\", \"Drama\", \"Horror\", \"Thriller\"], \"legendgroup\": \"16+\", \"marker\": {\"color\": \"#ab63fa\", \"size\": [1.0, 1.0, 2.0, 1.0, 1.0], \"sizemode\": \"area\", \"sizeref\": 1.6725, \"symbol\": \"circle\"}, \"mode\": \"markers\", \"name\": \"16+\", \"orientation\": \"v\", \"showlegend\": true, \"x\": [1.0, 1.0, 2.0, 1.0, 1.0], \"xaxis\": \"x\", \"y\": [35.0, 78.5, 36.75, 38.5, 38.5], \"yaxis\": \"y\", \"type\": \"scatter\"}, {\"hovertemplate\": \"<b>%{hovertext}</b><br><br>Age=18+<br>Service=Hulu<br>Total Movies=%{marker.size}<br>Ratings by Percent=%{y}<extra></extra>\", \"hovertext\": [\"Hulu Action\", \"Hulu Adventure\", \"Hulu Comedy\", \"Hulu Documentary\", \"Hulu Drama\", \"Hulu Horror\", \"Hulu Mystery\", \"Hulu Romance\", \"Hulu Thriller\"], \"ids\": [\"Action\", \"Adventure\", \"Comedy\", \"Documentary\", \"Drama\", \"Horror\", \"Mystery\", \"Romance\", \"Thriller\"], \"legendgroup\": \"18+\", \"marker\": {\"color\": \"#FFA15A\", \"size\": [32.0, 17.0, 87.0, 16.0, 156.0, 46.0, 32.0, 48.0, 86.0], \"sizemode\": \"area\", \"sizeref\": 1.6725, \"symbol\": \"circle\"}, \"mode\": \"markers\", \"name\": \"18+\", \"orientation\": \"v\", \"showlegend\": true, \"x\": [32.0, 17.0, 87.0, 16.0, 156.0, 46.0, 32.0, 48.0, 86.0], \"xaxis\": \"x\", \"y\": [58.96875, 69.1470588235294, 66.23563218390805, 79.6875, 66.35576923076923, 60.54347826086956, 61.703125, 62.59375, 62.05813953488372], \"yaxis\": \"y\", \"type\": \"scatter\"}], \"name\": \"Hulu\"}, {\"data\": [{\"hovertemplate\": \"<b>%{hovertext}</b><br><br>Age=13+<br>Service=Netflix<br>Total Movies=%{marker.size}<br>Ratings by Percent=%{y}<extra></extra>\", \"hovertext\": [\"Netflix Action\", \"Netflix Adventure\", \"Netflix Comedy\", \"Netflix Documentary\", \"Netflix Drama\", \"Netflix Horror\", \"Netflix Mystery\", \"Netflix Romance\", \"Netflix Thriller\"], \"ids\": [\"Action\", \"Adventure\", \"Comedy\", \"Documentary\", \"Drama\", \"Horror\", \"Mystery\", \"Romance\", \"Thriller\"], \"legendgroup\": \"13+\", \"marker\": {\"color\": \"#636efa\", \"size\": [66.0, 48.0, 95.0, 16.0, 130.0, 22.0, 27.0, 60.0, 59.0], \"sizemode\": \"area\", \"sizeref\": 1.6725, \"symbol\": \"circle\"}, \"mode\": \"markers\", \"name\": \"13+\", \"orientation\": \"v\", \"showlegend\": true, \"x\": [66.0, 48.0, 95.0, 16.0, 130.0, 22.0, 27.0, 60.0, 59.0], \"xaxis\": \"x\", \"y\": [59.5, 59.572916666666664, 60.93157894736842, 82.8125, 64.28461538461538, 59.20454545454545, 56.592592592592595, 60.09166666666667, 58.91525423728814], \"yaxis\": \"y\", \"type\": \"scatter\"}, {\"hovertemplate\": \"<b>%{hovertext}</b><br><br>Age=7+<br>Service=Netflix<br>Total Movies=%{marker.size}<br>Ratings by Percent=%{y}<extra></extra>\", \"hovertext\": [\"Netflix Action\", \"Netflix Adventure\", \"Netflix Comedy\", \"Netflix Documentary\", \"Netflix Drama\", \"Netflix Horror\", \"Netflix Mystery\", \"Netflix Romance\", \"Netflix Thriller\"], \"ids\": [\"Action\", \"Adventure\", \"Comedy\", \"Documentary\", \"Drama\", \"Horror\", \"Mystery\", \"Romance\", \"Thriller\"], \"legendgroup\": \"7+\", \"marker\": {\"color\": \"#EF553B\", \"size\": [31.0, 67.0, 101.0, 11.0, 61.0, 6.0, 9.0, 32.0, 12.0], \"sizemode\": \"area\", \"sizeref\": 1.6725, \"symbol\": \"circle\"}, \"mode\": \"markers\", \"name\": \"7+\", \"orientation\": \"v\", \"showlegend\": true, \"x\": [31.0, 67.0, 101.0, 11.0, 61.0, 6.0, 9.0, 32.0, 12.0], \"xaxis\": \"x\", \"y\": [60.95161290322581, 64.64179104477611, 59.603960396039604, 80.0, 65.1311475409836, 56.333333333333336, 70.77777777777777, 54.84375, 64.75], \"yaxis\": \"y\", \"type\": \"scatter\"}, {\"hovertemplate\": \"<b>%{hovertext}</b><br><br>Age=all<br>Service=Netflix<br>Total Movies=%{marker.size}<br>Ratings by Percent=%{y}<extra></extra>\", \"hovertext\": [\"Netflix Action\", \"Netflix Adventure\", \"Netflix Comedy\", \"Netflix Documentary\", \"Netflix Drama\", \"Netflix Mystery\", \"Netflix Romance\"], \"ids\": [\"Action\", \"Adventure\", \"Comedy\", \"Documentary\", \"Drama\", \"Mystery\", \"Romance\"], \"legendgroup\": \"all\", \"marker\": {\"color\": \"#00cc96\", \"size\": [4.0, 16.0, 14.0, 3.0, 8.0, 1.0, 7.0], \"sizemode\": \"area\", \"sizeref\": 1.6725, \"symbol\": \"circle\"}, \"mode\": \"markers\", \"name\": \"all\", \"orientation\": \"v\", \"showlegend\": true, \"x\": [4.0, 16.0, 14.0, 3.0, 8.0, 1.0, 7.0], \"xaxis\": \"x\", \"y\": [69.375, 67.71875, 67.46428571428571, 80.5, 78.4375, 82.0, 74.5], \"yaxis\": \"y\", \"type\": \"scatter\"}, {\"hovertemplate\": \"<b>%{hovertext}</b><br><br>Age=16+<br>Service=Netflix<br>Total Movies=%{marker.size}<br>Ratings by Percent=%{y}<extra></extra>\", \"hovertext\": [\"Netflix Action\", \"Netflix Adventure\", \"Netflix Comedy\", \"Netflix Documentary\", \"Netflix Drama\", \"Netflix Horror\", \"Netflix Mystery\", \"Netflix Romance\", \"Netflix Thriller\"], \"ids\": [\"Action\", \"Adventure\", \"Comedy\", \"Documentary\", \"Drama\", \"Horror\", \"Mystery\", \"Romance\", \"Thriller\"], \"legendgroup\": \"16+\", \"marker\": {\"color\": \"#ab63fa\", \"size\": [4.0, 1.0, 16.0, 13.0, 13.0, 1.0, 3.0, 9.0, 4.0], \"sizemode\": \"area\", \"sizeref\": 1.6725, \"symbol\": \"circle\"}, \"mode\": \"markers\", \"name\": \"16+\", \"orientation\": \"v\", \"showlegend\": true, \"x\": [4.0, 1.0, 16.0, 13.0, 13.0, 1.0, 3.0, 9.0, 4.0], \"xaxis\": \"x\", \"y\": [55.125, 80.5, 57.46875, 81.57692307692308, 69.88461538461539, 44.5, 68.0, 63.833333333333336, 61.125], \"yaxis\": \"y\", \"type\": \"scatter\"}, {\"hovertemplate\": \"<b>%{hovertext}</b><br><br>Age=18+<br>Service=Netflix<br>Total Movies=%{marker.size}<br>Ratings by Percent=%{y}<extra></extra>\", \"hovertext\": [\"Netflix Action\", \"Netflix Adventure\", \"Netflix Comedy\", \"Netflix Documentary\", \"Netflix Drama\", \"Netflix Horror\", \"Netflix Mystery\", \"Netflix Romance\", \"Netflix Thriller\"], \"ids\": [\"Action\", \"Adventure\", \"Comedy\", \"Documentary\", \"Drama\", \"Horror\", \"Mystery\", \"Romance\", \"Thriller\"], \"legendgroup\": \"18+\", \"marker\": {\"color\": \"#FFA15A\", \"size\": [118.0, 26.0, 151.0, 37.0, 309.0, 87.0, 75.0, 84.0, 214.0], \"sizemode\": \"area\", \"sizeref\": 1.6725, \"symbol\": \"circle\"}, \"mode\": \"markers\", \"name\": \"18+\", \"orientation\": \"v\", \"showlegend\": true, \"x\": [118.0, 26.0, 151.0, 37.0, 309.0, 87.0, 75.0, 84.0, 214.0], \"xaxis\": \"x\", \"y\": [56.76271186440678, 56.65384615384615, 63.54304635761589, 77.0, 65.30097087378641, 56.54022988505747, 58.92666666666667, 63.26190476190476, 58.62850467289719], \"yaxis\": \"y\", \"type\": \"scatter\"}], \"name\": \"Netflix\"}, {\"data\": [{\"hovertemplate\": \"<b>%{hovertext}</b><br><br>Age=13+<br>Service=Prime Video<br>Total Movies=%{marker.size}<br>Ratings by Percent=%{y}<extra></extra>\", \"hovertext\": [\"Prime Video Action\", \"Prime Video Adventure\", \"Prime Video Comedy\", \"Prime Video Documentary\", \"Prime Video Drama\", \"Prime Video Horror\", \"Prime Video Mystery\", \"Prime Video Romance\", \"Prime Video Thriller\"], \"ids\": [\"Action\", \"Adventure\", \"Comedy\", \"Documentary\", \"Drama\", \"Horror\", \"Mystery\", \"Romance\", \"Thriller\"], \"legendgroup\": \"13+\", \"marker\": {\"color\": \"#636efa\", \"size\": [59.0, 48.0, 133.0, 34.0, 232.0, 30.0, 41.0, 103.0, 77.0], \"sizemode\": \"area\", \"sizeref\": 1.6725, \"symbol\": \"circle\"}, \"mode\": \"markers\", \"name\": \"13+\", \"orientation\": \"v\", \"showlegend\": true, \"x\": [59.0, 48.0, 133.0, 34.0, 232.0, 30.0, 41.0, 103.0, 77.0], \"xaxis\": \"x\", \"y\": [53.75423728813559, 56.864583333333336, 53.838345864661655, 77.1029411764706, 61.25431034482759, 47.45, 55.073170731707314, 58.62621359223301, 56.33766233766234], \"yaxis\": \"y\", \"type\": \"scatter\"}, {\"hovertemplate\": \"<b>%{hovertext}</b><br><br>Age=7+<br>Service=Prime Video<br>Total Movies=%{marker.size}<br>Ratings by Percent=%{y}<extra></extra>\", \"hovertext\": [\"Prime Video Action\", \"Prime Video Adventure\", \"Prime Video Comedy\", \"Prime Video Documentary\", \"Prime Video Drama\", \"Prime Video Horror\", \"Prime Video Mystery\", \"Prime Video Romance\", \"Prime Video Thriller\"], \"ids\": [\"Action\", \"Adventure\", \"Comedy\", \"Documentary\", \"Drama\", \"Horror\", \"Mystery\", \"Romance\", \"Thriller\"], \"legendgroup\": \"7+\", \"marker\": {\"color\": \"#EF553B\", \"size\": [32.0, 57.0, 97.0, 43.0, 144.0, 16.0, 20.0, 56.0, 33.0], \"sizemode\": \"area\", \"sizeref\": 1.6725, \"symbol\": \"circle\"}, \"mode\": \"markers\", \"name\": \"7+\", \"orientation\": \"v\", \"showlegend\": true, \"x\": [32.0, 57.0, 97.0, 43.0, 144.0, 16.0, 20.0, 56.0, 33.0], \"xaxis\": \"x\", \"y\": [58.921875, 58.69298245614035, 58.72680412371134, 76.55813953488372, 66.19791666666667, 61.875, 67.3, 63.625, 66.43939393939394], \"yaxis\": \"y\", \"type\": \"scatter\"}, {\"hovertemplate\": \"<b>%{hovertext}</b><br><br>Age=all<br>Service=Prime Video<br>Total Movies=%{marker.size}<br>Ratings by Percent=%{y}<extra></extra>\", \"hovertext\": [\"Prime Video Action\", \"Prime Video Adventure\", \"Prime Video Comedy\", \"Prime Video Documentary\", \"Prime Video Drama\", \"Prime Video Horror\", \"Prime Video Mystery\", \"Prime Video Romance\", \"Prime Video Thriller\"], \"ids\": [\"Action\", \"Adventure\", \"Comedy\", \"Documentary\", \"Drama\", \"Horror\", \"Mystery\", \"Romance\", \"Thriller\"], \"legendgroup\": \"all\", \"marker\": {\"color\": \"#00cc96\", \"size\": [5.0, 17.0, 24.0, 16.0, 32.0, 3.0, 6.0, 9.0, 6.0], \"sizemode\": \"area\", \"sizeref\": 1.6725, \"symbol\": \"circle\"}, \"mode\": \"markers\", \"name\": \"all\", \"orientation\": \"v\", \"showlegend\": true, \"x\": [5.0, 17.0, 24.0, 16.0, 32.0, 3.0, 6.0, 9.0, 6.0], \"xaxis\": \"x\", \"y\": [78.8, 59.3235294117647, 62.75, 76.4375, 68.46875, 40.166666666666664, 75.75, 70.83333333333333, 64.33333333333333], \"yaxis\": \"y\", \"type\": \"scatter\"}, {\"hovertemplate\": \"<b>%{hovertext}</b><br><br>Age=16+<br>Service=Prime Video<br>Total Movies=%{marker.size}<br>Ratings by Percent=%{y}<extra></extra>\", \"hovertext\": [\"Prime Video Action\", \"Prime Video Adventure\", \"Prime Video Comedy\", \"Prime Video Documentary\", \"Prime Video Drama\", \"Prime Video Horror\", \"Prime Video Mystery\", \"Prime Video Romance\", \"Prime Video Thriller\"], \"ids\": [\"Action\", \"Adventure\", \"Comedy\", \"Documentary\", \"Drama\", \"Horror\", \"Mystery\", \"Romance\", \"Thriller\"], \"legendgroup\": \"16+\", \"marker\": {\"color\": \"#ab63fa\", \"size\": [5.0, 6.0, 14.0, 15.0, 25.0, 12.0, 5.0, 6.0, 14.0], \"sizemode\": \"area\", \"sizeref\": 1.6725, \"symbol\": \"circle\"}, \"mode\": \"markers\", \"name\": \"16+\", \"orientation\": \"v\", \"showlegend\": true, \"x\": [5.0, 6.0, 14.0, 15.0, 25.0, 12.0, 5.0, 6.0, 14.0], \"xaxis\": \"x\", \"y\": [42.0, 49.0, 51.32142857142857, 76.5, 71.0, 48.791666666666664, 62.2, 49.0, 55.57142857142857], \"yaxis\": \"y\", \"type\": \"scatter\"}, {\"hovertemplate\": \"<b>%{hovertext}</b><br><br>Age=18+<br>Service=Prime Video<br>Total Movies=%{marker.size}<br>Ratings by Percent=%{y}<extra></extra>\", \"hovertext\": [\"Prime Video Action\", \"Prime Video Adventure\", \"Prime Video Comedy\", \"Prime Video Documentary\", \"Prime Video Drama\", \"Prime Video Horror\", \"Prime Video Mystery\", \"Prime Video Romance\", \"Prime Video Thriller\"], \"ids\": [\"Action\", \"Adventure\", \"Comedy\", \"Documentary\", \"Drama\", \"Horror\", \"Mystery\", \"Romance\", \"Thriller\"], \"legendgroup\": \"18+\", \"marker\": {\"color\": \"#FFA15A\", \"size\": [136.0, 48.0, 322.0, 52.0, 669.0, 220.0, 136.0, 178.0, 366.0], \"sizemode\": \"area\", \"sizeref\": 1.6725, \"symbol\": \"circle\"}, \"mode\": \"markers\", \"name\": \"18+\", \"orientation\": \"v\", \"showlegend\": true, \"x\": [136.0, 48.0, 322.0, 52.0, 669.0, 220.0, 136.0, 178.0, 366.0], \"xaxis\": \"x\", \"y\": [54.12132352941177, 55.458333333333336, 56.24068322981366, 74.83653846153847, 61.158445440956655, 55.595454545454544, 58.720588235294116, 58.33426966292135, 57.047814207650276], \"yaxis\": \"y\", \"type\": \"scatter\"}], \"name\": \"Prime Video\"}]);\n",
       "                        }).then(function(){\n",
       "                            \n",
       "var gd = document.getElementById('2e4044e3-9492-4da1-aefe-5405c25d86ee');\n",
       "var x = new MutationObserver(function (mutations, observer) {{\n",
       "        var display = window.getComputedStyle(gd).display;\n",
       "        if (!display || display === 'none') {{\n",
       "            console.log([gd, 'removed!']);\n",
       "            Plotly.purge(gd);\n",
       "            observer.disconnect();\n",
       "        }}\n",
       "}});\n",
       "\n",
       "// Listen for the removal of the full notebook cells\n",
       "var notebookContainer = gd.closest('#notebook-container');\n",
       "if (notebookContainer) {{\n",
       "    x.observe(notebookContainer, {childList: true});\n",
       "}}\n",
       "\n",
       "// Listen for the clearing of the current output cell\n",
       "var outputEl = gd.closest('.output');\n",
       "if (outputEl) {{\n",
       "    x.observe(outputEl, {childList: true});\n",
       "}}\n",
       "\n",
       "                        })                };                });            </script>        </div>"
      ]
     },
     "metadata": {},
     "output_type": "display_data"
    }
   ],
   "source": [
    "# Wow, that really bought the chart to life. We can now see the different colors for the age groups, the sizes\n",
    "# also help to contextualize how large the collection is to one before looking at the x-axis. Lastly,\n",
    "# if you hover over the bubbles, you'll find that the name of the service is now included. It is helpful,\n",
    "# but it doesn't immediately communication what is being represented here. We can add a header directly to our\n",
    "# next figure when creating it, so we can clarify it's purpose.\n",
    "\n",
    "# We'll now want to build the final chart. This is where the \"animation\" comes in. Early on, I mentioned how\n",
    "# Plotly Express doesn't allow subplots like Plotly does. Depending on the use case, it might be more beneficial\n",
    "# To start a project with plotly.go instead of px. In this scenario, we actually give the illusion of sub\n",
    "# plots with a twist by using the animation features. Since this is categorical data, the play axis, usually\n",
    "# used with time axis, acts as our selection tool. It also plays, but the motion doesn't make too much sense\n",
    "# because it's just switching between the different categorical elements.\n",
    "\n",
    "\n",
    "# To enable our animation, We'll need both the animation frame and animation group.\n",
    "# Without the animation_frame parameter, animation_frame alone will not provide interactivity.\n",
    "\n",
    "final_fig = px.scatter(movies_final, \n",
    "                       x='Total Movies', \n",
    "                       y='Ratings by Percent',\n",
    "                       size='Total Movies',\n",
    "                       color='Age',\n",
    "                       animation_group='Genre',\n",
    "                       animation_frame='Service',\n",
    "                       hover_name='Service_Genre',\n",
    "                      title='Movie Ratings by Service, Genre, Age')\n",
    "final_fig.show(renderer='notebook_connected')"
   ]
  },
  {
   "cell_type": "markdown",
   "metadata": {},
   "source": [
    "Now, with service selection, movies can be compared by the amount of content available to the rating separately. If you click from Disney+ to Prime video, you can see that Prime Video and Netflix are two larger platforms, where Disney+ and Hulu have less.\n",
    "\n",
    "Another interesting point in this visualization is that there are lower ratings for some movies that have a larger selection. A plausible explanation could be:\n",
    "Given the popularity of a genre, a company will invest more money; thus more content gets release. As the content gets more exposure, there are more points where the content can be criticized. If the genre and content library stays small, it is possible that a niche audience is giving a lot of praise.\n",
    "\n",
    "A future step for me will be to investigate the movies I'm most interested in via the ratings from this chart, but I think I'll start on one of the the platforms first then come back to see if I agree with the ratings.\n",
    "\n",
    "Check out more Plotly Express examples here: https://plotly.com/python/plotly-express/"
   ]
  },
  {
   "cell_type": "code",
   "execution_count": null,
   "metadata": {},
   "outputs": [],
   "source": []
  }
 ],
 "metadata": {
  "kernelspec": {
   "display_name": "Python 3",
   "language": "python",
   "name": "python3"
  },
  "language_info": {
   "codemirror_mode": {
    "name": "ipython",
    "version": 3
   },
   "file_extension": ".py",
   "mimetype": "text/x-python",
   "name": "python",
   "nbconvert_exporter": "python",
   "pygments_lexer": "ipython3",
   "version": "3.9.2"
  }
 },
 "nbformat": 4,
 "nbformat_minor": 4
}
