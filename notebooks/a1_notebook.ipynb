{
  "nbformat": 4,
  "nbformat_minor": 0,
  "metadata": {
    "colab": {
      "name": "a1_notebook.ipynb",
      "provenance": [],
      "collapsed_sections": [],
      "mount_file_id": "1NWJMKZZwSIvEgwzR0nrKO-zy0tiVtv_5",
      "authorship_tag": "ABX9TyOtG9fYKUzzbup2UQV+eUYd",
      "include_colab_link": true
    },
    "kernelspec": {
      "name": "python3",
      "display_name": "Python 3"
    },
    "language_info": {
      "name": "python"
    }
  },
  "cells": [
    {
      "cell_type": "markdown",
      "metadata": {
        "id": "view-in-github",
        "colab_type": "text"
      },
      "source": [
        "<a href=\"https://colab.research.google.com/github/tiaaburton/2021-Visualization-Projects/blob/main/notebooks/a1_notebook.ipynb\" target=\"_parent\"><img src=\"https://colab.research.google.com/assets/colab-badge.svg\" alt=\"Open In Colab\"/></a>"
      ]
    },
    {
      "cell_type": "code",
      "source": [
        "from google.colab import drive\n",
        "drive.mount('/content/drive')"
      ],
      "metadata": {
        "colab": {
          "base_uri": "https://localhost:8080/"
        },
        "id": "8xmGL6kAav-u",
        "outputId": "87658dd3-5205-4719-8b02-75880459d188"
      },
      "execution_count": 2,
      "outputs": [
        {
          "output_type": "stream",
          "name": "stdout",
          "text": [
            "Drive already mounted at /content/drive; to attempt to forcibly remount, call drive.mount(\"/content/drive\", force_remount=True).\n"
          ]
        }
      ]
    },
    {
      "cell_type": "code",
      "source": [
        "! pip install pyspark --quiet\n",
        "! pip install plotly --quiet\n",
        "! pip install chart_studio --quiet\n",
        "! pip install mlflow --quiet\n",
        "! pip install spark_sklearn --quiet"
      ],
      "metadata": {
        "colab": {
          "base_uri": "https://localhost:8080/"
        },
        "id": "7AYBIUcSa46S",
        "outputId": "894de2ab-a237-4863-bf57-2ba97a97bc92"
      },
      "execution_count": 3,
      "outputs": [
        {
          "output_type": "stream",
          "name": "stdout",
          "text": [
            "\u001b[K     |████████████████████████████████| 281.4 MB 36 kB/s \n",
            "\u001b[K     |████████████████████████████████| 198 kB 58.1 MB/s \n",
            "\u001b[?25h  Building wheel for pyspark (setup.py) ... \u001b[?25l\u001b[?25hdone\n",
            "\u001b[K     |████████████████████████████████| 64 kB 1.9 MB/s \n",
            "\u001b[?25h  Building wheel for retrying (setup.py) ... \u001b[?25l\u001b[?25hdone\n",
            "\u001b[K     |████████████████████████████████| 17.8 MB 4.3 MB/s \n",
            "\u001b[K     |████████████████████████████████| 181 kB 60.8 MB/s \n",
            "\u001b[K     |████████████████████████████████| 210 kB 65.2 MB/s \n",
            "\u001b[K     |████████████████████████████████| 79 kB 10.4 MB/s \n",
            "\u001b[K     |████████████████████████████████| 596 kB 53.6 MB/s \n",
            "\u001b[K     |████████████████████████████████| 146 kB 73.7 MB/s \n",
            "\u001b[K     |████████████████████████████████| 62 kB 886 kB/s \n",
            "\u001b[K     |████████████████████████████████| 54 kB 3.3 MB/s \n",
            "\u001b[K     |████████████████████████████████| 63 kB 2.2 MB/s \n",
            "\u001b[K     |████████████████████████████████| 78 kB 8.9 MB/s \n",
            "\u001b[?25h  Building wheel for databricks-cli (setup.py) ... \u001b[?25l\u001b[?25hdone\n",
            "\u001b[K     |████████████████████████████████| 4.9 MB 6.3 MB/s \n",
            "\u001b[?25h  Building wheel for spark-sklearn (setup.py) ... \u001b[?25l\u001b[?25hdone\n",
            "\u001b[31mERROR: pip's dependency resolver does not currently take into account all the packages that are installed. This behaviour is the source of the following dependency conflicts.\n",
            "yellowbrick 1.4 requires scikit-learn>=1.0.0, but you have scikit-learn 0.19.2 which is incompatible.\n",
            "imbalanced-learn 0.8.1 requires scikit-learn>=0.24, but you have scikit-learn 0.19.2 which is incompatible.\u001b[0m\n"
          ]
        }
      ]
    },
    {
      "cell_type": "code",
      "source": [
        "# !pip install -r requirements.txt"
      ],
      "metadata": {
        "id": "vg001LK8GVgt"
      },
      "execution_count": 4,
      "outputs": []
    },
    {
      "cell_type": "code",
      "execution_count": 5,
      "metadata": {
        "id": "Mjw6Q2RoZLhi",
        "colab": {
          "base_uri": "https://localhost:8080/"
        },
        "outputId": "8a6eaa60-0e09-4637-a417-d72640f2bddf"
      },
      "outputs": [
        {
          "output_type": "stream",
          "name": "stderr",
          "text": [
            "/usr/local/lib/python3.7/dist-packages/sklearn/linear_model/least_angle.py:35: DeprecationWarning: `np.float` is a deprecated alias for the builtin `float`. To silence this warning, use `float` by itself. Doing this will not modify any behavior and is safe. If you specifically wanted the numpy scalar type, use `np.float64` here.\n",
            "Deprecated in NumPy 1.20; for more details and guidance: https://numpy.org/devdocs/release/1.20.0-notes.html#deprecations\n",
            "  eps=np.finfo(np.float).eps,\n",
            "/usr/local/lib/python3.7/dist-packages/sklearn/linear_model/least_angle.py:597: DeprecationWarning: `np.float` is a deprecated alias for the builtin `float`. To silence this warning, use `float` by itself. Doing this will not modify any behavior and is safe. If you specifically wanted the numpy scalar type, use `np.float64` here.\n",
            "Deprecated in NumPy 1.20; for more details and guidance: https://numpy.org/devdocs/release/1.20.0-notes.html#deprecations\n",
            "  eps=np.finfo(np.float).eps, copy_X=True, fit_path=True,\n",
            "/usr/local/lib/python3.7/dist-packages/sklearn/linear_model/least_angle.py:836: DeprecationWarning: `np.float` is a deprecated alias for the builtin `float`. To silence this warning, use `float` by itself. Doing this will not modify any behavior and is safe. If you specifically wanted the numpy scalar type, use `np.float64` here.\n",
            "Deprecated in NumPy 1.20; for more details and guidance: https://numpy.org/devdocs/release/1.20.0-notes.html#deprecations\n",
            "  eps=np.finfo(np.float).eps, copy_X=True, fit_path=True,\n",
            "/usr/local/lib/python3.7/dist-packages/sklearn/linear_model/least_angle.py:862: DeprecationWarning: `np.float` is a deprecated alias for the builtin `float`. To silence this warning, use `float` by itself. Doing this will not modify any behavior and is safe. If you specifically wanted the numpy scalar type, use `np.float64` here.\n",
            "Deprecated in NumPy 1.20; for more details and guidance: https://numpy.org/devdocs/release/1.20.0-notes.html#deprecations\n",
            "  eps=np.finfo(np.float).eps, positive=False):\n",
            "/usr/local/lib/python3.7/dist-packages/sklearn/linear_model/least_angle.py:1074: DeprecationWarning: `np.float` is a deprecated alias for the builtin `float`. To silence this warning, use `float` by itself. Doing this will not modify any behavior and is safe. If you specifically wanted the numpy scalar type, use `np.float64` here.\n",
            "Deprecated in NumPy 1.20; for more details and guidance: https://numpy.org/devdocs/release/1.20.0-notes.html#deprecations\n",
            "  max_n_alphas=1000, n_jobs=1, eps=np.finfo(np.float).eps,\n",
            "/usr/local/lib/python3.7/dist-packages/sklearn/linear_model/least_angle.py:1306: DeprecationWarning: `np.float` is a deprecated alias for the builtin `float`. To silence this warning, use `float` by itself. Doing this will not modify any behavior and is safe. If you specifically wanted the numpy scalar type, use `np.float64` here.\n",
            "Deprecated in NumPy 1.20; for more details and guidance: https://numpy.org/devdocs/release/1.20.0-notes.html#deprecations\n",
            "  max_n_alphas=1000, n_jobs=1, eps=np.finfo(np.float).eps,\n",
            "/usr/local/lib/python3.7/dist-packages/sklearn/linear_model/least_angle.py:1442: DeprecationWarning: `np.float` is a deprecated alias for the builtin `float`. To silence this warning, use `float` by itself. Doing this will not modify any behavior and is safe. If you specifically wanted the numpy scalar type, use `np.float64` here.\n",
            "Deprecated in NumPy 1.20; for more details and guidance: https://numpy.org/devdocs/release/1.20.0-notes.html#deprecations\n",
            "  eps=np.finfo(np.float).eps, copy_X=True, positive=False):\n",
            "/usr/local/lib/python3.7/dist-packages/sklearn/linear_model/randomized_l1.py:152: DeprecationWarning: `np.float` is a deprecated alias for the builtin `float`. To silence this warning, use `float` by itself. Doing this will not modify any behavior and is safe. If you specifically wanted the numpy scalar type, use `np.float64` here.\n",
            "Deprecated in NumPy 1.20; for more details and guidance: https://numpy.org/devdocs/release/1.20.0-notes.html#deprecations\n",
            "  precompute=False, eps=np.finfo(np.float).eps,\n",
            "/usr/local/lib/python3.7/dist-packages/sklearn/linear_model/randomized_l1.py:318: DeprecationWarning: `np.float` is a deprecated alias for the builtin `float`. To silence this warning, use `float` by itself. Doing this will not modify any behavior and is safe. If you specifically wanted the numpy scalar type, use `np.float64` here.\n",
            "Deprecated in NumPy 1.20; for more details and guidance: https://numpy.org/devdocs/release/1.20.0-notes.html#deprecations\n",
            "  eps=np.finfo(np.float).eps, random_state=None,\n",
            "/usr/local/lib/python3.7/dist-packages/sklearn/linear_model/randomized_l1.py:575: DeprecationWarning: `np.float` is a deprecated alias for the builtin `float`. To silence this warning, use `float` by itself. Doing this will not modify any behavior and is safe. If you specifically wanted the numpy scalar type, use `np.float64` here.\n",
            "Deprecated in NumPy 1.20; for more details and guidance: https://numpy.org/devdocs/release/1.20.0-notes.html#deprecations\n",
            "  eps=4 * np.finfo(np.float).eps, n_jobs=1,\n"
          ]
        }
      ],
      "source": [
        "import pandas as pd\n",
        "import numpy as np\n",
        "import re\n",
        "import os\n",
        "import sys\n",
        "import ast\n",
        "import json\n",
        "import random\n",
        "import pyarrow\n",
        "import sklearn\n",
        "import time\n",
        "\n",
        "from google.cloud import bigquery\n",
        "# from oauth2client.client import GoogleCredentials\n",
        "from google.colab import auth, files\n",
        "from datetime import datetime\n",
        "from tqdm import tqdm\n",
        "from typing import Union\n",
        "from spark_sklearn import Converter\n",
        "\n",
        "import pyspark\n",
        "from pyspark.sql.window import Window\n",
        "from pyspark.sql.functions import *\n",
        "from pyspark.sql import SparkSession\n",
        "from pyspark.ml import *\n",
        "from pyspark.ml.tuning import ParamGridBuilder, CrossValidator\n",
        "from pyspark.ml.classification import *\n",
        "from pyspark.ml.feature import *\n",
        "from pyspark.ml.evaluation import BinaryClassificationEvaluator\n",
        "from pyspark.sql import SQLContext\n",
        "from pyspark.mllib.evaluation import MulticlassMetrics\n",
        "\n",
        "from sklearn.dummy import DummyClassifier\n",
        "from sklearn.model_selection import cross_val_score\n",
        "from sklearn.metrics import recall_score, roc_auc_score\n",
        "\n",
        "import chart_studio.plotly as py\n",
        "import plotly.graph_objs as go\n",
        "import seaborn as sns\n",
        "import matplotlib.pyplot as plt\n",
        "\n",
        "import mlflow"
      ]
    },
    {
      "cell_type": "code",
      "source": [
        "RANDOM_SEED = 655"
      ],
      "metadata": {
        "id": "_p96T5Bj0ZjU"
      },
      "execution_count": 6,
      "outputs": []
    },
    {
      "cell_type": "code",
      "source": [
        "def pyspark_column_prep(dataset):\n",
        "  \"\"\"Returns column names with underscores instead of periods to use easily with pyspark.\n",
        "     dataset: pd.DataFrame\"\"\"\n",
        "  for col in dataset.columns:\n",
        "    if '.' in col:\n",
        "      repl = col.replace('.','_')\n",
        "      dataset.rename(columns={col: repl},inplace=True)\n",
        "\n",
        "  return dataset"
      ],
      "metadata": {
        "id": "DtCxfgeECJ5f"
      },
      "execution_count": 7,
      "outputs": []
    },
    {
      "cell_type": "code",
      "source": [
        "a1_b2_dataset = pd.read_csv(\n",
        "    '/content/drive/Shareddrives/SIADS - 694-695 Team Drive/datasets/model_files/A1_B2_data.csv'\n",
        "    )\n",
        "\n",
        "spark_ready_X = pyspark_column_prep(a1_b2_dataset)"
      ],
      "metadata": {
        "id": "jFw9nUvevXHt"
      },
      "execution_count": 8,
      "outputs": []
    },
    {
      "cell_type": "code",
      "source": [
        "# a1_b2_dataset.columns"
      ],
      "metadata": {
        "id": "KSLX2HjKUJBd"
      },
      "execution_count": 9,
      "outputs": []
    },
    {
      "cell_type": "code",
      "source": [
        "train = spark_ready_X[spark_ready_X.columns[~spark_ready_X.columns.isin([\n",
        "                                                                         'Monetary',\n",
        "                                                                         'buyers',\n",
        "                                                                         'Frequency',\n",
        "                                                                         'repurchasers',\n",
        "                                                                         'Recency',\n",
        "                                                                         'socialEngagementType',\n",
        "                                                                         'total_transactions'\n",
        "                                                                         ])]]\n",
        "target = a1_b2_dataset[['totals_transactions']]\n",
        "target = target.totals_transactions.fillna(0.0).apply(lambda trans: trans if trans == 0.0 else 1.0)\n",
        "target = pd.Categorical(target)\n",
        "target = pd.Series(target)\n"
      ],
      "metadata": {
        "id": "XQVVfb00gISs"
      },
      "execution_count": 10,
      "outputs": []
    },
    {
      "cell_type": "code",
      "source": [
        "target.nunique()"
      ],
      "metadata": {
        "colab": {
          "base_uri": "https://localhost:8080/"
        },
        "id": "dM3IA60E_8RU",
        "outputId": "62855282-7cd4-44b2-ce80-d18e2f6c9753"
      },
      "execution_count": 11,
      "outputs": [
        {
          "output_type": "execute_result",
          "data": {
            "text/plain": [
              "2"
            ]
          },
          "metadata": {},
          "execution_count": 11
        }
      ]
    },
    {
      "cell_type": "markdown",
      "source": [
        "### Visualizations and Assumption Validation"
      ],
      "metadata": {
        "id": "YIEyY2lc2U0q"
      }
    },
    {
      "cell_type": "code",
      "source": [
        "mask = np.triu(np.ones_like(train.corr()))\n",
        "dataplot = sns.heatmap(train.corr(), cmap=\"YlGnBu\", annot=False, mask=mask)\n",
        "plt.show() # need to increase the size of the image that I have in this chargt"
      ],
      "metadata": {
        "colab": {
          "base_uri": "https://localhost:8080/",
          "height": 451
        },
        "id": "HHbL9tTVEaN6",
        "outputId": "1258410c-e444-4c22-b3b4-a504d9e31a97"
      },
      "execution_count": 12,
      "outputs": [
        {
          "output_type": "display_data",
          "data": {
            "text/plain": [
              "<Figure size 432x288 with 2 Axes>"
            ],
            "image/png": "[encoded data removed]"
          },
          "metadata": {
            "needs_background": "light"
          }
        }
      ]
    },
    {
      "cell_type": "markdown",
      "source": [
        "## PySpark Models\n",
        "\n",
        "1. Create a spark session\n",
        "2. If you have not exited the last Spark session, it will remain open. To forcible start a new session, with new environment variables, run the newSession() method.\n",
        "3.Change the s"
      ],
      "metadata": {
        "id": "TSHvMTMx9sAs"
      }
    },
    {
      "cell_type": "code",
      "source": [
        "spark = SparkSession.builder \\\n",
        "    .master(\"local[*]\") \\\n",
        "    .appName(\"Binary Buyer Prediction\") \\\n",
        "    .getOrCreate()"
      ],
      "metadata": {
        "id": "z-mq7l5abJJP"
      },
      "execution_count": 13,
      "outputs": []
    },
    {
      "cell_type": "code",
      "source": [
        "spark.newSession()"
      ],
      "metadata": {
        "colab": {
          "base_uri": "https://localhost:8080/",
          "height": 221
        },
        "id": "rOpnSlEF1r2K",
        "outputId": "f71eb4d0-20fe-4ab3-bd4b-14d2f1caafdf"
      },
      "execution_count": 14,
      "outputs": [
        {
          "output_type": "execute_result",
          "data": {
            "text/plain": [
              "<pyspark.sql.session.SparkSession at 0x7f2eff3e2ad0>"
            ],
            "text/html": [
              "\n",
              "            <div>\n",
              "                <p><b>SparkSession - in-memory</b></p>\n",
              "                \n",
              "        <div>\n",
              "            <p><b>SparkContext</b></p>\n",
              "\n",
              "            <p><a href=\"http://51d6232739d9:4040\">Spark UI</a></p>\n",
              "\n",
              "            <dl>\n",
              "              <dt>Version</dt>\n",
              "                <dd><code>v3.2.1</code></dd>\n",
              "              <dt>Master</dt>\n",
              "                <dd><code>local[*]</code></dd>\n",
              "              <dt>AppName</dt>\n",
              "                <dd><code>Binary Buyer Prediction</code></dd>\n",
              "            </dl>\n",
              "        </div>\n",
              "        \n",
              "            </div>\n",
              "        "
            ]
          },
          "metadata": {},
          "execution_count": 14
        }
      ]
    },
    {
      "cell_type": "code",
      "source": [
        "train_spark = (spark.createDataFrame(a1_b2_dataset)\n",
        "                    .withColumnRenamed('totals_transactions','label')\n",
        "                    .withColumn('day', dayofmonth('date'))\n",
        "                    .withColumn('year', year('date'))\n",
        "                    .withColumn('month', month('date'))\n",
        "                    .withColumn('week_day', dayofweek('date'))\n",
        "                    .drop('date','socialEngagementType','buyers',\n",
        "                          'Monetary','Frequency', 'repurchasers'))"
      ],
      "metadata": {
        "id": "H6eDwMV-Co_n"
      },
      "execution_count": 15,
      "outputs": []
    },
    {
      "cell_type": "markdown",
      "source": [
        "### Methodology:\n",
        "Transformations:\n",
        "- PCA: since there was high correlation seen between a number of the measures, I decided that testing the models with less features, while all the same being equally representative of the variance of the data, would be work trying to understand the results various results.\n",
        "- Date transformations (day of month, month, week number, year): could be some seasonal patterns that are captured by the model such as holidays or around the end of summer when new grads / hires are going Google or its subsidaries.\n",
        "- Under / order sampling: \n",
        "  - Under sampling - using the same number of customers / visits labels\n",
        "  - Over (up) sampling - creating duplicates or other examples to provide the dataset with more examples to be able the same number as the other class\n",
        "- Train, (val), test: The dataset will be split with a .75 / .25 data split to mimic the sklearn train validation split. The training dataset will be used with benchmark models and \n",
        "\n",
        "*Ethical consideration*: continued to exclude fullvisitorid because it was not useful for understanding if a customer was likely to return or not.\n"
      ],
      "metadata": {
        "id": "o2rPYTppcpO3"
      }
    },
    {
      "cell_type": "code",
      "source": [
        "def downsampling(data):\n",
        "  df = data.withColumn('rand_col', rand())\n",
        "  balanced_data = df.withColumn(\"row_num\",row_number().over(Window.partitionBy(\"label\")\\\n",
        "                                                         .orderBy(\"rand_col\"))).filter(col(\"row_num\")<=label_balance.head(2)[1][1])\\\n",
        "                                                         .drop(\"rand_col\", \"row_num\")\n",
        "  return balanced_data\n",
        "\n",
        "def upsampling(data):\n",
        "  visitors = data.filter(col('label') == 0)\n",
        "  customers = data.filter(col('label') == 1)\n",
        "  newCustomers = customers.alias('newCustomers')\n",
        "\n",
        "  while newCustomers.count() < visitors.count():\n",
        "    newCustomers = newCustomers.unionByName(customers, allowMissingColumns=False)\n",
        "\n",
        "  balanced_data = newCustomers.unionByName(visitors)\n",
        "  return balanced_data\n",
        "\n",
        "def take_random_sample(data):\n",
        "  return data.sample(True, .1, RANDOM_SEED)"
      ],
      "metadata": {
        "id": "GDfDmZBPjyR4"
      },
      "execution_count": 16,
      "outputs": []
    },
    {
      "cell_type": "code",
      "source": [
        "unbalanced_df = train_spark.withColumn('label', when(col('label')==0.0, 0).otherwise(1.0))\n",
        "label_balance = unbalanced_df.select('label','year').groupBy('label').count()\n",
        "\n",
        "utrain_df = upsampling(unbalanced_df)\n",
        "dtrain_df = downsampling(unbalanced_df)\n",
        "random_df = take_random_sample(unbalanced_df)\n",
        "\n",
        "utdf = utrain_df.select('label').groupBy('label').count().withColumnRenamed('count','upsampling_count')\n",
        "dtdf = dtrain_df.select('label').groupBy('label').count().withColumnRenamed('count','downsampling_count')\n",
        "rdf = random_df.select('label').groupBy('label').count().withColumnRenamed('count','randsamp_count')\n",
        "\n",
        "(label_balance.join(utdf,how='inner',on='label')\n",
        "            .join(dtdf,how='inner',on='label')\n",
        "            .join(rdf,how='inner',on='label')).show()"
      ],
      "metadata": {
        "id": "Crt1gNJ1jxsN",
        "colab": {
          "base_uri": "https://localhost:8080/"
        },
        "outputId": "e9f88ac1-00f3-49d3-d485-63ef0b708c86"
      },
      "execution_count": 17,
      "outputs": [
        {
          "output_type": "stream",
          "name": "stdout",
          "text": [
            "+-----+-----+----------------+------------------+--------------+\n",
            "|label|count|upsampling_count|downsampling_count|randsamp_count|\n",
            "+-----+-----+----------------+------------------+--------------+\n",
            "|  1.0| 5865|           52785|              5865|           600|\n",
            "|  0.0|49516|           49516|              5865|          4828|\n",
            "+-----+-----+----------------+------------------+--------------+\n",
            "\n"
          ]
        }
      ]
    },
    {
      "cell_type": "markdown",
      "source": [
        "### T-Test: is the random sample of the same distribution as the first random sample"
      ],
      "metadata": {
        "id": "WVrlB5ogRRnL"
      }
    },
    {
      "cell_type": "markdown",
      "source": [
        "Models:\n",
        "- Logistic Regression (baseline model since pyspark doesn't have a dummy classifier)\n",
        "- SVC (recommended by imbalanced classes - a gentle intro...source?)\n",
        "- Decision Tree (more robust model)\n",
        "- Random Forest Classifier (most robust model for classification)\n",
        "\n",
        "Models not tested:\n",
        "Conditional probability as given by the Bayes Theorem. Some theory: https://www.youtube.com/watch?v=l3dZ6ZNFjo0.\n",
        "\n",
        "* Naive Bayes: PySpark implementation of the Naive Bayes model has a bernoulli variable that would be able to help predict the true and false values, but there are many articles that suggest this technique is best used for textual analysis, which we are not doing at this time. Another barrier of this model is the assumptions that all the features are independent, and this is not the case as we derived many of the features  \n",
        "\n",
        "\n",
        "Metrics:\n",
        " - LogLoss (MulticlassMetrics): could be utilized for the\n",
        "\n",
        " Tracking will be discussed later after all metrics are recorded into MLFlow with DAGsHub. This will be connected to the repository found on GitHub as well."
      ],
      "metadata": {
        "id": "2gnnl9mQmU0x"
      }
    },
    {
      "cell_type": "code",
      "source": [
        "X_train_balanced, X_test_balanced = unbalanced_df.randomSplit([0.9, 0.1], seed=RANDOM_SEED)\n",
        "X_train_upsample, X_test_upsample = utrain_df.randomSplit([0.9, 0.1], seed=RANDOM_SEED)\n",
        "X_train_dsample, X_test_dsample = dtrain_df.randomSplit([0.9, 0.1], seed=RANDOM_SEED)\n",
        "X_train_random, X_test_random  = random_df.randomSplit([0.9, 0.1], seed=RANDOM_SEED)"
      ],
      "metadata": {
        "id": "vBX6HFB_fzU5"
      },
      "execution_count": 18,
      "outputs": []
    },
    {
      "cell_type": "markdown",
      "source": [
        "not a major difference between the chosen number of components... \"best\" might be 9 components, but at this stage further PCA analysis would not increase the results"
      ],
      "metadata": {
        "id": "4n0FD1Jn1BMI"
      }
    },
    {
      "cell_type": "markdown",
      "source": [
        "### Model Tracking: DAGsHub and dvc\n",
        "\n",
        "Sought out the [MLflow Model Tracking Example in Google Colab](https://colab.research.google.com/drive/1BkNQpu1H3r-1ejNIaX4-fc2eNyBcGkEC?usp=sharing#scrollTo=LdSp3WikkbFk) example to observe how to keep the variables secret while allowing the model to be tracked in a persistent way. PyCaret offers other models that are state of the art. I will compare that as an aside at a later day.\n",
        "\n",
        "Installing DAGsHub and DVC to work with the automatic tracking that can be done in GitHub.\n",
        "\n"
      ],
      "metadata": {
        "id": "5V9MbAFT0rwn"
      }
    },
    {
      "cell_type": "code",
      "source": [
        "def pca_pipeline(training_data, test_data, model):\n",
        "  training_data = training_data.dropna()\n",
        "  evals = []\n",
        "  for n in range(1,11):\n",
        "    cols = [col for col in training_data.columns if (col not in set(['totals_transactions','label','fullVisitorId']))]\n",
        "    vec = VectorAssembler(inputCols=cols, outputCol='features', handleInvalid='skip')\n",
        "\n",
        "    pca = PCA(k=n, inputCol='features', outputCol='pca_features')\n",
        "    spark_lr = LogisticRegression(maxIter=100000, featuresCol='features',labelCol='label')\n",
        "\n",
        "    pipeline = Pipeline(stages=[vec, pca, spark_lr])\n",
        "    pipeline = pipeline.fit(training_data)\n",
        "    results = pipeline.transform(test_data)\\\n",
        "                      .select('features','pca_features','label', 'prediction', 'rawPrediction')\n",
        "    evals.append((pipeline, n, \n",
        "                  BinaryClassificationEvaluator().evaluate(results)))\n",
        "  return evals"
      ],
      "metadata": {
        "id": "6n7rNynmpCL7"
      },
      "execution_count": 19,
      "outputs": []
    },
    {
      "cell_type": "code",
      "source": [
        "def cv_model(model, train, test, param_grid=None, add_pca=False):\n",
        "  if not param_grid: paramGrid = ParamGridBuilder().build()\n",
        "    # .addGrid(model.regParam, [0.1, 0.05, 0.01])\\\n",
        "    # .build()\n",
        "\n",
        "  cols = [col for col in train.columns if (col not in set(['totals_transactions','label','fullVisitorId']))]\n",
        "  vec = VectorAssembler(inputCols=cols, outputCol='features', handleInvalid='skip')\n",
        "  evaluator = BinaryClassificationEvaluator()\n",
        "\n",
        "  pipeline = Pipeline(stages=[vec, model])\n",
        "  crossval = CrossValidator(estimator=pipeline,\n",
        "                            estimatorParamMaps=paramGrid,\n",
        "                            evaluator=evaluator,\n",
        "                            numFolds=10) \n",
        "  # increased the number of folds from 4 to 10 after initial testing as 10, time increased drastically\n",
        "  \n",
        "  crossval = crossval.fit(train)\n",
        "  best_model = crossval.bestModel.stages[1]\n",
        "  prediction = crossval.transform(test)\n",
        "  return best_model, crossval.getEvaluator().evaluate(prediction), prediction"
      ],
      "metadata": {
        "id": "eCWaxE9O1LDe"
      },
      "execution_count": 20,
      "outputs": []
    },
    {
      "cell_type": "code",
      "source": [
        "def get_information():\n",
        "  from getpass import getpass\n",
        "  os.environ['MLFLOW_TRACKING_USERNAME'] = input('Enter your DAGsHub username: ')\n",
        "  os.environ['MLFLOW_TRACKING_PASSWORD'] = getpass('Enter your DAGsHub access token: ')\n",
        "  os.environ['MLFLOW_TRACKING_PROJECTNAME'] = input('Enter your DAGsHub project name: ')\n",
        "  return\n",
        "\n",
        "def display_tracking_gui():\n",
        "  import IPython\n",
        "  display(IPython.display.IFrame(\"https://dagshub.com/\"+ os.environ['MLFLOW_TRACKING_USERNAME'] \n",
        "                          + '/' + os.environ['MLFLOW_TRACKING_PROJECTNAME'] + \"/experiments/#/\",'100%',600))\n",
        "  return\n",
        "\n",
        "def save_model(model, file_loc, model_name, sklearn_model=True):\n",
        "  if sklearn_model == True:\n",
        "    model = convert_model(model)\n",
        "    filename = f'a1_{model_name}_model.sav'\n",
        "    pickle.dump(model, open(filename, 'wb'))\n",
        "  else:\n",
        "    model.save(file_loc + '/' + model_name)\n",
        "  return\n",
        "\n",
        "def convert_model(spark_model):\n",
        "  conv = Converter(spark)\n",
        "  sklearn_model = conv.toSKLearn(spark_model)\n",
        "  return sklearn_model\n"
      ],
      "metadata": {
        "id": "aJB9Ur3t08Sb"
      },
      "execution_count": 1,
      "outputs": []
    },
    {
      "cell_type": "code",
      "source": [
        "spark_datasets = {\n",
        "    ('X_train_balanced', 'X_test_balanced'): (X_train_balanced, X_test_balanced),\n",
        "    ('X_train_upsample', 'X_test_upsample'): (X_train_upsample, X_test_upsample),\n",
        "    ('X_train_dsample', 'X_test_dsample'): (X_train_dsample, X_test_dsample),\n",
        "    ('X_train_random', 'X_test_random'): (X_train_random, X_test_random)\n",
        "}\n",
        "\n",
        "spark_models ={\n",
        "    'spark_lr': LogisticRegression(maxIter=100000, featuresCol='features',labelCol='label'),\n",
        "    'spark_dt': classification.DecisionTreeClassifier(labelCol=\"label\", featuresCol=\"features\"),\n",
        "    'spark_svc': LinearSVC(labelCol=\"label\", featuresCol=\"features\"),\n",
        "    'spark_rf': RandomForestClassifier(labelCol=\"label\", featuresCol=\"features\"),\n",
        "    'spark_nn': MultilayerPerceptronClassifier(maxIter=100000, labelCol=\"label\", featuresCol=\"features\")\n",
        "    }\n",
        "\n",
        "model_proba = {'with_proba': ['spark_lr', 'spark_dt', 'spark_rf'],\n",
        "               'without_proba': ['spark_svc']} #'spark_nn',"
      ],
      "metadata": {
        "id": "rbEyKDSo4VaW"
      },
      "execution_count": 108,
      "outputs": []
    },
    {
      "cell_type": "code",
      "source": [
        "# res = pca_pipeline(X_train_spark)"
      ],
      "metadata": {
        "id": "vG1fuw0ToMLl"
      },
      "execution_count": 109,
      "outputs": []
    },
    {
      "cell_type": "code",
      "source": [
        "def train_with_tracking(tracking:bool=False):\n",
        "  if tracking == True:\n",
        "    get_information()\n",
        "    mlflow.set_tracking_uri(f'https://dagshub.com/' + os.environ['MLFLOW_TRACKING_USERNAME'] \n",
        "                            + '/' + os.environ['MLFLOW_TRACKING_PROJECTNAME'] + '.mlflow')\n",
        "  count = 0\n",
        "  results = []\n",
        "  trained_models = []\n",
        "  evaluations = []\n",
        "\n",
        "  for proba_type in list(model_proba.keys()):\n",
        "    for model in model_proba[proba_type]:\n",
        "      for item in spark_datasets.items():\n",
        "        names, data = item\n",
        "        train_name, test_name = names\n",
        "        X_train, X_test = data\n",
        "        count += 1\n",
        "        \n",
        "        start_time = time.time()\n",
        "        trained_model, eval, pred_res = cv_model(spark_models[model],\n",
        "                                         X_train, X_test, param_grid=None, add_pca=False)\n",
        "        results.append(pred_res)\n",
        "        trained_models.append(trained_model)\n",
        "        save_model(trained_model, \n",
        "                   '/content/drive/Shareddrives/SIADS - 694-695 Team Drive/models',\n",
        "                   model,\n",
        "                   True)\n",
        "\n",
        "        other_metrics = MulticlassMetrics(pred_res)\n",
        "        precision = other_metrics.precision()\n",
        "        recall = other_metrics.recall()\n",
        "        f1Score = other_metrics.fMeasure()\n",
        "        evaluations.append((model, eval, precision,recall, f1Score))\n",
        "\n",
        "        if tracking == True:\n",
        "          try:\n",
        "            with mlflow.start_run(run_name=f\"MLflow on Colab: {time.time()}\"):\n",
        "              mlflow.log_params({\n",
        "                  \"tracking-platform\": \"mlflow-colab\",\n",
        "                  \"modelType\": model,\n",
        "                  \"inputFeatures\": \"a1_b1_dataset_date_expanded\",\n",
        "                  \"pcaFirst\": False,\n",
        "                  \"timeSpent\": (time.time()-start_time)\n",
        "              })\n",
        "              mlflow.log_metrics({\n",
        "                  \"auROC\": eval,\n",
        "                  \"recall\": recall,\n",
        "                  \"precision\": precision,\n",
        "                  \"f1Score\": f1Score\n",
        "              })\n",
        "          \n",
        "          except:\n",
        "            pass\n",
        "\n",
        "  display_tracking_gui()\n",
        "\n",
        "  return results, trained_models, evaluations\n"
      ],
      "metadata": {
        "id": "3YTF1o0r08vE"
      },
      "execution_count": 113,
      "outputs": []
    },
    {
      "cell_type": "code",
      "source": [
        "res, models, evals = train_with_tracking(tracking=True)"
      ],
      "metadata": {
        "colab": {
          "base_uri": "https://localhost:8080/",
          "height": 371
        },
        "id": "NzJX18u4DjVO",
        "outputId": "afd586a9-6cca-45d4-efaa-1ebfb5050c33"
      },
      "execution_count": 114,
      "outputs": [
        {
          "name": "stdout",
          "output_type": "stream",
          "text": [
            "Enter your DAGsHub username: tiaaburton\n",
            "Enter your DAGsHub access token: ··········\n",
            "Enter your DAGsHub project name: Milestone-II-Machine-Learning-Project\n"
          ]
        },
        {
          "output_type": "error",
          "ename": "AttributeError",
          "evalue": "ignored",
          "traceback": [
            "\u001b[0;31m---------------------------------------------------------------------------\u001b[0m",
            "\u001b[0;31mAttributeError\u001b[0m                            Traceback (most recent call last)",
            "\u001b[0;32m<ipython-input-114-9cf246066896>\u001b[0m in \u001b[0;36m<module>\u001b[0;34m()\u001b[0m\n\u001b[0;32m----> 1\u001b[0;31m \u001b[0mres\u001b[0m\u001b[0;34m,\u001b[0m \u001b[0mmodels\u001b[0m\u001b[0;34m,\u001b[0m \u001b[0mevals\u001b[0m \u001b[0;34m=\u001b[0m \u001b[0mtrain_with_tracking\u001b[0m\u001b[0;34m(\u001b[0m\u001b[0mtracking\u001b[0m\u001b[0;34m=\u001b[0m\u001b[0;32mTrue\u001b[0m\u001b[0;34m)\u001b[0m\u001b[0;34m\u001b[0m\u001b[0;34m\u001b[0m\u001b[0m\n\u001b[0m",
            "\u001b[0;32m<ipython-input-113-baca009d8dc6>\u001b[0m in \u001b[0;36mtrain_with_tracking\u001b[0;34m(tracking)\u001b[0m\n\u001b[1;32m     25\u001b[0m                    \u001b[0;34m'/content/drive/Shareddrives/SIADS - 694-695 Team Drive/models'\u001b[0m\u001b[0;34m,\u001b[0m\u001b[0;34m\u001b[0m\u001b[0;34m\u001b[0m\u001b[0m\n\u001b[1;32m     26\u001b[0m                    \u001b[0mmodel\u001b[0m\u001b[0;34m,\u001b[0m\u001b[0;34m\u001b[0m\u001b[0;34m\u001b[0m\u001b[0m\n\u001b[0;32m---> 27\u001b[0;31m                    True)\n\u001b[0m\u001b[1;32m     28\u001b[0m \u001b[0;34m\u001b[0m\u001b[0m\n\u001b[1;32m     29\u001b[0m         \u001b[0mother_metrics\u001b[0m \u001b[0;34m=\u001b[0m \u001b[0mMulticlassMetrics\u001b[0m\u001b[0;34m(\u001b[0m\u001b[0mpred_res\u001b[0m\u001b[0;34m)\u001b[0m\u001b[0;34m\u001b[0m\u001b[0;34m\u001b[0m\u001b[0m\n",
            "\u001b[0;32m<ipython-input-112-aa8d917c78a4>\u001b[0m in \u001b[0;36msave_model\u001b[0;34m(model, file_loc, model_name, sklearn_model)\u001b[0m\n\u001b[1;32m     15\u001b[0m   \u001b[0;32mif\u001b[0m \u001b[0msklearn_model\u001b[0m \u001b[0;34m==\u001b[0m \u001b[0;32mTrue\u001b[0m\u001b[0;34m:\u001b[0m\u001b[0;34m\u001b[0m\u001b[0;34m\u001b[0m\u001b[0m\n\u001b[1;32m     16\u001b[0m     \u001b[0mmodel\u001b[0m \u001b[0;34m=\u001b[0m \u001b[0mconvert_model\u001b[0m\u001b[0;34m(\u001b[0m\u001b[0mmodel\u001b[0m\u001b[0;34m)\u001b[0m\u001b[0;34m\u001b[0m\u001b[0;34m\u001b[0m\u001b[0m\n\u001b[0;32m---> 17\u001b[0;31m   \u001b[0mmodel\u001b[0m\u001b[0;34m.\u001b[0m\u001b[0msave\u001b[0m\u001b[0;34m(\u001b[0m\u001b[0mfile_loc\u001b[0m \u001b[0;34m+\u001b[0m \u001b[0;34m'/'\u001b[0m \u001b[0;34m+\u001b[0m \u001b[0mmodel_name\u001b[0m\u001b[0;34m)\u001b[0m\u001b[0;34m\u001b[0m\u001b[0;34m\u001b[0m\u001b[0m\n\u001b[0m\u001b[1;32m     18\u001b[0m   \u001b[0;32mreturn\u001b[0m\u001b[0;34m\u001b[0m\u001b[0;34m\u001b[0m\u001b[0m\n\u001b[1;32m     19\u001b[0m \u001b[0;34m\u001b[0m\u001b[0m\n",
            "\u001b[0;31mAttributeError\u001b[0m: 'LogisticRegression' object has no attribute 'save'"
          ]
        }
      ]
    },
    {
      "cell_type": "code",
      "source": [
        "display_results()"
      ],
      "metadata": {
        "id": "eE_gbJvmjHK7"
      },
      "execution_count": null,
      "outputs": []
    },
    {
      "cell_type": "markdown",
      "source": [
        "Early conclusions: Models on this dataset are overfit on the train/val dataset.\n",
        "\n",
        "While the SMOTE algorithm was available for this classification task, and could've potentially help speed up this library in this environment, but there wasn't a strong case to explore with the current dataset. That could be something to continue to explore as researcher have now (write about article below).\n",
        "\n",
        "More tuning is needed to completely test and understand the sensetivity of the model: maxIter=10, regParam=0.3, elasticNetParam=0.8, family=\"multinomial\"\n",
        "\n",
        "Archive:\n",
        "\n",
        "[Model type for saving](https://databricks.github.io/spark-sklearn-docs/)\n",
        "\n",
        "[Science Direct Article](https://www.sciencedirect.com/science/article/pii/S0925231221012832)"
      ],
      "metadata": {
        "id": "-uPZn2Za2nEP"
      }
    },
    {
      "cell_type": "code",
      "source": [
        "# filename = 'finalized_model.sav'\n",
        "# pickle.dump(model, open(filename, 'wb'))"
      ],
      "metadata": {
        "id": "MiGk_rgF-I_N"
      },
      "execution_count": null,
      "outputs": []
    }
  ]
}